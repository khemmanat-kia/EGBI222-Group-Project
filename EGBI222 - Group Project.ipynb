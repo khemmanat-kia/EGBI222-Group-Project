{
 "cells": [
  {
   "cell_type": "markdown",
   "id": "4b87567f",
   "metadata": {},
   "source": [
    "# ▶️ Part 1: **1st Person.ipynb**"
   ]
  },
  {
   "cell_type": "markdown",
   "id": "24343da966402fcb",
   "metadata": {
    "id": "33cgVgpkejPR"
   },
   "source": [
    "# Shard 1 (0-25%)"
   ]
  },
  {
   "cell_type": "code",
   "execution_count": null,
   "id": "540127fcf8708b7a",
   "metadata": {
    "colab": {
     "background_save": true,
     "base_uri": "https://localhost:8080/"
    },
    "id": "lA1k4I8HrWtJ",
    "outputId": "d6b63ebf-db43-4a0a-c18a-de11deee988e"
   },
   "outputs": [
    {
     "name": "stdout",
     "output_type": "stream",
     "text": [
      "     ━━━━━━━━━━━━━━━━━━━━━━━━━━━━━━━━━━━━━━ 981.5/981.5 kB 10.8 MB/s eta 0:00:00\n",
      "\u001b[?25h  Preparing metadata (setup.py) ... \u001b[?25l\u001b[?25hdone\n",
      "   ━━━━━━━━━━━━━━━━━━━━━━━━━━━━━━━━━━━━━━━━ 485.1/485.1 kB 19.4 MB/s eta 0:00:00\n",
      "\u001b[?25h  Building wheel for langdetect (setup.py) ... \u001b[?25l\u001b[?25hdone\n",
      "Drive not mounted, so nothing to flush and unmount.\n",
      "Mounted at /content/drive\n",
      "Google Drive mounted successfully.\n"
     ]
    }
   ],
   "source": [
    "!pip install -q youtube-transcript-api pandas numpy matplotlib seaborn langdetect tqdm\n",
    "from google.colab import drive\n",
    "import os\n",
    "\n",
    "if not os.path.exists('/content/drive/My Drive'):\n",
    "    try:\n",
    "      drive.flush_and_unmount()\n",
    "    except ValueError:\n",
    "      pass\n",
    "    if os.path.exists('/content/drive'):\n",
    "        !rm -rf /content/drive\n",
    "    drive.mount('/content/drive', force_remount=True)\n",
    "    print(\"Google Drive mounted successfully.\")\n",
    "else:\n",
    "    print(\"Google Drive is already mounted.\")"
   ]
  },
  {
   "cell_type": "markdown",
   "id": "a4472c661a90bc53",
   "metadata": {
    "id": "RGIWSxi2r7-p"
   },
   "source": [
    "Pathway"
   ]
  },
  {
   "cell_type": "code",
   "execution_count": null,
   "id": "20c015203b556dc8",
   "metadata": {
    "colab": {
     "background_save": true
    },
    "id": "zGV3F0fBr-cM",
    "outputId": "a4494f75-4eb1-4c40-cf52-3380c7a3a287"
   },
   "outputs": [
    {
     "name": "stdout",
     "output_type": "stream",
     "text": [
      "Base file folder set to: /content/drive/MyDrive/Final EGBI222 Group Project\n",
      "Chunks folder set to: /content/drive/MyDrive/Final EGBI222 Group Project/chunks\n"
     ]
    }
   ],
   "source": [
    "import os, math, pandas as pd, numpy as np\n",
    "BASE = \"/content/drive/MyDrive/Final EGBI222 Group Project\"\n",
    "CHUNK = f\"{BASE}/chunks\"; os.makedirs(CHUNK, exist_ok=True)\n",
    "print(f\"Base file folder set to: {BASE}\")\n",
    "print(f\"Chunks folder set to: {CHUNK}\")"
   ]
  },
  {
   "cell_type": "markdown",
   "id": "3740b7252178264d",
   "metadata": {
    "id": "jvKOS8rAsEXp"
   },
   "source": [
    "Load Dataset"
   ]
  },
  {
   "cell_type": "code",
   "execution_count": null,
   "id": "f2fcd9b38d774335",
   "metadata": {
    "colab": {
     "background_save": true
    },
    "id": "l75pY_CtsD8D"
   },
   "outputs": [],
   "source": [
    "CSV = f\"{BASE}/youtube_data.csv\"\n",
    "df = pd.read_csv(CSV).copy()\n",
    "if 'video_id_clean' not in df.columns and 'video_id' in df.columns:\n",
    "    df['video_id_clean'] = df['video_id'].astype(str)\n",
    "ID = 'video_id_clean' if 'video_id_clean' in df.columns else 'video_id'\n",
    "df = df.reset_index(drop=True); df['row_no'] = df.index + 1"
   ]
  },
  {
   "cell_type": "markdown",
   "id": "40d1f9c2e8435dfd",
   "metadata": {
    "id": "-H0wT82pshp2"
   },
   "source": [
    "Quater1 slice"
   ]
  },
  {
   "cell_type": "code",
   "execution_count": null,
   "id": "de8669061c6b27e8",
   "metadata": {
    "colab": {
     "background_save": true
    },
    "id": "27JFDflVsjYx",
    "outputId": "094b3c36-43cf-4f28-95ef-71e6201c813f"
   },
   "outputs": [
    {
     "name": "stdout",
     "output_type": "stream",
     "text": [
      "P1 rows 1-4398/17589 → 4398\n"
     ]
    }
   ],
   "source": [
    "N = len(df); q1 = math.ceil(N/4)\n",
    "lo, hi = 1, q1\n",
    "df_small = df[(df['row_no']>=lo)&(df['row_no']<=hi)].copy().reset_index(drop=True)\n",
    "print(f\"P1 rows {lo}-{hi}/{N} → {len(df_small)}\")"
   ]
  },
  {
   "cell_type": "markdown",
   "id": "8fe5b2b38398fd6c",
   "metadata": {
    "id": "4HeqqouAsl7A"
   },
   "source": [
    "Captions"
   ]
  },
  {
   "cell_type": "code",
   "execution_count": null,
   "id": "2be5ce49bf0f90ae",
   "metadata": {
    "colab": {
     "background_save": true
    },
    "id": "vJFuW8mispEE",
    "outputId": "7d3e0120-3cd3-44a9-eee0-e2f09e119700"
   },
   "outputs": [
    {
     "name": "stdout",
     "output_type": "stream",
     "text": [
      "P1 captions: 100%|██████████| 4398/4398 [00:00<00:00, 147347.25it/s]\n"
     ]
    }
   ],
   "source": [
    "from youtube_transcript_api import YouTubeTranscriptApi, TranscriptsDisabled, NoTranscriptFound, VideoUnavailable\n",
    "from concurrent.futures import ThreadPoolExecutor, as_completed\n",
    "from langdetect import detect\n",
    "from tqdm import tqdm\n",
    "\n",
    "def fetch_cap(vid):\n",
    "    vid = str(vid)\n",
    "    try:\n",
    "        trs = YouTubeTranscriptApi.list_transcripts(vid)\n",
    "        text = \"\"\n",
    "        lang = 'unknown'\n",
    "        source = 'yt_caption'\n",
    "\n",
    "        try:\n",
    "            tr = trs.find_transcript(['en'])\n",
    "            lang = 'en'\n",
    "            segs = tr.fetch()\n",
    "            text = \" \".join(s.get('text','') for s in segs if s.get('text'))\n",
    "        except NoTranscriptFound:\n",
    "            try:\n",
    "                tr = next(iter(trs))\n",
    "                lang = tr.language_code or 'unknown'\n",
    "                segs = tr.fetch()\n",
    "                text = \" \".join(s.get('text','') for s in segs if s.get('text'))\n",
    "            except Exception:\n",
    "                text = \"\"\n",
    "                lang = \"unknown\"\n",
    "                source = \"no_caption\"\n",
    "        except Exception:\n",
    "             text = \"\"\n",
    "             lang = \"unknown\"\n",
    "             source = \"no_caption\"\n",
    "\n",
    "\n",
    "        lg = 'unknown'\n",
    "        if text.strip():\n",
    "            try: lg = detect(text)\n",
    "            except: lg = lang or 'unknown'\n",
    "        return vid, text, lg, source\n",
    "    except (TranscriptsDisabled, NoTranscriptFound, VideoUnavailable, Exception):\n",
    "        return vid, \"\", \"unknown\", \"no_caption\"\n",
    "\n",
    "vids = df_small[ID].astype(str).tolist()\n",
    "rows = []\n",
    "with ThreadPoolExecutor(max_workers=32) as ex:\n",
    "    futs = {ex.submit(fetch_cap, v): v for v in vids}\n",
    "    for f in tqdm(as_completed(futs), total=len(futs), desc=\"P1 captions\"):\n",
    "        rows.append(f.result())\n",
    "\n",
    "cap = pd.DataFrame(rows, columns=[ID,'transcript','lang_guess','source'])\n",
    "out = df_small[[ID,'title','description'] if 'title' in df_small.columns or 'description' in df_small.columns else [ID]].merge(cap, on=ID, how='left')"
   ]
  },
  {
   "cell_type": "markdown",
   "id": "089eb84bbcc688bf",
   "metadata": {
    "id": "o3ifFFygs5pj"
   },
   "source": [
    "Metadata fallback (title/description)"
   ]
  },
  {
   "cell_type": "code",
   "execution_count": null,
   "id": "abd4ad2c6dbe0777",
   "metadata": {
    "colab": {
     "background_save": true
    },
    "id": "BTWKzZebs8VY"
   },
   "outputs": [],
   "source": [
    "title_col = 'title' if 'title' in df_small.columns else None\n",
    "desc_col  = 'description' if 'description' in df_small.columns else None\n",
    "if title_col or desc_col:\n",
    "    mask = (out['transcript'].isna()) | (out['transcript']==\"\")\n",
    "    if title_col and desc_col:\n",
    "        out.loc[mask,'transcript'] = (df_small.loc[mask, title_col].fillna('') + \" \" +\n",
    "                                      df_small.loc[mask, desc_col].fillna('')).str.strip()\n",
    "    elif title_col:\n",
    "        out.loc[mask,'transcript'] = df_small.loc[mask, title_col].fillna('')\n",
    "    elif desc_col:\n",
    "        out.loc[mask,'transcript'] = df_small.loc[mask, desc_col].fillna('')\n",
    "    out.loc[mask & (out['lang_guess'].isna() | (out['lang_guess']==\"unknown\")), 'lang_guess'] = 'unknown'\n",
    "    out.loc[mask & (out['source'].isna()), 'source'] = 'meta_fallback'\n",
    "\n",
    "mask_no_caption_no_meta = (out['source'] == 'no_caption') & ((out['transcript'].isna()) | (out['transcript']==\"\"))\n",
    "out.loc[mask_no_caption_no_meta, 'lang_guess'] = 'unknown'\n",
    "out.loc[mask_no_caption_no_meta, 'source'] = 'no_caption'"
   ]
  },
  {
   "cell_type": "markdown",
   "id": "4134dbf20ae1ec9e",
   "metadata": {
    "id": "NTcugdKStAn4"
   },
   "source": [
    "Save shard"
   ]
  },
  {
   "cell_type": "code",
   "execution_count": null,
   "id": "553e52911640ac17",
   "metadata": {
    "colab": {
     "background_save": true
    },
    "id": "0WP_j3xHtC9l",
    "outputId": "f4a3f63e-1778-4713-8534-358ecaeaf095"
   },
   "outputs": [
    {
     "name": "stdout",
     "output_type": "stream",
     "text": [
      "Saved shard: /content/drive/MyDrive/Final EGBI222 Group Project/chunks/transcripts_p1_1-4398.csv\n"
     ]
    }
   ],
   "source": [
    "shard = f\"{CHUNK}/transcripts_p1_{lo}-{hi}.csv\"; out.to_csv(shard, index=False); print(\"Saved shard:\", shard)"
   ]
  },
  {
   "cell_type": "markdown",
   "id": "2abdcc8692515cef",
   "metadata": {
    "id": "wmfr6DgP9p0B"
   },
   "source": [
    "Transcript to English"
   ]
  },
  {
   "cell_type": "code",
   "execution_count": null,
   "id": "ac4145069cdee3bd",
   "metadata": {
    "colab": {
     "background_save": true,
     "referenced_widgets": [
      "95c780854d5f45319186bc3862d5c35e",
      "fa65b690c7c3444a82b4d085ca6cb650",
      "b2fed5378b79419e81b5cce6d7c4c8d8",
      "60fbd68509d14ef8b3b08acf6490acac",
      "04ff7b48803843be97b791ffbef90ab7",
      "3e6dc7a6c7cd4599a42f0c736f804003",
      "f2bff14a1a854b4bb1e37af6d08fe3f1",
      "6ddd2418a3634c39a7237f95bddd5947",
      "0a55f2e9188845528992a24f36fde3da",
      "35bfca6605cb41d8b68450ce15995d7d",
      "d0319d669ed448249f21cce9f3df27b6",
      "f8a755dacc9c478bb1bff3024f9f5607",
      "b3eee13e86904fcca58b45caa5ccc8e2",
      "681601d5f30d48719c97f658ed3de166",
      "b13c188498144fc0b7cb43396e65bb50",
      "7d8adc723cbb4a0188bf343ae4a25c29",
      "e60961fdc1144e97b1d5d62e491c83a4",
      "e145ef7edbf945aba3c47e9287e404df",
      "7fabe2acb09644828b85a6114a321455",
      "e90ba1617ea34aaa916ba72e26e57975",
      "44cc0f951284476d9e848507a9737763",
      "ee7483ea93f649f7aa20bde67f0d35b7",
      "f614496962a84ed2acdaa155d8596640",
      "f85c939683ae444487a04df381357577",
      "8eba35889b3243bb93741b7c3921190b",
      "01b230d329644a2cb7b85abd364cf32b",
      "76fa12d1bd2a40b69e07280db2423286",
      "835403c709d441a08611382c9ea75408",
      "337a1f90bec7491d8788e4ca0f8fd33a",
      "292de3fa8a1f4d78b9d138bd041e6b6c",
      "55485980b3404eeb8d16f37a0d9d3ac4",
      "468fa455d32a4bcd9e07fb8ec0fb937b",
      "afb218c1a17348c49f16b05820039818",
      "ceb6a69fb60844ffa5d59460c933ca27",
      "ee004e9fabf141069bd54050cfbe2459",
      "a8b0925b70bb4ad28bed25854942d9cd",
      "f8c06169de084f70a7c2f27174d76d0e",
      "d6473cf55c8e45879c381e5fe4374f33",
      "38699c767d984a28ae83ea284111df3d",
      "12965a662c4940eea85e5550f2fe9c98",
      "85b0c67e21464109bd7c822eced7be13",
      "3af44420c001440883bb9f51357adec1",
      "a5e20af51c604e7ca4445806cb6a02b8",
      "25c4e1b9ab2346438c84345480abf96d",
      "ffe6f614269a41dfba08f8c2cdc869d9"
     ]
    },
    "id": "hSZp14Fm5hgf",
    "outputId": "06a808b6-5302-467c-db66-2e704d009f62"
   },
   "outputs": [
    {
     "name": "stdout",
     "output_type": "stream",
     "text": [
      "     ━━━━━━━━━━━━━━━━━━━━━━━━━━━━━━━━━━━━━━━━ 57.6/57.6 kB 2.7 MB/s eta 0:00:00\n",
      "   ━━━━━━━━━━━━━━━━━━━━━━━━━━━━━━━━━━━━━━━━ 42.3/42.3 kB 1.7 MB/s eta 0:00:00\n",
      "   ━━━━━━━━━━━━━━━━━━━━━━━━━━━━━━━━━━━━━━━━ 78.4/78.4 kB 4.0 MB/s eta 0:00:00\n",
      "\u001b[?25hERROR: pip's dependency resolver does not currently take into account all the packages that are installed. This behaviour is the source of the following dependency conflicts.\n",
      "dataproc-spark-connect 0.8.3 requires tqdm>=4.67, but you have tqdm 4.66.5 which is incompatible.\n",
      "Google Drive is already mounted.\n",
      "Input : /content/drive/MyDrive/Final EGBI222 Group Project/chunks/transcripts_p1_1-4398.csv\n",
      "Output: /content/drive/MyDrive/Final EGBI222 Group Project/chunk2/transcripts_en_p1_1-4398.csv\n",
      "Loaded rows: 4398\n"
     ]
    },
    {
     "data": {
      "application/vnd.jupyter.widget-view+json": {
       "model_id": "95c780854d5f45319186bc3862d5c35e",
       "version_major": 2,
       "version_minor": 0
      },
      "text/plain": [
       "Cleaning:   0%|          | 0/4398 [00:00<?, ?it/s]"
      ]
     },
     "metadata": {},
     "output_type": "display_data"
    },
    {
     "name": "stdout",
     "output_type": "stream",
     "text": [
      "Rows after cleaning: 4397\n"
     ]
    },
    {
     "data": {
      "application/vnd.jupyter.widget-view+json": {
       "model_id": "fa65b690c7c3444a82b4d085ca6cb650",
       "version_major": 2,
       "version_minor": 0
      },
      "text/plain": [
       "Detecting language:   0%|          | 0/4397 [00:00<?, ?it/s]"
      ]
     },
     "metadata": {},
     "output_type": "display_data"
    },
    {
     "name": "stdout",
     "output_type": "stream",
     "text": [
      "Language counts:\n",
      " lang\n",
      "en       3276\n",
      "es        170\n",
      "pt        148\n",
      "ar         80\n",
      "ja         80\n",
      "ru         77\n",
      "fr         76\n",
      "ko         68\n",
      "de         59\n",
      "pl         37\n",
      "und        34\n",
      "it         31\n",
      "th         27\n",
      "vi         24\n",
      "tr         21\n",
      "cs         18\n",
      "bg         14\n",
      "hu         13\n",
      "sv         11\n",
      "ca         11\n",
      "no         11\n",
      "he         11\n",
      "sk          9\n",
      "sl          8\n",
      "el          8\n",
      "so          8\n",
      "id          7\n",
      "zh-tw       7\n",
      "da          6\n",
      "nl          6\n",
      "mk          4\n",
      "fa          4\n",
      "zh-cn       4\n",
      "et          4\n",
      "ro          4\n",
      "sw          4\n",
      "uk          4\n",
      "fi          3\n",
      "hr          3\n",
      "cy          2\n",
      "tl          2\n",
      "lt          1\n",
      "bn          1\n",
      "sq          1\n",
      "Name: count, dtype: int64\n"
     ]
    },
    {
     "data": {
      "application/vnd.jupyter.widget-view+json": {
       "model_id": "b2fed5378b79419e81b5cce6d7c4c8d8",
       "version_major": 2,
       "version_minor": 0
      },
      "text/plain": [
       "es->en (batch):   0%|          | 0/3 [00:00<?, ?it/s]"
      ]
     },
     "metadata": {},
     "output_type": "display_data"
    },
    {
     "data": {
      "application/vnd.jupyter.widget-view+json": {
       "model_id": "60fbd68509d14ef8b3b08acf6490acac",
       "version_major": 2,
       "version_minor": 0
      },
      "text/plain": [
       "pt->en (batch):   0%|          | 0/2 [00:00<?, ?it/s]"
      ]
     },
     "metadata": {},
     "output_type": "display_data"
    },
    {
     "data": {
      "application/vnd.jupyter.widget-view+json": {
       "model_id": "04ff7b48803843be97b791ffbef90ab7",
       "version_major": 2,
       "version_minor": 0
      },
      "text/plain": [
       "ar->en (batch):   0%|          | 0/1 [00:00<?, ?it/s]"
      ]
     },
     "metadata": {},
     "output_type": "display_data"
    },
    {
     "data": {
      "application/vnd.jupyter.widget-view+json": {
       "model_id": "3e6dc7a6c7cd4599a42f0c736f804003",
       "version_major": 2,
       "version_minor": 0
      },
      "text/plain": [
       "ja->en (batch):   0%|          | 0/1 [00:00<?, ?it/s]"
      ]
     },
     "metadata": {},
     "output_type": "display_data"
    },
    {
     "data": {
      "application/vnd.jupyter.widget-view+json": {
       "model_id": "f2bff14a1a854b4bb1e37af6d08fe3f1",
       "version_major": 2,
       "version_minor": 0
      },
      "text/plain": [
       "ru->en (batch):   0%|          | 0/1 [00:00<?, ?it/s]"
      ]
     },
     "metadata": {},
     "output_type": "display_data"
    },
    {
     "data": {
      "application/vnd.jupyter.widget-view+json": {
       "model_id": "6ddd2418a3634c39a7237f95bddd5947",
       "version_major": 2,
       "version_minor": 0
      },
      "text/plain": [
       "fr->en (batch):   0%|          | 0/1 [00:00<?, ?it/s]"
      ]
     },
     "metadata": {},
     "output_type": "display_data"
    },
    {
     "data": {
      "application/vnd.jupyter.widget-view+json": {
       "model_id": "0a55f2e9188845528992a24f36fde3da",
       "version_major": 2,
       "version_minor": 0
      },
      "text/plain": [
       "ko->en (batch):   0%|          | 0/1 [00:00<?, ?it/s]"
      ]
     },
     "metadata": {},
     "output_type": "display_data"
    },
    {
     "data": {
      "application/vnd.jupyter.widget-view+json": {
       "model_id": "35bfca6605cb41d8b68450ce15995d7d",
       "version_major": 2,
       "version_minor": 0
      },
      "text/plain": [
       "de->en (batch):   0%|          | 0/1 [00:00<?, ?it/s]"
      ]
     },
     "metadata": {},
     "output_type": "display_data"
    },
    {
     "data": {
      "application/vnd.jupyter.widget-view+json": {
       "model_id": "d0319d669ed448249f21cce9f3df27b6",
       "version_major": 2,
       "version_minor": 0
      },
      "text/plain": [
       "pl->en (batch):   0%|          | 0/1 [00:00<?, ?it/s]"
      ]
     },
     "metadata": {},
     "output_type": "display_data"
    },
    {
     "data": {
      "application/vnd.jupyter.widget-view+json": {
       "model_id": "f8a755dacc9c478bb1bff3024f9f5607",
       "version_major": 2,
       "version_minor": 0
      },
      "text/plain": [
       "it->en (batch):   0%|          | 0/1 [00:00<?, ?it/s]"
      ]
     },
     "metadata": {},
     "output_type": "display_data"
    },
    {
     "data": {
      "application/vnd.jupyter.widget-view+json": {
       "model_id": "b3eee13e86904fcca58b45caa5ccc8e2",
       "version_major": 2,
       "version_minor": 0
      },
      "text/plain": [
       "th->en (batch):   0%|          | 0/1 [00:00<?, ?it/s]"
      ]
     },
     "metadata": {},
     "output_type": "display_data"
    },
    {
     "data": {
      "application/vnd.jupyter.widget-view+json": {
       "model_id": "681601d5f30d48719c97f658ed3de166",
       "version_major": 2,
       "version_minor": 0
      },
      "text/plain": [
       "vi->en (batch):   0%|          | 0/1 [00:00<?, ?it/s]"
      ]
     },
     "metadata": {},
     "output_type": "display_data"
    },
    {
     "data": {
      "application/vnd.jupyter.widget-view+json": {
       "model_id": "b13c188498144fc0b7cb43396e65bb50",
       "version_major": 2,
       "version_minor": 0
      },
      "text/plain": [
       "tr->en (batch):   0%|          | 0/1 [00:00<?, ?it/s]"
      ]
     },
     "metadata": {},
     "output_type": "display_data"
    },
    {
     "data": {
      "application/vnd.jupyter.widget-view+json": {
       "model_id": "7d8adc723cbb4a0188bf343ae4a25c29",
       "version_major": 2,
       "version_minor": 0
      },
      "text/plain": [
       "cs->en (batch):   0%|          | 0/1 [00:00<?, ?it/s]"
      ]
     },
     "metadata": {},
     "output_type": "display_data"
    },
    {
     "data": {
      "application/vnd.jupyter.widget-view+json": {
       "model_id": "e60961fdc1144e97b1d5d62e491c83a4",
       "version_major": 2,
       "version_minor": 0
      },
      "text/plain": [
       "bg->en (batch):   0%|          | 0/1 [00:00<?, ?it/s]"
      ]
     },
     "metadata": {},
     "output_type": "display_data"
    },
    {
     "data": {
      "application/vnd.jupyter.widget-view+json": {
       "model_id": "e145ef7edbf945aba3c47e9287e404df",
       "version_major": 2,
       "version_minor": 0
      },
      "text/plain": [
       "hu->en (batch):   0%|          | 0/1 [00:00<?, ?it/s]"
      ]
     },
     "metadata": {},
     "output_type": "display_data"
    },
    {
     "data": {
      "application/vnd.jupyter.widget-view+json": {
       "model_id": "7fabe2acb09644828b85a6114a321455",
       "version_major": 2,
       "version_minor": 0
      },
      "text/plain": [
       "sv->en (batch):   0%|          | 0/1 [00:00<?, ?it/s]"
      ]
     },
     "metadata": {},
     "output_type": "display_data"
    },
    {
     "data": {
      "application/vnd.jupyter.widget-view+json": {
       "model_id": "e90ba1617ea34aaa916ba72e26e57975",
       "version_major": 2,
       "version_minor": 0
      },
      "text/plain": [
       "ca->en (batch):   0%|          | 0/1 [00:00<?, ?it/s]"
      ]
     },
     "metadata": {},
     "output_type": "display_data"
    },
    {
     "data": {
      "application/vnd.jupyter.widget-view+json": {
       "model_id": "44cc0f951284476d9e848507a9737763",
       "version_major": 2,
       "version_minor": 0
      },
      "text/plain": [
       "no->en (batch):   0%|          | 0/1 [00:00<?, ?it/s]"
      ]
     },
     "metadata": {},
     "output_type": "display_data"
    },
    {
     "data": {
      "application/vnd.jupyter.widget-view+json": {
       "model_id": "ee7483ea93f649f7aa20bde67f0d35b7",
       "version_major": 2,
       "version_minor": 0
      },
      "text/plain": [
       "he->en (batch):   0%|          | 0/1 [00:00<?, ?it/s]"
      ]
     },
     "metadata": {},
     "output_type": "display_data"
    },
    {
     "data": {
      "application/vnd.jupyter.widget-view+json": {
       "model_id": "f614496962a84ed2acdaa155d8596640",
       "version_major": 2,
       "version_minor": 0
      },
      "text/plain": [
       "sk->en (batch):   0%|          | 0/1 [00:00<?, ?it/s]"
      ]
     },
     "metadata": {},
     "output_type": "display_data"
    },
    {
     "data": {
      "application/vnd.jupyter.widget-view+json": {
       "model_id": "f85c939683ae444487a04df381357577",
       "version_major": 2,
       "version_minor": 0
      },
      "text/plain": [
       "sl->en (batch):   0%|          | 0/1 [00:00<?, ?it/s]"
      ]
     },
     "metadata": {},
     "output_type": "display_data"
    },
    {
     "data": {
      "application/vnd.jupyter.widget-view+json": {
       "model_id": "8eba35889b3243bb93741b7c3921190b",
       "version_major": 2,
       "version_minor": 0
      },
      "text/plain": [
       "el->en (batch):   0%|          | 0/1 [00:00<?, ?it/s]"
      ]
     },
     "metadata": {},
     "output_type": "display_data"
    },
    {
     "data": {
      "application/vnd.jupyter.widget-view+json": {
       "model_id": "01b230d329644a2cb7b85abd364cf32b",
       "version_major": 2,
       "version_minor": 0
      },
      "text/plain": [
       "so->en (batch):   0%|          | 0/1 [00:00<?, ?it/s]"
      ]
     },
     "metadata": {},
     "output_type": "display_data"
    },
    {
     "data": {
      "application/vnd.jupyter.widget-view+json": {
       "model_id": "76fa12d1bd2a40b69e07280db2423286",
       "version_major": 2,
       "version_minor": 0
      },
      "text/plain": [
       "id->en (batch):   0%|          | 0/1 [00:00<?, ?it/s]"
      ]
     },
     "metadata": {},
     "output_type": "display_data"
    },
    {
     "data": {
      "application/vnd.jupyter.widget-view+json": {
       "model_id": "835403c709d441a08611382c9ea75408",
       "version_major": 2,
       "version_minor": 0
      },
      "text/plain": [
       "zh-tw->en (batch):   0%|          | 0/1 [00:00<?, ?it/s]"
      ]
     },
     "metadata": {},
     "output_type": "display_data"
    },
    {
     "data": {
      "application/vnd.jupyter.widget-view+json": {
       "model_id": "337a1f90bec7491d8788e4ca0f8fd33a",
       "version_major": 2,
       "version_minor": 0
      },
      "text/plain": [
       "da->en (batch):   0%|          | 0/1 [00:00<?, ?it/s]"
      ]
     },
     "metadata": {},
     "output_type": "display_data"
    },
    {
     "data": {
      "application/vnd.jupyter.widget-view+json": {
       "model_id": "292de3fa8a1f4d78b9d138bd041e6b6c",
       "version_major": 2,
       "version_minor": 0
      },
      "text/plain": [
       "nl->en (batch):   0%|          | 0/1 [00:00<?, ?it/s]"
      ]
     },
     "metadata": {},
     "output_type": "display_data"
    },
    {
     "data": {
      "application/vnd.jupyter.widget-view+json": {
       "model_id": "55485980b3404eeb8d16f37a0d9d3ac4",
       "version_major": 2,
       "version_minor": 0
      },
      "text/plain": [
       "mk->en (batch):   0%|          | 0/1 [00:00<?, ?it/s]"
      ]
     },
     "metadata": {},
     "output_type": "display_data"
    },
    {
     "data": {
      "application/vnd.jupyter.widget-view+json": {
       "model_id": "468fa455d32a4bcd9e07fb8ec0fb937b",
       "version_major": 2,
       "version_minor": 0
      },
      "text/plain": [
       "fa->en (batch):   0%|          | 0/1 [00:00<?, ?it/s]"
      ]
     },
     "metadata": {},
     "output_type": "display_data"
    },
    {
     "data": {
      "application/vnd.jupyter.widget-view+json": {
       "model_id": "afb218c1a17348c49f16b05820039818",
       "version_major": 2,
       "version_minor": 0
      },
      "text/plain": [
       "zh-cn->en (batch):   0%|          | 0/1 [00:00<?, ?it/s]"
      ]
     },
     "metadata": {},
     "output_type": "display_data"
    },
    {
     "data": {
      "application/vnd.jupyter.widget-view+json": {
       "model_id": "ceb6a69fb60844ffa5d59460c933ca27",
       "version_major": 2,
       "version_minor": 0
      },
      "text/plain": [
       "et->en (batch):   0%|          | 0/1 [00:00<?, ?it/s]"
      ]
     },
     "metadata": {},
     "output_type": "display_data"
    },
    {
     "data": {
      "application/vnd.jupyter.widget-view+json": {
       "model_id": "ee004e9fabf141069bd54050cfbe2459",
       "version_major": 2,
       "version_minor": 0
      },
      "text/plain": [
       "ro->en (batch):   0%|          | 0/1 [00:00<?, ?it/s]"
      ]
     },
     "metadata": {},
     "output_type": "display_data"
    },
    {
     "data": {
      "application/vnd.jupyter.widget-view+json": {
       "model_id": "a8b0925b70bb4ad28bed25854942d9cd",
       "version_major": 2,
       "version_minor": 0
      },
      "text/plain": [
       "sw->en (batch):   0%|          | 0/1 [00:00<?, ?it/s]"
      ]
     },
     "metadata": {},
     "output_type": "display_data"
    },
    {
     "data": {
      "application/vnd.jupyter.widget-view+json": {
       "model_id": "f8c06169de084f70a7c2f27174d76d0e",
       "version_major": 2,
       "version_minor": 0
      },
      "text/plain": [
       "uk->en (batch):   0%|          | 0/1 [00:00<?, ?it/s]"
      ]
     },
     "metadata": {},
     "output_type": "display_data"
    },
    {
     "data": {
      "application/vnd.jupyter.widget-view+json": {
       "model_id": "d6473cf55c8e45879c381e5fe4374f33",
       "version_major": 2,
       "version_minor": 0
      },
      "text/plain": [
       "fi->en (batch):   0%|          | 0/1 [00:00<?, ?it/s]"
      ]
     },
     "metadata": {},
     "output_type": "display_data"
    },
    {
     "data": {
      "application/vnd.jupyter.widget-view+json": {
       "model_id": "38699c767d984a28ae83ea284111df3d",
       "version_major": 2,
       "version_minor": 0
      },
      "text/plain": [
       "hr->en (batch):   0%|          | 0/1 [00:00<?, ?it/s]"
      ]
     },
     "metadata": {},
     "output_type": "display_data"
    },
    {
     "data": {
      "application/vnd.jupyter.widget-view+json": {
       "model_id": "12965a662c4940eea85e5550f2fe9c98",
       "version_major": 2,
       "version_minor": 0
      },
      "text/plain": [
       "cy->en (batch):   0%|          | 0/1 [00:00<?, ?it/s]"
      ]
     },
     "metadata": {},
     "output_type": "display_data"
    },
    {
     "data": {
      "application/vnd.jupyter.widget-view+json": {
       "model_id": "85b0c67e21464109bd7c822eced7be13",
       "version_major": 2,
       "version_minor": 0
      },
      "text/plain": [
       "tl->en (batch):   0%|          | 0/1 [00:00<?, ?it/s]"
      ]
     },
     "metadata": {},
     "output_type": "display_data"
    },
    {
     "data": {
      "application/vnd.jupyter.widget-view+json": {
       "model_id": "3af44420c001440883bb9f51357adec1",
       "version_major": 2,
       "version_minor": 0
      },
      "text/plain": [
       "lt->en (batch):   0%|          | 0/1 [00:00<?, ?it/s]"
      ]
     },
     "metadata": {},
     "output_type": "display_data"
    },
    {
     "data": {
      "application/vnd.jupyter.widget-view+json": {
       "model_id": "a5e20af51c604e7ca4445806cb6a02b8",
       "version_major": 2,
       "version_minor": 0
      },
      "text/plain": [
       "bn->en (batch):   0%|          | 0/1 [00:00<?, ?it/s]"
      ]
     },
     "metadata": {},
     "output_type": "display_data"
    },
    {
     "data": {
      "application/vnd.jupyter.widget-view+json": {
       "model_id": "25c4e1b9ab2346438c84345480abf96d",
       "version_major": 2,
       "version_minor": 0
      },
      "text/plain": [
       "sq->en (batch):   0%|          | 0/1 [00:00<?, ?it/s]"
      ]
     },
     "metadata": {},
     "output_type": "display_data"
    },
    {
     "data": {
      "application/vnd.jupyter.widget-view+json": {
       "model_id": "ffe6f614269a41dfba08f8c2cdc869d9",
       "version_major": 2,
       "version_minor": 0
      },
      "text/plain": [
       "und->en (batch):   0%|          | 0/1 [00:00<?, ?it/s]"
      ]
     },
     "metadata": {},
     "output_type": "display_data"
    },
    {
     "name": "stdout",
     "output_type": "stream",
     "text": [
      "✅ Saved: /content/drive/MyDrive/Final EGBI222 Group Project/chunk2/transcripts_en_p1_1-4398.csv\n",
      "\n",
      "Head:\n",
      "  video_id_clean                                         transcript  \\\n",
      "0    --F7dc-_FSI  «السودان ينتفض» أمام السفارة بالقاهرة حرية سلا...   \n",
      "1    --cCAD-8Y_U  Pokemon Tower Defense Episodio 2 Espero que te...   \n",
      "2    --g2gG8pQ0w  New Hip Hop - Kemo Treats - Pancakes Download ...   \n",
      "\n",
      "                                       transcript_en  \n",
      "0  “Sudan rises up” in front of the embassy in Ca...  \n",
      "1  Pokemon Tower Defense Episodio 2 Espero que te...  \n",
      "2  New Hip Hop - Kemo Treats - Pancakes Download ...  \n",
      "\n",
      "Done.\n"
     ]
    }
   ],
   "source": [
    "!pip -q install langdetect==1.0.9 deep-translator==1.11.4 tqdm==4.66.5\n",
    "\n",
    "from google.colab import drive\n",
    "from langdetect import detect, DetectorFactory, LangDetectException\n",
    "from deep_translator import GoogleTranslator, MyMemoryTranslator\n",
    "from tqdm.auto import tqdm\n",
    "import pandas as pd, numpy as np\n",
    "import os, re, time, random, sys\n",
    "\n",
    "if not os.path.exists('/content/drive'):\n",
    "    drive.mount('/content/drive')\n",
    "else:\n",
    "    print(\"Google Drive is already mounted.\")\n",
    "\n",
    "BASE   = \"/content/drive/MyDrive/Final EGBI222 Group Project\"\n",
    "IN_CSV = os.path.join(BASE, \"chunks\", \"transcripts_p1_1-4398.csv\")\n",
    "OUTDIR = os.path.join(BASE, \"chunk2\")\n",
    "OUT_CSV = os.path.join(OUTDIR, \"transcripts_en_p1_1-4398.csv\")\n",
    "AUDIO_DIR = f\"{BASE}/audio\"\n",
    "\n",
    "os.makedirs(OUTDIR, exist_ok=True)\n",
    "os.makedirs(AUDIO_DIR, exist_ok=True)\n",
    "print(\"Input :\", IN_CSV)\n",
    "print(\"Output:\", OUT_CSV)\n",
    "\n",
    "try:\n",
    "    df = pd.read_csv(IN_CSV)\n",
    "    if 'transcript' not in df.columns:\n",
    "        for c in ['text', 'caption', 'content']:\n",
    "            if c in df.columns:\n",
    "                df = df.rename(columns={c: 'transcript'})\n",
    "                break\n",
    "    if 'transcript' not in df.columns:\n",
    "        raise KeyError(\"Input must contain a 'transcript' column (or one of ['text','caption','content']).\")\n",
    "    print(f\"Loaded rows: {len(df)}\")\n",
    "except Exception as e:\n",
    "    print(f\"[FATAL] Could not load input CSV: {e}\")\n",
    "    raise\n",
    "\n",
    "def clean_text(s: str) -> str:\n",
    "    if pd.isna(s): return \"\"\n",
    "    s = str(s)\n",
    "    s = s.replace(\"\\u200b\",\"\").replace(\"\\u200c\",\"\").replace(\"\\u200d\",\"\").replace(\"\\ufeff\",\"\")\n",
    "    s = re.sub(r\"[\\u0000-\\u0008\\u000B\\u000C\\u000E-\\u001F\\u007F]\", \"\", s)\n",
    "    s = re.sub(r\"[^\\S\\r\\n\\t]+\", \" \", s).strip()\n",
    "    s = re.sub(r\"(.)\\1{5,}\", r\"\\1\\1\\1\\1\\1\", s)\n",
    "    return s\n",
    "\n",
    "tqdm.pandas(desc=\"Cleaning\")\n",
    "df['transcript'] = df['transcript'].progress_apply(clean_text)\n",
    "df = df[df['transcript'].str.strip() != \"\"].copy()\n",
    "print(\"Rows after cleaning:\", len(df))\n",
    "\n",
    "DetectorFactory.seed = 0\n",
    "\n",
    "def quick_ascii_english(s: str) -> bool:\n",
    "    \"\"\"Fast check: mostly ASCII & contains vowels/spaces -> likely English.\"\"\"\n",
    "    if not s: return False\n",
    "    if not all(ord(ch) < 128 for ch in s):\n",
    "        return False\n",
    "    return bool(re.search(r\"[aeiouAEIOU]\", s))\n",
    "\n",
    "def detect_lang_safe(s: str) -> str:\n",
    "    s = (s or \"\").strip()\n",
    "    if not s: return \"und\"\n",
    "    if quick_ascii_english(s):\n",
    "        return \"en\"\n",
    "    try:\n",
    "        return detect(s) or \"und\"\n",
    "    except LangDetectException:\n",
    "        return \"und\"\n",
    "    except Exception:\n",
    "        return \"und\"\n",
    "\n",
    "if 'lang' not in df.columns:\n",
    "    tqdm.pandas(desc=\"Detecting language\")\n",
    "    df['lang'] = df['transcript'].progress_apply(detect_lang_safe)\n",
    "else:\n",
    "    mask_unknown = df['lang'].astype(str).str.lower().isin(['unknown','und','','nan']) | df['lang'].isna()\n",
    "    if mask_unknown.any():\n",
    "        tqdm.pandas(desc=\"Re-detecting language\")\n",
    "        df.loc[mask_unknown, 'lang'] = df.loc[mask_unknown, 'transcript'].progress_apply(detect_lang_safe)\n",
    "    df.loc[df['lang'].astype(str).str.lower().isin(['unknown','','nan']) | df['lang'].isna(), 'lang'] = 'und'\n",
    "\n",
    "print(\"Language counts:\\n\", df['lang'].value_counts(dropna=False))\n",
    "\n",
    "BATCH_SIZE = 80\n",
    "MAX_TRIES  = 3\n",
    "BASE_SLEEP = 0.6\n",
    "\n",
    "if 'transcript_en' not in df.columns:\n",
    "    df['transcript_en'] = \"\"\n",
    "\n",
    "mask_en = df['lang'].astype(str).str.lower().eq('en')\n",
    "df.loc[mask_en, 'transcript_en'] = df.loc[mask_en, 'transcript']\n",
    "\n",
    "def translate_batch_google(texts, src_lang):\n",
    "    \"\"\"Batch translate via GoogleTranslator with retries. Returns list[str].\"\"\"\n",
    "    texts = [(\"\" if pd.isna(t) else str(t)) for t in texts]\n",
    "    src = src_lang if src_lang and src_lang not in (\"und\",\"auto\") else \"auto\"\n",
    "    out = list(texts)\n",
    "    for attempt in range(1, MAX_TRIES+1):\n",
    "        try:\n",
    "            gt = GoogleTranslator(source=src, target='en')\n",
    "            res = gt.translate_batch(texts)\n",
    "            if isinstance(res, list) and len(res) == len(texts):\n",
    "                out = [r if (isinstance(r, str) and r.strip() != \"\") else orig for r,orig in zip(res, texts)]\n",
    "                return out\n",
    "        except Exception as e:\n",
    "            time.sleep(BASE_SLEEP*(2**(attempt-1)) + random.uniform(0,0.3))\n",
    "    return out\n",
    "\n",
    "def translate_item_fallback(text, src_lang):\n",
    "    \"\"\"Per-item fallback using Google first, then MyMemory.\"\"\"\n",
    "    if not text: return \"\"\n",
    "    if quick_ascii_english(text): return text\n",
    "    src = src_lang if src_lang and src_lang not in (\"und\",\"auto\") else \"auto\"\n",
    "\n",
    "    for attempt in range(1, MAX_TRIES+1):\n",
    "        try:\n",
    "            r = GoogleTranslator(source=src, target='en').translate(text)\n",
    "            if r and r.strip(): return r\n",
    "        except Exception:\n",
    "            time.sleep(BASE_SLEEP*(2**(attempt-1)) + random.uniform(0,0.3))\n",
    "\n",
    "    for attempt in range(1, MAX_TRIES+1):\n",
    "        try:\n",
    "            r = MyMemoryTranslator(source=src, target='en').translate(text)\n",
    "            if r and r.strip(): return r\n",
    "        except Exception:\n",
    "            time.sleep(BASE_SLEEP*(2**(attempt-1)) + random.uniform(0,0.3))\n",
    "\n",
    "    return text\n",
    "\n",
    "lang_order = df['lang'].value_counts().index.tolist()\n",
    "lang_order = [l for l in lang_order if str(l).lower() not in ('en','und')] + (['und'] if 'und' in lang_order else [])\n",
    "\n",
    "for lc in lang_order:\n",
    "    mask = (df['lang'] == lc) & (df['transcript'].str.strip() != \"\") & (df['transcript_en'].str.strip() == \"\")\n",
    "    idxs = df.index[mask].tolist()\n",
    "    if not idxs:\n",
    "        continue\n",
    "\n",
    "    texts = df.loc[idxs, 'transcript'].tolist()\n",
    "    translated = []\n",
    "    for i in tqdm(range(0, len(texts), BATCH_SIZE), desc=f\"{lc}->en (batch)\"):\n",
    "        chunk = texts[i:i+BATCH_SIZE]\n",
    "        out = translate_batch_google(chunk, lc)\n",
    "\n",
    "        fixed = []\n",
    "        for orig, got in zip(chunk, out):\n",
    "            if (not got.strip()) or (got.strip() == orig.strip() and not quick_ascii_english(orig)):\n",
    "                fixed.append(translate_item_fallback(orig, lc))\n",
    "            else:\n",
    "                fixed.append(got)\n",
    "        translated.extend(fixed)\n",
    "\n",
    "    df.loc[idxs, 'transcript_en'] = translated\n",
    "\n",
    "need_fix = (df['transcript_en'].str.strip() == \"\")\n",
    "if need_fix.any():\n",
    "    print(f\"Rescue pass on {need_fix.sum()} rows…\")\n",
    "    for idx in tqdm(df.index[need_fix], desc=\"rescue\"):\n",
    "        src = df.at[idx, 'lang']\n",
    "        txt = df.at[idx, 'transcript']\n",
    "        df.at[idx, 'transcript_en'] = translate_item_fallback(txt, src)\n",
    "\n",
    "df['transcript_en'] = df['transcript_en'].fillna(\"\")\n",
    "\n",
    "if 'lang' in df.columns:\n",
    "    df = df.drop(columns=['lang'])\n",
    "\n",
    "try:\n",
    "    df.to_csv(OUT_CSV, index=False, encoding='utf-8')\n",
    "    print(\"✅ Saved:\", OUT_CSV)\n",
    "except Exception as e:\n",
    "    print(f\"❌ Save error: {e}\")\n",
    "    raise\n",
    "\n",
    "cols = ['video_id_clean' if 'video_id_clean' in df.columns else ('video_id' if 'video_id' in df.columns else df.columns[0]),\n",
    "        'transcript','transcript_en']\n",
    "print(\"\\nHead:\")\n",
    "print(df[cols].head(3))\n",
    "print(\"\\nDone.\")"
   ]
  },
  {
   "cell_type": "markdown",
   "id": "2d54ab1f",
   "metadata": {},
   "source": [
    "# ▶️ Part 2: **2nd Person.ipynb**"
   ]
  },
  {
   "cell_type": "markdown",
   "id": "7098e61a95846642",
   "metadata": {
    "id": "EE0aFv_1rEn4"
   },
   "source": [
    "# Shard 2 (25-50%)"
   ]
  },
  {
   "cell_type": "code",
   "execution_count": null,
   "id": "5c4b18946ea8f788",
   "metadata": {
    "colab": {
     "base_uri": "https://localhost:8080/"
    },
    "executionInfo": {
     "elapsed": 16526,
     "status": "ok",
     "timestamp": 1760501524172,
     "user": {
      "displayName": "KHEMMANAT KIATTIKULPIMOL",
      "userId": "06448714020354424233"
     },
     "user_tz": -420
    },
    "id": "wv8z9FzVrGwU",
    "outputId": "ec2d0668-aa8a-403c-9c79-b1fa6559cdfa"
   },
   "outputs": [
    {
     "name": "stdout",
     "output_type": "stream",
     "text": [
      "Drive already mounted at /content/drive; to attempt to forcibly remount, call drive.mount(\"/content/drive\", force_remount=True).\n",
      "P2 rows 4399-8795/17589 → 4397\n"
     ]
    },
    {
     "name": "stdout",
     "output_type": "stream",
     "text": [
      "P2 captions: 100%|██████████| 4397/4397 [00:00<00:00, 131228.69it/s]"
     ]
    },
    {
     "name": "stdout",
     "output_type": "stream",
     "text": [
      "Saved shard: /content/drive/MyDrive/Final EGBI222 Group Project/chunks/transcripts_p2_4399-8795.csv\n"
     ]
    },
    {
     "name": "stdout",
     "output_type": "stream",
     "text": [
      "\n"
     ]
    }
   ],
   "source": [
    "!pip install -q youtube-transcript-api pandas numpy matplotlib seaborn langdetect tqdm\n",
    "from google.colab import drive; drive.mount('/content/drive')\n",
    "\n",
    "import os, math, pandas as pd, numpy as np\n",
    "BASE = \"/content/drive/MyDrive/Final EGBI222 Group Project\"\n",
    "CHUNK = f\"{BASE}/chunks\"; os.makedirs(CHUNK, exist_ok=True)\n",
    "\n",
    "CSV = f\"{BASE}/youtube_data.csv\"\n",
    "df = pd.read_csv(CSV).copy()\n",
    "if 'video_id_clean' not in df.columns and 'video_id' in df.columns:\n",
    "    df['video_id_clean'] = df['video_id'].astype(str)\n",
    "ID = 'video_id_clean' if 'video_id_clean' in df.columns else 'video_id'\n",
    "df = df.reset_index(drop=True); df['row_no'] = df.index + 1\n",
    "\n",
    "N = len(df); q1 = math.ceil(N/4); q2 = math.ceil(N/2)\n",
    "lo, hi = q1+1, q2\n",
    "df_small = df[(df['row_no']>=lo)&(df['row_no']<=hi)].copy().reset_index(drop=True)\n",
    "print(f\"P2 rows {lo}-{hi}/{N} → {len(df_small)}\")\n",
    "\n",
    "from youtube_transcript_api import YouTubeTranscriptApi, TranscriptsDisabled, NoTranscriptFound, VideoUnavailable\n",
    "from concurrent.futures import ThreadPoolExecutor, as_completed\n",
    "from langdetect import detect\n",
    "from tqdm import tqdm\n",
    "\n",
    "def fetch_cap(vid):\n",
    "    vid = str(vid)\n",
    "    try:\n",
    "        trs = YouTubeTranscriptApi.list_transcripts(vid)\n",
    "        try:\n",
    "            tr = trs.find_transcript(['en']); lang = 'en'\n",
    "        except:\n",
    "            tr = next(iter(trs)); lang = tr.language_code or 'unknown'\n",
    "        segs = tr.fetch()\n",
    "        text = \" \".join(s.get('text','') for s in segs if s.get('text'))\n",
    "        lg = 'unknown'\n",
    "        if text.strip():\n",
    "            try: lg = detect(text)\n",
    "            except: lg = lang or 'unknown'\n",
    "        return vid, text, lg, 'yt_caption'\n",
    "    except (TranscriptsDisabled, NoTranscriptFound, VideoUnavailable, Exception):\n",
    "        return vid, \"\", \"unknown\", \"no_caption\"\n",
    "\n",
    "vids = df_small[ID].astype(str).tolist()\n",
    "rows = []\n",
    "with ThreadPoolExecutor(max_workers=32) as ex:\n",
    "    futs = {ex.submit(fetch_cap, v): v for v in vids}\n",
    "    for f in tqdm(as_completed(futs), total=len(futs), desc=\"P2 captions\"):\n",
    "        rows.append(f.result())\n",
    "\n",
    "cap = pd.DataFrame(rows, columns=[ID,'transcript','lang_guess','source'])\n",
    "out = df_small[[ID,'title','description'] if 'title' in df_small.columns or 'description' in df_small.columns else [ID]].merge(cap, on=ID, how='left')\n",
    "\n",
    "title_col = 'title' if 'title' in df_small.columns else None\n",
    "desc_col  = 'description' if 'description' in df_small.columns else None\n",
    "if title_col or desc_col:\n",
    "    mask = (out['transcript'].isna()) | (out['transcript']==\"\")\n",
    "    if title_col and desc_col:\n",
    "        out.loc[mask,'transcript'] = (df_small.loc[mask, title_col].fillna('') + \" \" +\n",
    "                                      df_small.loc[mask, desc_col].fillna('')).str.strip()\n",
    "    elif title_col:\n",
    "        out.loc[mask,'transcript'] = df_small.loc[mask, title_col].fillna('')\n",
    "    elif desc_col:\n",
    "        out.loc[mask,'transcript'] = df_small.loc[mask, desc_col].fillna('')\n",
    "    out.loc[mask & (out['lang_guess'].isna() | (out['lang_guess']==\"unknown\")), 'lang_guess'] = 'unknown'\n",
    "    out.loc[mask & (out['source'].isna()), 'source'] = 'meta_fallback'\n",
    "\n",
    "shard = f\"{CHUNK}/transcripts_p2_{lo}-{hi}.csv\"; out.to_csv(shard, index=False); print(\"Saved shard:\", shard)"
   ]
  },
  {
   "cell_type": "code",
   "execution_count": null,
   "id": "7ba3d9d6a47171b9",
   "metadata": {
    "colab": {
     "base_uri": "https://localhost:8080/",
     "height": 1000,
     "referenced_widgets": [
      "408aa5e02d7e454883805552b113199a",
      "d0186f1d582346b8b9be4b4fa86fbc20",
      "e53b5ae3501b4d579d309989e62137ed",
      "d67a50cebb2845eba8bb989a9054bf94",
      "e655a6becf73479fa50fd628c9bd1415",
      "9de07fbc10574e24b5cd826962f00015",
      "1ca88ea318904c0f9215e04e2211a7b2",
      "25c851d5c557459e8897b28bde995a73",
      "52000d64cba640ceb003c87d8e98ef5b",
      "04249a42449748d8bdb22c38569c6005",
      "59def288ef1944a1a155bd61c7be3191",
      "b257bf8a352c408cbe5eab2d7471f4ad",
      "0f0295c8803a4437a8190c5b0821b4f3",
      "f0742c3dfa3648658d82f5271560d154",
      "bd63843635a04160a7b575fecd2f958b",
      "1323a207eb7a4e028999495acdfed720",
      "3739f72a664040968abe22abee85d922",
      "fba904c61b7b4ed9b02448529891d4a9",
      "07fdbb2b0d194dd7b90cb1b09d30c424",
      "744e7b3a3be740f0b0c08a610843ca6c",
      "9b102c7ce5f940a6bc5fa80a908b385c",
      "674f8189461c4cc68abbe21fefe7c423",
      "f887e03a1d14407da188103cfc9a5978",
      "87f073671ce74e18a03afa177d54c56f",
      "6c63804c82fc476ab3a858ddb75314ca",
      "0ea6a40a4af2489085fdf9238f6db34f",
      "9269cdc52ae74cac887f0e873b85dacc",
      "2274cc7214034d25bdeaafb9396528a5",
      "e9bf117937974df38312e25150e1b555",
      "de0e1cd42e4d457d9214f8c32b0e7acd",
      "d5e7fa624156456f857514c002356836",
      "afbbb5fee21441a899287ec7daf8140b",
      "69d5d3418fc54b93840173a51a944d29",
      "098c11429fd241c7b0c202ee4a75e461",
      "23c1dd27080541ea90fb25930bc37542",
      "17f837e5b7334498bf58ebc5f089cca7",
      "7601bcb389864aadb6b90e64d6c01113",
      "da49f71f6bd0438e886dfee3634b60ad",
      "d6ed1926dd40421392b1c4da964c9086",
      "1fdf7a26db634c2fb573e16880fb40c6",
      "2922c427dae5430b8f6157a573e396db",
      "a5b842c86af248258d7affa116ae4710",
      "30abde46ff164b6f8e63be1204ea1447",
      "b1c478d812fa4af89aaecc6124d74b5f",
      "0db47aa1371949608324ebd80c33a4af",
      "25a5288eaf004365925cbcfa8afc7b00",
      "ab4c29843d2c45c08231e797315dc547",
      "528d62e4a6f9440290c21cdd2be56afb",
      "4225e98fa34348c891ba524a22ee2108",
      "52f2d5a10ed7443685156c4cec22d3dc",
      "59beca2435b8409d9ee29b998c13fda2",
      "28071762f6db472a894d1d32303eac0f",
      "529ca8eb01714cdfb4a7e0517c7573dc",
      "9b9f5743cd1b41ce93e9b9053719d8ea",
      "5fedfd8aba00406d8d63a359d800a85f",
      "221338658cf347488cc48b40d051cc90",
      "4f65354c25e6487b81138dd17c85c1a6",
      "07fd93bf1af04a5c86e8ce5eceb35fb1",
      "46398c739f06484e8dc647b43478757c",
      "5b2a34ab0fa041aa90c6de410c06ad67",
      "97212aabfc654e03bf4b053b0caed547",
      "6696da19f42b47548dfad40c5bc44dfb",
      "db6fdfc230074f9eac2e2dbe1c8efb89",
      "582b9a87b76a41808f3194ce5fe26cd8",
      "4d44d95d5abc46eea506d6bf68ec43a0",
      "3309542855444fc3a58e9c8bfaa58ace",
      "c46ef80a52ba495f9598cf52f0b4283d",
      "a176ddac99f74dcf9a54d5e4f7c67f8b",
      "f99080d09bf247efb716f9ec7b178df5",
      "4ce2794ba3c54732bf46d3cf7c20a3e9",
      "066cf552ae894ba68864ddaf8f3494a2",
      "ce33cb49857a451d9a3ac4be54d8904d",
      "a9f713c7e7384557bf42a0c007142a02",
      "9914d6fcce8c4d38a3ebc8f4d77a097c",
      "ad82cb8b98724d39adab9ae68531a461",
      "1e9c5dd00ea346d9bcf455060f36c213",
      "72452ae4db254130a84b6b813951c617",
      "f00fe2691a61491ba4487f65beae35cf",
      "b45de690d1cb4b00b5d8d13404e6faba",
      "605e73da026c49be88451f042782b276",
      "af315c84dad144d4a5043bc68f700bd4",
      "d68d4fb40bcd498cb1071f898b9b7538",
      "f2f53027f3e04c4e9b645b95c022a2d6",
      "0e258e3f973b4022b4fd525f10b27136",
      "5d2b5ac6b9d54488a89c0e6e67ae2bcb",
      "80b3a3bd428b485cba48a1779b15b472",
      "fb8cdac8ee524c2b9488413e133212a3",
      "46f4c1508f4d42c0bf8a8f9b94f64aa8",
      "ddbab643dce14fa8b05212456c4e84bc",
      "25009cf698404f6cab4d81049e9942c8",
      "1060877df0d1489fb38953288316ac61",
      "9300a6141c2d448a979bd70dd56e193c",
      "4693ed5d56cd4f5bb7d4a4b78bd45614",
      "bc3598475e6d48c1a2c069962ef97649",
      "6b4a2b124d5f451b910f8ecf8d61e942",
      "d61785ded6c94eb382b776f7e58185ea",
      "c70e748939334b449ef8a4a7c99e9652",
      "5a40420888a544f2bbebfc4692307fbb",
      "4655db314fc540dd915813cfac1c535f",
      "a864ced7f76545d6b938de0d104992d0",
      "782fe168a0284aa58db881e335ae37bb",
      "fb0d81f4e04b48f3a4bc8a9c44226ce1",
      "0aff26ce9df94a04876e61bfa3a1b460",
      "494c010c28b94ef4b99d3246be88e550",
      "49d184a24a474f11b141f9b301df581e",
      "97adf22e8df24667bc2566fc8dcf873c",
      "a86b400bf83b461bbdcbff1251515fae",
      "d2317befb0a449a29ced1c92c796b6ec",
      "098c7b27766d449db8625482c63484ba",
      "edaa8746106b4cdd94ebd0c6728b9062",
      "d60318e110864605b719477a4084ff8a",
      "9fcece2616c2488fbff86353f1569e96",
      "585fc42bec7b459d989805cd7e11d882",
      "2df8ce5f79464e0f8ba9c479c828bccb",
      "81ae0073d4d14ae2b3efbddb96fe1b16",
      "439119df2fd14978968efc2d9631baee",
      "c72515d72a20436eabadbe1e76761f6f",
      "a66743f8c9044c2db8a9628392f830bf",
      "6493317a322a454984151fa0d50ea434",
      "9cb78ab2d5b94525aaae3be65c015ad2",
      "a4021cc6dd4d425a8a402892caff6f4b",
      "d4ce4bf3f414402896daa77e5bdb325f",
      "3ec8165285a54f58b7ddda4a552c0b45",
      "8b5c4b873d1840d69f9a710e7b60c8e1",
      "87028237d95146efb35919767f6b9949",
      "7fa9a3a25dc640a8b80aedcb8b6a32fd",
      "5fe7b599548540ada469c03397a0f65d",
      "17be7b521a0f4fd1aac16097719f3a86",
      "bf4094607280473597edac229dc4ceb1",
      "f33ea6bdbb7c417ea737018f7637a80a",
      "389585b4eb5f4244bbea77796ad0981a",
      "878f87f1e2f647bf9ff5a53c4b756971",
      "3f3328e13adf44be8a4bc61008bb9ee3",
      "b9ce7b5b8cd74b1ca0e706a80f2a3e6e",
      "0fdc197be8a942d5b839126c6ed566eb",
      "4308176d6317425080db2b99246da382",
      "ee85842d821a4a46989012d98c8c02bc",
      "00bb9657397f400abb0e9698e81ce319",
      "7ee5a79af2df4327b62f41e1b3570949",
      "103c16883b1b40d79591cbc10939ab17",
      "038e8efc71f044b8bf1dac7b87df7082",
      "6cb7580f390d44d5a7303f35d331e88e",
      "69f1999505594ad78ca93a1b62bcf0d6",
      "a520a7471229422c8e3a7746a800c405",
      "2217bbaed3fd4a349b48df4694fa86c8",
      "526b73f9734443398e665477745ba5f5",
      "e438374b21fd4e12a95ebe251c4ff6df",
      "7e7a20e0ddd4495fa6733e48a58e75dc",
      "408d9ca83d7e48e5a501fe7f9ac43e90",
      "3fa103d38f534785b2281712d3e2b896",
      "33832fafa8524a6a86636b03e0641459",
      "3a82cab162f04afdb46313bb01d0cdb1",
      "14c0ce53f2c94d9299a03e09d274f50a",
      "60f56c0a9f424a45aee4f8a5eb1a426a",
      "826d21cb34d24dfea0123a1219f93d02",
      "b25fb147af6d401ead8a7b8248859fc8",
      "b20f4e9886f84f828bf95a8ff479dcf5",
      "931d87ea00854e368d1b2457289a9a85",
      "5f43840abada4c8a8f7916bed92433d2",
      "3ece9a5daa47481ca59432be3159e836",
      "363a956d5b75478e806ec52c073f98d6",
      "035c9b41e54a477d8380a5b705e00f1b",
      "8b1298b823f94656916327c13d6aae5e",
      "a4b2a15ace1a4d57b33a8c850a851283",
      "61acfec1c277467e8d61d0d7cf7e375f",
      "497c73f5f0894d9b97b75e24b68a956c",
      "a8f865b0232842cebbacb8597254e411",
      "61c7cb7bfe5f439789f05db9c82b64c4",
      "759b1ad10e884b23874b85d76af630a2",
      "8df8303a57234bc5a2e7754bb6e2cd31",
      "b9b03a27d0c242d9993a4fd5adef4f20",
      "a6716ed95a864550aaf24389e002e2bf",
      "1c442b00fa374ff6ad1880813b5e59dd",
      "b8f4387ff0a54684ab3b6a89953807d8",
      "05f12aa9e4b246889b65df39008fbcc6",
      "28bd00e4451a42a1ac77cbda85b530bd",
      "5cc13fef774d43fba648683950baff2e",
      "06b525cf7b4a47fb954c786621737831",
      "d2fe311c390f4fee8ded9cfc81c3c3e8",
      "bf1254a1d9594beb9eb09d45a9e4f0ac",
      "37427c5d78164640b9e3b3d232fa8f5c",
      "d4205e177e80402f8731fd409d3b2e7f",
      "c2472b1e45974741b42aa5c551440402",
      "46755501572740e4b95e35e24603e92b",
      "8960483eacdf4687ae0097c50676702e",
      "9489b89ce7f24fc3aeb4fa8bba117801",
      "3f443c7eb14f4f8699ae86745451bbfa",
      "689843f339ca4389ad7b4b46ad9d11f2",
      "4ab0cd188899448ca3d33acc2b8df2f6",
      "6c361cce0e3e412f816aa192989dff9d",
      "ba2f6654af44405f934e080dc53a26f3",
      "b4cb35a22b0042519716e4225aedeba2",
      "0efbee92094f4fb3a8ad8b408e6c9049",
      "8bd475bd769d4913962e36178575ff5b",
      "f0965eecaf934132aa0010ec609a724c",
      "d0fec341bd9c457782150c91d43cadd9",
      "f39c06b03d54402c8bd9358b2e65899f",
      "0210a1b14e8842d48a9462528b17f279",
      "bf51369bd5f44e3381d1f5105713ee8e",
      "04141717fee5402da2f209e6c584231f",
      "be01bd6e1f8f46cbb695bd318c90cfc5",
      "4440bb20f80b48418d3a8ec25cfe9f86",
      "5c59e30a7ee342729d56e70c1e64a080",
      "7ab1fd3df011463bbf267e9f8fbc704b",
      "b9677a5d165c4477a5a385e928815838",
      "457762333f4a40a09c97228905af1e40",
      "46d5951826dc4fe3b9670470eea57341",
      "c8383633ea7a49f3838c7ade8d2583a8",
      "3d396b4d743049be92b0be1af8d855bf",
      "2ad5ca8d81bc4217abb85caaca2e0110",
      "67e51a123fa043eb9ae72a063935f7eb",
      "93456a969a2941d4a0461ed8489a5efb",
      "dd75b3c438014daeb421a0221ce2f33f",
      "41dfe6cb059d45d1a14f253356499fc8",
      "2ed80c220bd74ca781c6cc718dbd2316",
      "cc3b9b2951f94d6bb86aa32e261cbdc4",
      "52797d7c4b0742d08d9c7b050186f60d",
      "e975b4d6d0f04411b2df3ab69b1fc086",
      "da448fdf748c46b292fc1cff3b142fee",
      "655c6a2cc61648a7a64e4b42a47364a1",
      "e2008c1d4bca44ddbb0d02960e3f7fdc",
      "a2221a490b2d4917a6561f7e99dbf03a",
      "6f95ad15611b42f7a3c48f5f28ddac94",
      "faf6c9cf60c2474d86b5c89376ed3ba5",
      "3d46d6517c1f4b2fbd6bcf92f7e88260",
      "f73d254c23bb4bc8ad538e4cf26563e2",
      "bb50fc29d071415eb1f3ba1027048a33",
      "03b51e4c9a664c05979a59d47d4870eb",
      "b56a1fd8316a4e1f9501eaa1985c5e2f",
      "1af1afec0d0743f2abf690f3266ae370",
      "5f2e1dddd7924d01836857ba9d85a848",
      "1fba28710f454c12ac6a2c3e80200897",
      "36cf9d93c69c4ca596e25a1f91939ecf",
      "e994e2cb180a4bd29616ce080e6b2874",
      "89e083a4a0704828827adfffaa1bbc54",
      "4828b62a750042e4adbcbd36d0a7e732",
      "8d72b03b20444b08ab5887a3e917a323",
      "fbf60e42161b48acbcc4b0dff57103e1",
      "df06483101464644991cc4cd1bab55ec",
      "c3c50b73058344d9af3989d63637c271",
      "cf280feb3a1248a28ba8a0d977086611",
      "c231167e940b4bc7bcf2a78b9e32c20f",
      "4cbe7363717c4e7f8af0ba21486d4f46",
      "1e7d53a50fcd48eb88fbb5404c85fa3f",
      "bdea98f21bcb45f3a5eff42597971cfd",
      "bdfff6e5b89e4a7abceecb8b0535313c",
      "9626a5cc17d34201bbf563fe43de99ad",
      "4901eb81098e48338eb1e952bbd51410",
      "ab1255b66b3e405cac80028bb93b50e7",
      "419d5b023a724be4a5e088d79953bfbc",
      "e0dbb9afd9de4d2c933ce31b4075d678",
      "627b475264f446b099cb7e8426b2811c",
      "db5d6f6b1ff14c10994ad0be6047dd45",
      "11553984f52b412aa625da70198e0278",
      "45f0e2f48bfe47ffb5f87e5d95a322d8",
      "f45161b0c0cf473fb489158a4896801e",
      "37ad2b15cd144a83846785cf03e9336f",
      "632aca3907604d8f85cf1d1fda8e273a",
      "03ab9717d8b044b3adfba829b7a9f2b0",
      "d67bf06b4b8443308cbce5554e3eb0eb",
      "921a5a891ce84e3bb40cb0fac711192c",
      "5521b317688c45138007802a2ba9139c",
      "f52cf04a0a0f4615b0f476e15c67d73c",
      "c40d088ec9104f8f96976f72cac120c3",
      "175cb70627d442d7a515d92185d340c9",
      "12f85c1123044220b49c983c1d211096",
      "edd4ae6628a0405c926c92e7ec57fc67",
      "0894f44e69fd411ab4bcbf7f2001c463",
      "5d28ac91946c441786d68cae86f6b9d7",
      "36d0432a511244fe9907f1a955a93e40",
      "b69fdb3d3e464d50af97b142d1ff7d8b",
      "880e2b0025be4444b46c8e208b76cc10",
      "f5f2b4a0ec7a49c48981f1c5599bef7c",
      "3b9d95aba83444bdb6adcd1e53070093",
      "fe53a18bf3094f049059ddf4a0a86757",
      "6d4e62e2add94e87bac1b68344421d2b",
      "4412b57193a64dc5af5fdd271a7fc9ff",
      "296a441a0f9d4a81b8114b49260bf7c2",
      "274825c26afd43d08e2f1079ab7892e9",
      "4c9ea6568d934412915e6e4a9e88d866",
      "4da8880f9f154cda94569c8172bab922",
      "e9e746f21818463089fcd156dff53ffd",
      "0cadb826ccf444d4aa770ba8fe7c331b",
      "be365fc11eed4b579414334979be8994",
      "3ac16abd79f34ceeab3163bab7874f2e",
      "36d23f99c7e14d94997c2b23aca579a6",
      "2e0317e1d51c4ed6be5417c521f85fef",
      "6a1c256b4b264cc98d2e76e9454be7eb",
      "151ab607819b4d458d2f10439a14ddef",
      "e421eb34a6434f85836c8e5e41c148fb",
      "1b2e657f8cc741b186311f6a943f0afe",
      "327c3962891e48e88e553f7bcdbce9b4",
      "8ecac99242f342e4aa148e8f7d8123db",
      "92fb6cec608a49368c4f1f4426420ac4",
      "73c555b162ff44cd8d58b2e9720bfcae",
      "bb0d57f539b9484f9f66afa37a156156",
      "3b9dbe5ea0d2477cbd6367a88dec43ca",
      "73d167b779764f37bb770695696f0fec",
      "518034fe734343d78967b767368ceebb",
      "53c03a212d8247c9a66dc8392568a7d3",
      "239cee4e74f64c69ad4807359a130f4c",
      "335813fe965c475da98c6c95406d5d30",
      "05c774a91fe14bf38ffa803222eec236",
      "f59720cf3fa541e681db3f9f3c845cd5",
      "e7bd1291594c4fe286c072ab16b4b8a0",
      "ab0db971991141d59c358c0ddd43fece",
      "4937a452c2bf4ad2bda86d8e6aa75f06",
      "c1acae01ceb0425c8e4a62fa005490f2",
      "5ce7d1c3c1cf47c3bec4303038092f32",
      "2ceaaa151a24485499ee92d203a2c7f3",
      "ed4438c6abf54680a3296efb8fc2fb0d",
      "879a43d10c5745209c4a9ade53e30e39",
      "ab60d9bad2004ff1a47010c1568533db",
      "644a962fe3604f70a111196b9e661595",
      "b95f3aab37c643489187823bd8d87d0f",
      "f82c788cd39647cdbce3edb5d21c4f50",
      "af0bd9922cff4e478aeab5a199bfc8cb",
      "9f1ede2b042e4b80a2582d1d08d3a91e",
      "860d1612cc2f4225b48026c65e24822f",
      "d40902def2d44f7fabde2d14207f5db1",
      "47362220b61943be99d31a89fb770f36",
      "cb631c4368204f23a47f64b95c649397",
      "1afb5e9b6ab44234b9ec1d10e0aa30b7",
      "f6fb24f709cb4a78bd53740de32147d2",
      "390c5423352c41e7925804f5594cee46",
      "93ac01df0c5c4c77be0f31692b5eb067",
      "c8c76140744943f5bca739faaf903072",
      "fec1c9315f8a497ca528bcbaaa0ed010",
      "b36e4cb7d0804f339da4d918f9386cb9",
      "d91fb599a122401188a1e817e0f3914c",
      "ec7b6688a5b842f9846afdf136998873",
      "2c63192029934e46b873ac3b5062fa52",
      "c1436ba5146b4a79b06b0acd513a0bfc",
      "45aafaa393c44b5e81f8a49bca74ae63",
      "6b77521b380943afb50f2c54fd0a1f79",
      "74ea03ecdabf4607a650bf4189be1645",
      "dda84d94644a431995c8c0b9ab0be4aa",
      "475d9f65e6814d0f908fafdd60ec6ab5",
      "a4dbb2488175459584eb0ada284ecae0",
      "cc0daf8bdec7451fa673d1a983111484",
      "c1637d0ead854406b048f0e70a800cd6",
      "3b1fc7dc44f54989b8cb98b0b50f5e0d",
      "f7ff7352b5ef4df38068864faa315477",
      "61143e2ca41f4cb2928b2b9e06cc641c",
      "0b970742a4044d2eab383519f96ebd9c",
      "1338d21eab4e421d87acea7112fec9d0",
      "525216f25db545cb8ceb9c398f0977f4",
      "0d0f7dd2c49a434ab608f77b000da084",
      "1bf02efeaf4d419c8b815e152ecbe587",
      "15a4abf7b5d744af9c3c22520702b7d9",
      "3cb1497a7a8d4fe1bfb96bc8f043243a",
      "540e71f1df5f4b99908893c69c89f348",
      "bae58b2fd0d14741bd174189dbba9f6a",
      "cf61712da0bb4713be0d82db47758f90",
      "f94556aa9d684b72ad142f5905bbf5bb",
      "21217ef4d0f242b4a38ff80ac044ce86",
      "b20745e796dd4edf862c97dcec798cac",
      "68efa495c2e146299a68fdd3cef9e3c1",
      "db21e571c9764bb1a4415df5ae4b0556",
      "6e88df5ef45d45479e58491bc8461cd7",
      "67533cb7bb6a48f1889700d541cf5ac5",
      "6942bc9c6d004fb2b4df0d92427f5c32",
      "820dfef1002f429b9a7be84aba2c2655",
      "0eb28ddcc86446bab9847f76bea65920",
      "e7d80ab0318c4dc9bd5db07ddc79d91d",
      "0efd2462326943ea9f53e5cde1a7d9f9",
      "f7837327b1ea46cb8d865f0854724fd6",
      "16896da7d7d5461d81cd1bcd86dd6774",
      "fe5f04d4d5d84313a58cf82dad04e1c7",
      "7dab29cdeae24a7b9dfdeb5711ea197f",
      "5f187990ba444f8bb0250bee6893c41a",
      "2685e4cde3b74335bdcd2500b565973b",
      "b75820faa7b14b2bb7ea6d2736f1c51c",
      "0ee2bcaf9f164d80ae768a17c712485f",
      "5b40e12e749c4ef3864c47b2bb7b9a81",
      "c2bf69a5500b4c88b903b7b0ae1a5d7c",
      "911e07fdb1e64714bc64756cbf54046a",
      "95afaaa69ed64b8daaca2a90c8edb1f1",
      "821e74e320dd42408d9a24d39f2514ec",
      "ea37517d0b90421bb29184b0e624fc6c",
      "b2a7c3f76d894f7faafe2243680f7e9e",
      "e898f46e1a104b8397198b7d9e303cbe",
      "51c8beba995e4963ad35fba8af189458",
      "9db14a8e76a34bfbace95e6e0a5d5386",
      "4468063ab0b142239a766dd62d44fd5d",
      "9b8447c283e447dd87bd91cb7e10c765",
      "a26dd351e4c541fca11bae5e0ce856c7",
      "71fe27c9d10e4ddd9f65836cc46acd7e",
      "959e057c25044ee990a2d923d557680e",
      "f6f56d2a45884440bc171be72d77e8b7",
      "8adc30b7e8c74b4fa6e4876405dcc642",
      "3e60bd7fc337461191456a8c3ab0f5ac",
      "5572c65f780d41cc8830844354ef8c9c",
      "59aac7f7b9b84a1b84068ad7b9d6e97f",
      "a225c16f09e34ad5bc67961e42525726",
      "a4ffce201ac44fa18c3a419d63fb682a",
      "b77e5513ffdd4b318a25c51902b30579",
      "250999339fd74303bf27ae51f645abe4",
      "c35c14a4659b4827991ef0196977d621",
      "5e4b16aa758b4534944cb81d4629379a",
      "fada6d79cb214779bbde79705dcca2ee",
      "b97ee560e61b43b8991c74316a91e460",
      "1a4c4dc97d454c55810c8e2798fc29c1",
      "99a93fb0b15c4d0aa4aab9e3336fb3eb",
      "2b7e6213a3714a8896886406a7027485",
      "b932ac8bfa86490b929c181ed018fdf9",
      "f0a85eeba2984e22906b609499f87c0d",
      "d02fed5470244367afdeb0e5ebf46e7f",
      "8499aa70ce484d1db9d2f7638fea4407",
      "51302eddecd242129f6f1b6b3029523a",
      "ef90865b94eb4585ae8cde68f2b8c84a",
      "109bf51a7269418190e1514ccb093dbb",
      "2298d7d9778a4591b8932bce71a399de",
      "98618764f0d641dab4970b0f8530fac9",
      "97e87a1f4bd3462bb76c29e5c07a7c4d",
      "7decc5abbd0649fe9bcb447b3dd89890",
      "e34b06da38604b6a82fef64c8d0732b5",
      "7465f98d23d0456a9496f7cb1ab5d327",
      "dc8916bfa7b9474cb3bfc616f70e1508",
      "60d126dc5ad24ed288ac1b40a18d4c0d",
      "155a9eb4e7d1434188c05aa5707b6862",
      "4a7571d5c7ff48a0b2664d72a0a6bb45",
      "33d5268d3daa4b1183c1bde84c4a8a69",
      "bc39513ab59943a98985aa471fdf2d49",
      "58743df8cd2e4f75b0bcd5df44c30773",
      "ba669c2cbcc345fea31945c193918a8c",
      "f8beec8de6194268a470bea7b8794c9e",
      "6373e5cb353042a8b298fb0d233f0da4",
      "dda26c4f66894794a119e80e2fcea537",
      "b07cedfac281411f8ee240265d255db3",
      "8fea7e1e93b94d308ec81aba3d51407f",
      "c8fd1d49c2fb4825b5b5a416fc708d56",
      "047e024661064eb3bb42e141e131b8f7",
      "a3ad24a9cc7b41d5a47488884709ea02",
      "0e49cbb87a1141d981a680249fb0cc9e",
      "931972d601a34fbaad68d97cc9f7a5e1",
      "15afc1a863704d9f8da75daee4432003",
      "b9a994ebeeb8416f8cede4efc60e604e",
      "0e0e249e0a7b4964aff2bb5409690fc5",
      "5836c20f552c40aea568d8642902b579",
      "c959198e983748b08244211a651bc4eb",
      "87396514df0d43c4920526cdac24b3c8",
      "41f5a56ffa57429598ba5878d74ecba2",
      "b7dc6f84bd5f4312a999cd874dc72f53",
      "5ae04d6eae9548d796cc1a76c67e2816",
      "f7087c31e4f143a9bd43e225229b6be6",
      "2a47b2158be145658a4e1688b801ff30",
      "6a261e6e1745410cbd1c25b3c276b384",
      "f7667cf80bb940008b853882deae9b32",
      "e9c9d3d889e147088c914cdea7e62491",
      "03048f0771f4407689139aecc81ccbaf",
      "57af3231e14a4bd4add90daaa94442a5",
      "6da333445d9342f99037849a083332b6",
      "b42ac10e53ed4ed6a87f5a16b442446b",
      "94b39a34c7654e878c6764f6ddb36c4c",
      "07ba778a0a544745a3f068040c56b4c2",
      "39334e855c5543cd85be3f8c4327d4b8",
      "102e6eadbcc74210921db04227f324a1",
      "f2cc2c2d170340308a7b85c662fa95a3",
      "20ddeb28b38b4bf7b79c5c820cd4e4fd",
      "f2371b5f1dac40b6a52e8e1cfa770b64",
      "a60ab93e7cc441a2a0a21414d91d4ec3",
      "4088278ddd05417fbc97445483d191bd",
      "e1eb0f6f93244fbe94ccdfe104338fdc",
      "81060342c8bc4c09bc50138c22b6b213",
      "432fd9ba857041ad890f07f3ed21f122",
      "8cea593338714ecdaac88e52eabfd3e4",
      "c510db7ccff446b197bfef54c1cc98c0",
      "4f688a0b6fd24780882700057afb5d1d",
      "1ffb6ec7e4594c3ea04a48f650c0a6a0",
      "afee5ae776a44893a71d53d7fba1ad8e",
      "01edb15a55504cf78f042ea89d964003",
      "1c061a2ec73f491b8fcf7cc076070658",
      "19da521dfa3a446abeec75c89af643cb",
      "10df3684ed3e4d0c90579af2bedd26d0",
      "6df5e6491bf745fda20d6d2a01eec4a8",
      "caf65c745dcb4a60885988e30b30e485",
      "06b9a1c21caf4607852740b04b33dba7",
      "deb1308d30cc4740b961206df4140e8b",
      "93ad5674bbdd4d7d8ec20864b4effa13",
      "e65c075f404944edaab7e6efb2e80cff",
      "2037ed8928cf4b04a8e20d411c76c614",
      "fb8e1461c50a45e58ad21e3051e1d6b9",
      "b46d55c9120f456abc588e61fb4635a5",
      "f274c47f40a446349a8a6e8bf94f6006",
      "f667665c5039420097496c2431bb19ac",
      "7cd99a1e46b34aa78b254d44444b9aa0",
      "27291c47b6a94a28aa5715063f1e8c8d",
      "fc84f1882f3048c9a5067b156284b66a",
      "231a253823f141e983b2c6683f850ff4",
      "e32e9f80cef54526b53622d9d2cf1563",
      "5819016caa1c40c8850badb0b3c10396",
      "b73da6651b6a4bcf8eafefd4ba0fcda1",
      "a086eb109a5e4fd591f173da0fc36db0",
      "28aec379bb1c4a56a73f6a294963f087",
      "59b260a09bb848f8915bd1804ca549d1",
      "ab4b7f6dc83846b4be55404bfc1e00db",
      "44cbf610db2c4742a6584f70558e45ad",
      "0860951964b04003852f1abdd7cc0668",
      "4683cd369c6a44118c8edc9d36a473b6",
      "11145ba4435743c5830c7bc9a99989a5",
      "0ed7389c587c42b48517a2c9f2f2a7cd",
      "3fe28cb434e24d878585a25b824d9f63",
      "e7842b65c07a41f68f873332bd0b1f28",
      "9450eed8109b4a729c0ca146be9d651b",
      "bf2c1ae771574b67ac13cd8f95952646"
     ]
    },
    "executionInfo": {
     "elapsed": 370903,
     "status": "ok",
     "timestamp": 1760501895087,
     "user": {
      "displayName": "KHEMMANAT KIATTIKULPIMOL",
      "userId": "06448714020354424233"
     },
     "user_tz": -420
    },
    "id": "WgUA3H9PD7JR",
    "outputId": "081e1d25-42c0-43f8-ac1b-9bd0e4f69a91"
   },
   "outputs": [
    {
     "name": "stdout",
     "output_type": "stream",
     "text": [
      "Google Drive is already mounted.\n",
      "Input : /content/drive/MyDrive/Final EGBI222 Group Project/chunks/transcripts_p2_4399-8795.csv\n",
      "Output: /content/drive/MyDrive/Final EGBI222 Group Project/chunk2/transcripts_p2_4399-8795.csv\n",
      "Loaded rows: 4397\n"
     ]
    },
    {
     "data": {
      "application/vnd.jupyter.widget-view+json": {
       "model_id": "408aa5e02d7e454883805552b113199a",
       "version_major": 2,
       "version_minor": 0
      },
      "text/plain": [
       "Cleaning:   0%|          | 0/4397 [00:00<?, ?it/s]"
      ]
     },
     "metadata": {},
     "output_type": "display_data"
    },
    {
     "name": "stdout",
     "output_type": "stream",
     "text": [
      "Rows after cleaning: 4397\n"
     ]
    },
    {
     "data": {
      "application/vnd.jupyter.widget-view+json": {
       "model_id": "b257bf8a352c408cbe5eab2d7471f4ad",
       "version_major": 2,
       "version_minor": 0
      },
      "text/plain": [
       "Detecting language:   0%|          | 0/4397 [00:00<?, ?it/s]"
      ]
     },
     "metadata": {},
     "output_type": "display_data"
    },
    {
     "name": "stdout",
     "output_type": "stream",
     "text": [
      "Language counts:\n",
      " lang\n",
      "en       3269\n",
      "pt        152\n",
      "es        141\n",
      "ja         98\n",
      "ru         85\n",
      "ar         79\n",
      "de         72\n",
      "fr         69\n",
      "ko         58\n",
      "pl         39\n",
      "tr         31\n",
      "und        30\n",
      "th         28\n",
      "vi         24\n",
      "cs         18\n",
      "bg         18\n",
      "it         17\n",
      "hu         16\n",
      "sv         13\n",
      "el         13\n",
      "he         12\n",
      "ca          8\n",
      "sk          8\n",
      "no          8\n",
      "nl          8\n",
      "uk          8\n",
      "sl          7\n",
      "et          7\n",
      "so          6\n",
      "ro          6\n",
      "fa          6\n",
      "mk          5\n",
      "zh-tw       5\n",
      "tl          4\n",
      "fi          4\n",
      "cy          4\n",
      "da          3\n",
      "zh-cn       3\n",
      "id          3\n",
      "lt          3\n",
      "sw          2\n",
      "bn          2\n",
      "hr          2\n",
      "af          2\n",
      "sq          1\n",
      "Name: count, dtype: int64\n"
     ]
    },
    {
     "data": {
      "application/vnd.jupyter.widget-view+json": {
       "model_id": "f887e03a1d14407da188103cfc9a5978",
       "version_major": 2,
       "version_minor": 0
      },
      "text/plain": [
       "pt->en (batch):   0%|          | 0/2 [00:00<?, ?it/s]"
      ]
     },
     "metadata": {},
     "output_type": "display_data"
    },
    {
     "data": {
      "application/vnd.jupyter.widget-view+json": {
       "model_id": "098c11429fd241c7b0c202ee4a75e461",
       "version_major": 2,
       "version_minor": 0
      },
      "text/plain": [
       "es->en (batch):   0%|          | 0/2 [00:00<?, ?it/s]"
      ]
     },
     "metadata": {},
     "output_type": "display_data"
    },
    {
     "data": {
      "application/vnd.jupyter.widget-view+json": {
       "model_id": "0db47aa1371949608324ebd80c33a4af",
       "version_major": 2,
       "version_minor": 0
      },
      "text/plain": [
       "ja->en (batch):   0%|          | 0/2 [00:00<?, ?it/s]"
      ]
     },
     "metadata": {},
     "output_type": "display_data"
    },
    {
     "data": {
      "application/vnd.jupyter.widget-view+json": {
       "model_id": "221338658cf347488cc48b40d051cc90",
       "version_major": 2,
       "version_minor": 0
      },
      "text/plain": [
       "ru->en (batch):   0%|          | 0/2 [00:00<?, ?it/s]"
      ]
     },
     "metadata": {},
     "output_type": "display_data"
    },
    {
     "data": {
      "application/vnd.jupyter.widget-view+json": {
       "model_id": "c46ef80a52ba495f9598cf52f0b4283d",
       "version_major": 2,
       "version_minor": 0
      },
      "text/plain": [
       "ar->en (batch):   0%|          | 0/1 [00:00<?, ?it/s]"
      ]
     },
     "metadata": {},
     "output_type": "display_data"
    },
    {
     "data": {
      "application/vnd.jupyter.widget-view+json": {
       "model_id": "f00fe2691a61491ba4487f65beae35cf",
       "version_major": 2,
       "version_minor": 0
      },
      "text/plain": [
       "de->en (batch):   0%|          | 0/1 [00:00<?, ?it/s]"
      ]
     },
     "metadata": {},
     "output_type": "display_data"
    },
    {
     "data": {
      "application/vnd.jupyter.widget-view+json": {
       "model_id": "ddbab643dce14fa8b05212456c4e84bc",
       "version_major": 2,
       "version_minor": 0
      },
      "text/plain": [
       "fr->en (batch):   0%|          | 0/1 [00:00<?, ?it/s]"
      ]
     },
     "metadata": {},
     "output_type": "display_data"
    },
    {
     "data": {
      "application/vnd.jupyter.widget-view+json": {
       "model_id": "a864ced7f76545d6b938de0d104992d0",
       "version_major": 2,
       "version_minor": 0
      },
      "text/plain": [
       "ko->en (batch):   0%|          | 0/1 [00:00<?, ?it/s]"
      ]
     },
     "metadata": {},
     "output_type": "display_data"
    },
    {
     "data": {
      "application/vnd.jupyter.widget-view+json": {
       "model_id": "d60318e110864605b719477a4084ff8a",
       "version_major": 2,
       "version_minor": 0
      },
      "text/plain": [
       "pl->en (batch):   0%|          | 0/1 [00:00<?, ?it/s]"
      ]
     },
     "metadata": {},
     "output_type": "display_data"
    },
    {
     "data": {
      "application/vnd.jupyter.widget-view+json": {
       "model_id": "d4ce4bf3f414402896daa77e5bdb325f",
       "version_major": 2,
       "version_minor": 0
      },
      "text/plain": [
       "tr->en (batch):   0%|          | 0/1 [00:00<?, ?it/s]"
      ]
     },
     "metadata": {},
     "output_type": "display_data"
    },
    {
     "data": {
      "application/vnd.jupyter.widget-view+json": {
       "model_id": "3f3328e13adf44be8a4bc61008bb9ee3",
       "version_major": 2,
       "version_minor": 0
      },
      "text/plain": [
       "th->en (batch):   0%|          | 0/1 [00:00<?, ?it/s]"
      ]
     },
     "metadata": {},
     "output_type": "display_data"
    },
    {
     "data": {
      "application/vnd.jupyter.widget-view+json": {
       "model_id": "a520a7471229422c8e3a7746a800c405",
       "version_major": 2,
       "version_minor": 0
      },
      "text/plain": [
       "vi->en (batch):   0%|          | 0/1 [00:00<?, ?it/s]"
      ]
     },
     "metadata": {},
     "output_type": "display_data"
    },
    {
     "data": {
      "application/vnd.jupyter.widget-view+json": {
       "model_id": "826d21cb34d24dfea0123a1219f93d02",
       "version_major": 2,
       "version_minor": 0
      },
      "text/plain": [
       "cs->en (batch):   0%|          | 0/1 [00:00<?, ?it/s]"
      ]
     },
     "metadata": {},
     "output_type": "display_data"
    },
    {
     "data": {
      "application/vnd.jupyter.widget-view+json": {
       "model_id": "497c73f5f0894d9b97b75e24b68a956c",
       "version_major": 2,
       "version_minor": 0
      },
      "text/plain": [
       "bg->en (batch):   0%|          | 0/1 [00:00<?, ?it/s]"
      ]
     },
     "metadata": {},
     "output_type": "display_data"
    },
    {
     "data": {
      "application/vnd.jupyter.widget-view+json": {
       "model_id": "5cc13fef774d43fba648683950baff2e",
       "version_major": 2,
       "version_minor": 0
      },
      "text/plain": [
       "it->en (batch):   0%|          | 0/1 [00:00<?, ?it/s]"
      ]
     },
     "metadata": {},
     "output_type": "display_data"
    },
    {
     "data": {
      "application/vnd.jupyter.widget-view+json": {
       "model_id": "689843f339ca4389ad7b4b46ad9d11f2",
       "version_major": 2,
       "version_minor": 0
      },
      "text/plain": [
       "hu->en (batch):   0%|          | 0/1 [00:00<?, ?it/s]"
      ]
     },
     "metadata": {},
     "output_type": "display_data"
    },
    {
     "data": {
      "application/vnd.jupyter.widget-view+json": {
       "model_id": "bf51369bd5f44e3381d1f5105713ee8e",
       "version_major": 2,
       "version_minor": 0
      },
      "text/plain": [
       "sv->en (batch):   0%|          | 0/1 [00:00<?, ?it/s]"
      ]
     },
     "metadata": {},
     "output_type": "display_data"
    },
    {
     "data": {
      "application/vnd.jupyter.widget-view+json": {
       "model_id": "2ad5ca8d81bc4217abb85caaca2e0110",
       "version_major": 2,
       "version_minor": 0
      },
      "text/plain": [
       "el->en (batch):   0%|          | 0/1 [00:00<?, ?it/s]"
      ]
     },
     "metadata": {},
     "output_type": "display_data"
    },
    {
     "data": {
      "application/vnd.jupyter.widget-view+json": {
       "model_id": "e2008c1d4bca44ddbb0d02960e3f7fdc",
       "version_major": 2,
       "version_minor": 0
      },
      "text/plain": [
       "he->en (batch):   0%|          | 0/1 [00:00<?, ?it/s]"
      ]
     },
     "metadata": {},
     "output_type": "display_data"
    },
    {
     "data": {
      "application/vnd.jupyter.widget-view+json": {
       "model_id": "1fba28710f454c12ac6a2c3e80200897",
       "version_major": 2,
       "version_minor": 0
      },
      "text/plain": [
       "ca->en (batch):   0%|          | 0/1 [00:00<?, ?it/s]"
      ]
     },
     "metadata": {},
     "output_type": "display_data"
    },
    {
     "data": {
      "application/vnd.jupyter.widget-view+json": {
       "model_id": "4cbe7363717c4e7f8af0ba21486d4f46",
       "version_major": 2,
       "version_minor": 0
      },
      "text/plain": [
       "sk->en (batch):   0%|          | 0/1 [00:00<?, ?it/s]"
      ]
     },
     "metadata": {},
     "output_type": "display_data"
    },
    {
     "data": {
      "application/vnd.jupyter.widget-view+json": {
       "model_id": "11553984f52b412aa625da70198e0278",
       "version_major": 2,
       "version_minor": 0
      },
      "text/plain": [
       "no->en (batch):   0%|          | 0/1 [00:00<?, ?it/s]"
      ]
     },
     "metadata": {},
     "output_type": "display_data"
    },
    {
     "data": {
      "application/vnd.jupyter.widget-view+json": {
       "model_id": "175cb70627d442d7a515d92185d340c9",
       "version_major": 2,
       "version_minor": 0
      },
      "text/plain": [
       "nl->en (batch):   0%|          | 0/1 [00:00<?, ?it/s]"
      ]
     },
     "metadata": {},
     "output_type": "display_data"
    },
    {
     "data": {
      "application/vnd.jupyter.widget-view+json": {
       "model_id": "6d4e62e2add94e87bac1b68344421d2b",
       "version_major": 2,
       "version_minor": 0
      },
      "text/plain": [
       "uk->en (batch):   0%|          | 0/1 [00:00<?, ?it/s]"
      ]
     },
     "metadata": {},
     "output_type": "display_data"
    },
    {
     "data": {
      "application/vnd.jupyter.widget-view+json": {
       "model_id": "2e0317e1d51c4ed6be5417c521f85fef",
       "version_major": 2,
       "version_minor": 0
      },
      "text/plain": [
       "sl->en (batch):   0%|          | 0/1 [00:00<?, ?it/s]"
      ]
     },
     "metadata": {},
     "output_type": "display_data"
    },
    {
     "data": {
      "application/vnd.jupyter.widget-view+json": {
       "model_id": "73d167b779764f37bb770695696f0fec",
       "version_major": 2,
       "version_minor": 0
      },
      "text/plain": [
       "et->en (batch):   0%|          | 0/1 [00:00<?, ?it/s]"
      ]
     },
     "metadata": {},
     "output_type": "display_data"
    },
    {
     "data": {
      "application/vnd.jupyter.widget-view+json": {
       "model_id": "5ce7d1c3c1cf47c3bec4303038092f32",
       "version_major": 2,
       "version_minor": 0
      },
      "text/plain": [
       "so->en (batch):   0%|          | 0/1 [00:00<?, ?it/s]"
      ]
     },
     "metadata": {},
     "output_type": "display_data"
    },
    {
     "data": {
      "application/vnd.jupyter.widget-view+json": {
       "model_id": "d40902def2d44f7fabde2d14207f5db1",
       "version_major": 2,
       "version_minor": 0
      },
      "text/plain": [
       "ro->en (batch):   0%|          | 0/1 [00:00<?, ?it/s]"
      ]
     },
     "metadata": {},
     "output_type": "display_data"
    },
    {
     "data": {
      "application/vnd.jupyter.widget-view+json": {
       "model_id": "ec7b6688a5b842f9846afdf136998873",
       "version_major": 2,
       "version_minor": 0
      },
      "text/plain": [
       "fa->en (batch):   0%|          | 0/1 [00:00<?, ?it/s]"
      ]
     },
     "metadata": {},
     "output_type": "display_data"
    },
    {
     "data": {
      "application/vnd.jupyter.widget-view+json": {
       "model_id": "3b1fc7dc44f54989b8cb98b0b50f5e0d",
       "version_major": 2,
       "version_minor": 0
      },
      "text/plain": [
       "mk->en (batch):   0%|          | 0/1 [00:00<?, ?it/s]"
      ]
     },
     "metadata": {},
     "output_type": "display_data"
    },
    {
     "data": {
      "application/vnd.jupyter.widget-view+json": {
       "model_id": "bae58b2fd0d14741bd174189dbba9f6a",
       "version_major": 2,
       "version_minor": 0
      },
      "text/plain": [
       "zh-tw->en (batch):   0%|          | 0/1 [00:00<?, ?it/s]"
      ]
     },
     "metadata": {},
     "output_type": "display_data"
    },
    {
     "data": {
      "application/vnd.jupyter.widget-view+json": {
       "model_id": "0eb28ddcc86446bab9847f76bea65920",
       "version_major": 2,
       "version_minor": 0
      },
      "text/plain": [
       "tl->en (batch):   0%|          | 0/1 [00:00<?, ?it/s]"
      ]
     },
     "metadata": {},
     "output_type": "display_data"
    },
    {
     "data": {
      "application/vnd.jupyter.widget-view+json": {
       "model_id": "5b40e12e749c4ef3864c47b2bb7b9a81",
       "version_major": 2,
       "version_minor": 0
      },
      "text/plain": [
       "fi->en (batch):   0%|          | 0/1 [00:00<?, ?it/s]"
      ]
     },
     "metadata": {},
     "output_type": "display_data"
    },
    {
     "data": {
      "application/vnd.jupyter.widget-view+json": {
       "model_id": "9b8447c283e447dd87bd91cb7e10c765",
       "version_major": 2,
       "version_minor": 0
      },
      "text/plain": [
       "cy->en (batch):   0%|          | 0/1 [00:00<?, ?it/s]"
      ]
     },
     "metadata": {},
     "output_type": "display_data"
    },
    {
     "data": {
      "application/vnd.jupyter.widget-view+json": {
       "model_id": "b77e5513ffdd4b318a25c51902b30579",
       "version_major": 2,
       "version_minor": 0
      },
      "text/plain": [
       "da->en (batch):   0%|          | 0/1 [00:00<?, ?it/s]"
      ]
     },
     "metadata": {},
     "output_type": "display_data"
    },
    {
     "data": {
      "application/vnd.jupyter.widget-view+json": {
       "model_id": "d02fed5470244367afdeb0e5ebf46e7f",
       "version_major": 2,
       "version_minor": 0
      },
      "text/plain": [
       "zh-cn->en (batch):   0%|          | 0/1 [00:00<?, ?it/s]"
      ]
     },
     "metadata": {},
     "output_type": "display_data"
    },
    {
     "data": {
      "application/vnd.jupyter.widget-view+json": {
       "model_id": "dc8916bfa7b9474cb3bfc616f70e1508",
       "version_major": 2,
       "version_minor": 0
      },
      "text/plain": [
       "id->en (batch):   0%|          | 0/1 [00:00<?, ?it/s]"
      ]
     },
     "metadata": {},
     "output_type": "display_data"
    },
    {
     "data": {
      "application/vnd.jupyter.widget-view+json": {
       "model_id": "b07cedfac281411f8ee240265d255db3",
       "version_major": 2,
       "version_minor": 0
      },
      "text/plain": [
       "lt->en (batch):   0%|          | 0/1 [00:00<?, ?it/s]"
      ]
     },
     "metadata": {},
     "output_type": "display_data"
    },
    {
     "data": {
      "application/vnd.jupyter.widget-view+json": {
       "model_id": "c959198e983748b08244211a651bc4eb",
       "version_major": 2,
       "version_minor": 0
      },
      "text/plain": [
       "sw->en (batch):   0%|          | 0/1 [00:00<?, ?it/s]"
      ]
     },
     "metadata": {},
     "output_type": "display_data"
    },
    {
     "data": {
      "application/vnd.jupyter.widget-view+json": {
       "model_id": "57af3231e14a4bd4add90daaa94442a5",
       "version_major": 2,
       "version_minor": 0
      },
      "text/plain": [
       "bn->en (batch):   0%|          | 0/1 [00:00<?, ?it/s]"
      ]
     },
     "metadata": {},
     "output_type": "display_data"
    },
    {
     "data": {
      "application/vnd.jupyter.widget-view+json": {
       "model_id": "4088278ddd05417fbc97445483d191bd",
       "version_major": 2,
       "version_minor": 0
      },
      "text/plain": [
       "hr->en (batch):   0%|          | 0/1 [00:00<?, ?it/s]"
      ]
     },
     "metadata": {},
     "output_type": "display_data"
    },
    {
     "data": {
      "application/vnd.jupyter.widget-view+json": {
       "model_id": "19da521dfa3a446abeec75c89af643cb",
       "version_major": 2,
       "version_minor": 0
      },
      "text/plain": [
       "af->en (batch):   0%|          | 0/1 [00:00<?, ?it/s]"
      ]
     },
     "metadata": {},
     "output_type": "display_data"
    },
    {
     "data": {
      "application/vnd.jupyter.widget-view+json": {
       "model_id": "f274c47f40a446349a8a6e8bf94f6006",
       "version_major": 2,
       "version_minor": 0
      },
      "text/plain": [
       "sq->en (batch):   0%|          | 0/1 [00:00<?, ?it/s]"
      ]
     },
     "metadata": {},
     "output_type": "display_data"
    },
    {
     "data": {
      "application/vnd.jupyter.widget-view+json": {
       "model_id": "59b260a09bb848f8915bd1804ca549d1",
       "version_major": 2,
       "version_minor": 0
      },
      "text/plain": [
       "und->en (batch):   0%|          | 0/1 [00:00<?, ?it/s]"
      ]
     },
     "metadata": {},
     "output_type": "display_data"
    },
    {
     "name": "stdout",
     "output_type": "stream",
     "text": [
      "✅ Saved: /content/drive/MyDrive/Final EGBI222 Group Project/chunk2/transcripts_p2_4399-8795.csv\n",
      "\n",
      "Head:\n",
      "  video_id_clean                                         transcript  \\\n",
      "0    F0t2-GlCMBk  First Aid Kit performing First Aid Kit perform...   \n",
      "1    F1bP-wz3zlo  Liquid Soul - Cachoeira Alta Festival (3) Liqu...   \n",
      "2    F1qh-INMZF0                            SUNP0052 dominoes7video   \n",
      "\n",
      "                                       transcript_en  \n",
      "0  First Aid Kit performing First Aid Kit perform...  \n",
      "1  Liquid Soul - Cachoeira Alta Festival (3) Liqu...  \n",
      "2                            SUNP0052 dominoes7video  \n",
      "\n",
      "Done.\n"
     ]
    }
   ],
   "source": [
    "!pip -q install langdetect==1.0.9 deep-translator==1.11.4 tqdm==4.66.5\n",
    "\n",
    "from google.colab import drive\n",
    "from langdetect import detect, DetectorFactory, LangDetectException\n",
    "from deep_translator import GoogleTranslator, MyMemoryTranslator\n",
    "from tqdm.auto import tqdm\n",
    "import pandas as pd, numpy as np\n",
    "import os, re, time, random, sys\n",
    "\n",
    "if not os.path.exists('/content/drive'):\n",
    "    drive.mount('/content/drive')\n",
    "else:\n",
    "    print(\"Google Drive is already mounted.\")\n",
    "\n",
    "BASE   = \"/content/drive/MyDrive/Final EGBI222 Group Project\"\n",
    "IN_CSV = os.path.join(BASE, \"chunks\", \"transcripts_p2_4399-8795.csv\")\n",
    "OUTDIR = os.path.join(BASE, \"chunk2\")\n",
    "OUT_CSV = os.path.join(OUTDIR, \"transcripts_p2_4399-8795.csv\")\n",
    "AUDIO_DIR = f\"{BASE}/audio\" # This directory is not used in the current script\n",
    "\n",
    "os.makedirs(OUTDIR, exist_ok=True)\n",
    "os.makedirs(AUDIO_DIR, exist_ok=True) # This directory is not used in the current script\n",
    "print(\"Input :\", IN_CSV)\n",
    "print(\"Output:\", OUT_CSV)\n",
    "\n",
    "try:\n",
    "    df = pd.read_csv(IN_CSV)\n",
    "    # Ensure transcript column exists\n",
    "    if 'transcript' not in df.columns:\n",
    "        for c in ['text', 'caption', 'content']:\n",
    "            if c in df.columns:\n",
    "                df = df.rename(columns={c: 'transcript'})\n",
    "                break\n",
    "    if 'transcript' not in df.columns:\n",
    "        raise KeyError(\"Input must contain a 'transcript' column (or one of ['text','caption','content']).\")\n",
    "    print(f\"Loaded rows: {len(df)}\")\n",
    "except Exception as e:\n",
    "    print(f\"[FATAL] Could not load input CSV: {e}\")\n",
    "    raise\n",
    "\n",
    "def clean_text(s: str) -> str:\n",
    "    if pd.isna(s): return \"\"\n",
    "    s = str(s)\n",
    "    s = s.replace(\"\\u200b\",\"\").replace(\"\\u200c\",\"\").replace(\"\\u200d\",\"\").replace(\"\\ufeff\",\"\")\n",
    "    s = re.sub(r\"[\\u0000-\\u0008\\u000B\\u000C\\u000E-\\u001F\\u007F]\", \"\", s)  # control chars\n",
    "    s = re.sub(r\"[^\\S\\r\\n\\t]+\", \" \", s).strip()  # whitespace\n",
    "    s = re.sub(r\"(.)\\1{5,}\", r\"\\1\\1\\1\\1\\1\", s)  # crazy repeats\n",
    "    return s\n",
    "\n",
    "tqdm.pandas(desc=\"Cleaning\")\n",
    "df['transcript'] = df['transcript'].progress_apply(clean_text)\n",
    "df = df[df['transcript'].str.strip() != \"\"].copy()\n",
    "print(\"Rows after cleaning:\", len(df))\n",
    "\n",
    "DetectorFactory.seed = 0\n",
    "\n",
    "def quick_ascii_english(s: str) -> bool:\n",
    "    \"\"\"Fast check: mostly ASCII & contains vowels/spaces -> likely English.\"\"\"\n",
    "    if not s: return False\n",
    "    if not all(ord(ch) < 128 for ch in s):\n",
    "        return False\n",
    "    return bool(re.search(r\"[aeiouAEIOU]\", s))\n",
    "\n",
    "def detect_lang_safe(s: str) -> str:\n",
    "    s = (s or \"\").strip()\n",
    "    if not s: return \"und\"\n",
    "    if quick_ascii_english(s):\n",
    "        return \"en\"\n",
    "    try:\n",
    "        return detect(s) or \"und\"\n",
    "    except LangDetectException:\n",
    "        return \"und\"\n",
    "    except Exception:\n",
    "        return \"und\"\n",
    "\n",
    "if 'lang' not in df.columns:\n",
    "    tqdm.pandas(desc=\"Detecting language\")\n",
    "    df['lang'] = df['transcript'].progress_apply(detect_lang_safe)\n",
    "else:\n",
    "    mask_unknown = df['lang'].astype(str).str.lower().isin(['unknown','und','','nan']) | df['lang'].isna()\n",
    "    if mask_unknown.any():\n",
    "        tqdm.pandas(desc=\"Re-detecting language\")\n",
    "        df.loc[mask_unknown, 'lang'] = df.loc[mask_unknown, 'transcript'].progress_apply(detect_lang_safe)\n",
    "    df.loc[df['lang'].astype(str).str.lower().isin(['unknown','','nan']) | df['lang'].isna(), 'lang'] = 'und'\n",
    "\n",
    "print(\"Language counts:\\n\", df['lang'].value_counts(dropna=False))\n",
    "\n",
    "BATCH_SIZE = 80\n",
    "MAX_TRIES  = 3\n",
    "BASE_SLEEP = 0.6\n",
    "\n",
    "if 'transcript_en' not in df.columns:\n",
    "    df['transcript_en'] = \"\"\n",
    "\n",
    "mask_en = df['lang'].astype(str).str.lower().eq('en')\n",
    "df.loc[mask_en, 'transcript_en'] = df.loc[mask_en, 'transcript']\n",
    "\n",
    "def translate_batch_google(texts, src_lang):\n",
    "    \"\"\"Batch translate via GoogleTranslator with retries. Returns list[str].\"\"\"\n",
    "    texts = [(\"\" if pd.isna(t) else str(t)) for t in texts]\n",
    "    src = src_lang if src_lang and src_lang not in (\"und\",\"auto\") else \"auto\"\n",
    "    out = list(texts)\n",
    "    for attempt in range(1, MAX_TRIES+1):\n",
    "        try:\n",
    "            gt = GoogleTranslator(source=src, target='en')\n",
    "            res = gt.translate_batch(texts)\n",
    "            if isinstance(res, list) and len(res) == len(texts):\n",
    "                out = [r if (isinstance(r, str) and r.strip() != \"\") else orig for r,orig in zip(res, texts)]\n",
    "                return out\n",
    "        except Exception as e:\n",
    "            time.sleep(BASE_SLEEP*(2**(attempt-1)) + random.uniform(0,0.3))\n",
    "    return out\n",
    "\n",
    "def translate_item_fallback(text, src_lang):\n",
    "    \"\"\"Per-item fallback using Google first, then MyMemory.\"\"\"\n",
    "    if not text: return \"\"\n",
    "    if quick_ascii_english(text): return text\n",
    "    src = src_lang if src_lang and src_lang not in (\"und\",\"auto\") else \"auto\"\n",
    "\n",
    "    for attempt in range(1, MAX_TRIES+1):\n",
    "        try:\n",
    "            r = GoogleTranslator(source=src, target='en').translate(text)\n",
    "            if r and r.strip(): return r\n",
    "        except Exception:\n",
    "            time.sleep(BASE_SLEEP*(2**(attempt-1)) + random.uniform(0,0.3))\n",
    "\n",
    "    for attempt in range(1, MAX_TRIES+1):\n",
    "        try:\n",
    "            r = MyMemoryTranslator(source=src, target='en').translate(text)\n",
    "            if r and r.strip(): return r\n",
    "        except Exception:\n",
    "            time.sleep(BASE_SLEEP*(2**(attempt-1)) + random.uniform(0,0.3))\n",
    "\n",
    "    return text\n",
    "\n",
    "lang_order = df['lang'].value_counts().index.tolist()\n",
    "lang_order = [l for l in lang_order if str(l).lower() not in ('en','und')] + (['und'] if 'und' in lang_order else [])\n",
    "\n",
    "for lc in lang_order:\n",
    "    mask = (df['lang'] == lc) & (df['transcript'].str.strip() != \"\") & (df['transcript_en'].str.strip() == \"\")\n",
    "    idxs = df.index[mask].tolist()\n",
    "    if not idxs:\n",
    "        continue\n",
    "\n",
    "    texts = df.loc[idxs, 'transcript'].tolist()\n",
    "    translated = []\n",
    "    for i in tqdm(range(0, len(texts), BATCH_SIZE), desc=f\"{lc}->en (batch)\"):\n",
    "        chunk = texts[i:i+BATCH_SIZE]\n",
    "        out = translate_batch_google(chunk, lc)\n",
    "\n",
    "        fixed = []\n",
    "        for orig, got in zip(chunk, out):\n",
    "            if (not got.strip()) or (got.strip() == orig.strip() and not quick_ascii_english(orig)):\n",
    "                fixed.append(translate_item_fallback(orig, lc))\n",
    "            else:\n",
    "                fixed.append(got)\n",
    "        translated.extend(fixed)\n",
    "\n",
    "    df.loc[idxs, 'transcript_en'] = translated\n",
    "\n",
    "need_fix = (df['transcript_en'].str.strip() == \"\")\n",
    "if need_fix.any():\n",
    "    print(f\"Rescue pass on {need_fix.sum()} rows…\")\n",
    "    for idx in tqdm(df.index[need_fix], desc=\"rescue\"):\n",
    "        src = df.at[idx, 'lang']\n",
    "        txt = df.at[idx, 'transcript']\n",
    "        df.at[idx, 'transcript_en'] = translate_item_fallback(txt, src)\n",
    "\n",
    "df['transcript_en'] = df['transcript_en'].fillna(\"\")\n",
    "\n",
    "# Drop the 'lang' column\n",
    "if 'lang' in df.columns:\n",
    "    df = df.drop(columns=['lang'])\n",
    "\n",
    "try:\n",
    "    df.to_csv(OUT_CSV, index=False, encoding='utf-8')\n",
    "    print(\"✅ Saved:\", OUT_CSV)\n",
    "except Exception as e:\n",
    "    print(f\"❌ Save error: {e}\")\n",
    "    raise\n",
    "\n",
    "cols = ['video_id_clean' if 'video_id_clean' in df.columns else ('video_id' if 'video_id' in df.columns else df.columns[0]),\n",
    "        'transcript','transcript_en'] # Updated columns for head\n",
    "print(\"\\nHead:\")\n",
    "print(df[cols].head(3))\n",
    "print(\"\\nDone.\")"
   ]
  },
  {
   "cell_type": "markdown",
   "id": "f7b2ff14",
   "metadata": {},
   "source": [
    "# ▶️ Part 3: **3rd Person.ipynb**"
   ]
  },
  {
   "cell_type": "markdown",
   "id": "8fcc9c12279fc951",
   "metadata": {
    "id": "TjXxSQaWa8xj"
   },
   "source": [
    "# Shard 3 (50-75%)"
   ]
  },
  {
   "cell_type": "code",
   "execution_count": null,
   "id": "f9dcd5fa2d4a1bb5",
   "metadata": {
    "colab": {
     "base_uri": "https://localhost:8080/"
    },
    "executionInfo": {
     "elapsed": 43545,
     "status": "ok",
     "timestamp": 1760494734455,
     "user": {
      "displayName": "KHEMMANAT KIATTIKULPIMOL",
      "userId": "06448714020354424233"
     },
     "user_tz": -420
    },
    "id": "fz391AbDavzR",
    "outputId": "3902e035-ccc8-4d10-be62-583dc0e368e3"
   },
   "outputs": [
    {
     "name": "stdout",
     "output_type": "stream",
     "text": [
      "\u001b[?25l     ━━━━━━━━━━━━━━━━━━━━━━━━━━━━━━━━━━━━━━━━ 0.0/981.5 kB ? eta -:--:--\r",
      "     ━━━━━━━━━━━━━━━━━━━━━━━━━━╸━━━━━━━━━━━ 696.3/981.5 kB 18.1 MB/s eta 0:00:01\r",
      "     ━━━━━━━━━━━━━━━━━━━━━━━━━━━━━━━━━━━━━╸ 972.8/981.5 kB 19.1 MB/s eta 0:00:01\r",
      "     ━━━━━━━━━━━━━━━━━━━━━━━━━━━━━━━━━━━━━━ 981.5/981.5 kB 11.3 MB/s eta 0:00:00\n",
      "\u001b[?25h  Preparing metadata (setup.py) ... \u001b[?25l\u001b[?25hdone\n",
      "   ━━━━━━━━━━━━━━━━━━━━━━━━━━━━━━━━━━━━━━━━ 485.1/485.1 kB 16.9 MB/s eta 0:00:00\n",
      "\u001b[?25h  Building wheel for langdetect (setup.py) ... \u001b[?25l\u001b[?25hdone\n",
      "Mounted at /content/drive\n",
      "P3 rows 8796-13192/17589 → 4397\n"
     ]
    },
    {
     "name": "stdout",
     "output_type": "stream",
     "text": [
      "P3 captions: 100%|██████████| 4397/4397 [00:00<00:00, 47188.39it/s]\n"
     ]
    },
    {
     "name": "stdout",
     "output_type": "stream",
     "text": [
      "Saved shard: /content/drive/MyDrive/Final EGBI222 Group Project/chunks/transcripts_p3_8796-13192.csv\n"
     ]
    }
   ],
   "source": [
    "!pip install -q youtube-transcript-api pandas numpy matplotlib seaborn langdetect tqdm\n",
    "from google.colab import drive; drive.mount('/content/drive')\n",
    "\n",
    "import os, math, pandas as pd, numpy as np\n",
    "BASE = \"/content/drive/MyDrive/Final EGBI222 Group Project\"\n",
    "CHUNK = f\"{BASE}/chunks\"; os.makedirs(CHUNK, exist_ok=True)\n",
    "\n",
    "CSV = f\"{BASE}/youtube_data.csv\"\n",
    "df = pd.read_csv(CSV).copy()\n",
    "if 'video_id_clean' not in df.columns and 'video_id' in df.columns:\n",
    "    df['video_id_clean'] = df['video_id'].astype(str)\n",
    "ID = 'video_id_clean' if 'video_id_clean' in df.columns else 'video_id'\n",
    "df = df.reset_index(drop=True); df['row_no'] = df.index + 1\n",
    "\n",
    "N = len(df); q2 = math.ceil(N/2); q3 = math.ceil(3*N/4)\n",
    "lo, hi = q2+1, q3\n",
    "df_small = df[(df['row_no']>=lo)&(df['row_no']<=hi)].copy().reset_index(drop=True)\n",
    "print(f\"P3 rows {lo}-{hi}/{N} → {len(df_small)}\")\n",
    "\n",
    "from youtube_transcript_api import YouTubeTranscriptApi, TranscriptsDisabled, NoTranscriptFound, VideoUnavailable\n",
    "from concurrent.futures import ThreadPoolExecutor, as_completed\n",
    "from langdetect import detect\n",
    "from tqdm import tqdm\n",
    "\n",
    "def fetch_cap(vid):\n",
    "    vid = str(vid)\n",
    "    try:\n",
    "        trs = YouTubeTranscriptApi.list_transcripts(vid)\n",
    "        try:\n",
    "            tr = trs.find_transcript(['en']); lang = 'en'\n",
    "        except:\n",
    "            tr = next(iter(trs)); lang = tr.language_code or 'unknown'\n",
    "        segs = tr.fetch()\n",
    "        text = \" \".join(s.get('text','') for s in segs if s.get('text'))\n",
    "        lg = 'unknown'\n",
    "        if text.strip():\n",
    "            try: lg = detect(text)\n",
    "            except: lg = lang or 'unknown'\n",
    "        return vid, text, lg, 'yt_caption'\n",
    "    except (TranscriptsDisabled, NoTranscriptFound, VideoUnavailable, Exception):\n",
    "        return vid, \"\", \"unknown\", \"no_caption\"\n",
    "\n",
    "vids = df_small[ID].astype(str).tolist()\n",
    "rows = []\n",
    "with ThreadPoolExecutor(max_workers=32) as ex:\n",
    "    futs = {ex.submit(fetch_cap, v): v for v in vids}\n",
    "    for f in tqdm(as_completed(futs), total=len(futs), desc=\"P3 captions\"):\n",
    "        rows.append(f.result())\n",
    "\n",
    "cap = pd.DataFrame(rows, columns=[ID,'transcript','lang_guess','source'])\n",
    "out = df_small[[ID,'title','description'] if 'title' in df_small.columns or 'description' in df_small.columns else [ID]].merge(cap, on=ID, how='left')\n",
    "\n",
    "title_col = 'title' if 'title' in df_small.columns else None\n",
    "desc_col  = 'description' if 'description' in df_small.columns else None\n",
    "if title_col or desc_col:\n",
    "    mask = (out['transcript'].isna()) | (out['transcript']==\"\")\n",
    "    if title_col and desc_col:\n",
    "        out.loc[mask,'transcript'] = (df_small.loc[mask, title_col].fillna('') + \" \" +\n",
    "                                      df_small.loc[mask, desc_col].fillna('')).str.strip()\n",
    "    elif title_col:\n",
    "        out.loc[mask,'transcript'] = df_small.loc[mask, title_col].fillna('')\n",
    "    elif desc_col:\n",
    "        out.loc[mask,'transcript'] = df_small.loc[mask, desc_col].fillna('')\n",
    "    out.loc[mask & (out['lang_guess'].isna() | (out['lang_guess']==\"unknown\")), 'lang_guess'] = 'unknown'\n",
    "    out.loc[mask & (out['source'].isna()), 'source'] = 'meta_fallback'\n",
    "\n",
    "shard = f\"{CHUNK}/transcripts_p3_{lo}-{hi}.csv\"; out.to_csv(shard, index=False); print(\"Saved shard:\", shard)"
   ]
  },
  {
   "cell_type": "code",
   "execution_count": null,
   "id": "6a487f65796206ee",
   "metadata": {
    "colab": {
     "base_uri": "https://localhost:8080/",
     "height": 1000,
     "referenced_widgets": [
      "ee4e51d6ed8941a9b39b0fe1799fe4ae",
      "efc1a5700e9540769729362a11a666c1",
      "38421298cfdc45649f484db617139a9e",
      "08d7100187294bb89f2d2e6afbfe1c3c",
      "b31e378e1f6944b8a1a34c4e67a5e214",
      "fa24ac0dd979417e834a47041f9cd383",
      "7f02a9e7673649ca819e8f13664ffaba",
      "f257c29b70ee4545b2b22adfa3fd76c0",
      "d04d1b8d6a484ea9bdd99602e1411cb2",
      "aee649a8eab24637a3dcb7f486e6f3ca",
      "595de775ce2d45e7b1e2ad9b9597017b",
      "f29eb49476a946bb93d7bfc334868810",
      "2b4b2eec501545f5a8a66c4a7e83c74d",
      "0398b0d9c2d34b72a61b10f4794f367e",
      "1561b89ebb5246549d4743057dda2c2b",
      "c63e82f2f47a418d9d422108619f40b6",
      "5c5a4172d4524c94bf635ba30403e2a7",
      "853cca8ad33e4b32a51fcf4fcec5f4f6",
      "b8fe5752c3eb43d5a0374d5f6ef2d96e",
      "01068d1018704925beb1fc5855d21937",
      "15461c41804d4d029e3faf05dd830aaa",
      "131d1079153c43c4b7b41338f28b0496",
      "f70716845cf34fa5bfe62fb1fd83958c",
      "dbc72d9c76974fa994d6575d73b53a55",
      "67ae5c17a9c74befa81dcff4945ccf5d",
      "782efd4ede1d4603865e20696a0b5a27",
      "9a1b3600ce254b569974a8828451ae65",
      "5864b3d3f5584ceaa1c7902ed7a8b33f",
      "83200c18e6c244c2a600897d751abafd",
      "d6e3618265ae4677a13f9614a56e4b3b",
      "5815e13b201240fbaf24b4c3e834d03d",
      "b4aebe624a9f419794a94b16727b6ebf",
      "21f00f1de5304d57826db0d75fddc1a1",
      "434029b39c81472b841462925d8666e5",
      "b1b7e0620500453182869a01009b6b7b",
      "0dc7dd3d04c5400c85c33dccc0343ee4",
      "53019f28880743029a4ae063c8d69fac",
      "e259c2269bce423284d2910bba1d3e05",
      "caa2bb83889345109e35069dc946169d",
      "21a718b0bd864a29bc92c919186607f8",
      "1151582bb6e74ac88071f8cfb22d2f34",
      "e684d24c4e5842a7b0e09aecc5b5e3b7",
      "6e9b21c87f2e47819b11deafb4f9234b",
      "7631024c45b041bda1f53c633b5aa3bb",
      "ccffe7baa28d4fb8a0ed7557a8057d4d",
      "9b704ffbb0144e93af2e3ce9d28027bf",
      "b5f78ccebdc84a19ae509cccf044f168",
      "3595d9f5a2594cde80b0a27fcd66fea2",
      "47cfae38cc5941a8b0455db8e342694e",
      "74fc920fd2a04eb3a89c0942d2c69f2d",
      "00c3541e592d472c9f819fbae740ec2c",
      "1708e15315e547168c144f61c1f23e3c",
      "eb053b364f58417fa1ad8909bca2db57",
      "945aa5f4461d48a39b4cd996193b43ad",
      "806b6c0313fa47ffb215094b234536b5",
      "9babe77efddc4b6c9e50f4d9768b0893",
      "1f4b79b8eaef4f1191c727cc28020766",
      "b81b13825c0e4abe87514c8e0a7903de",
      "a3de24b211d6476f826cea769bb82438",
      "4c8bf11aabad47228de2a56ba8e5e211",
      "c3a125bccc9940fa864ae954147f9bb1",
      "31a2ff7d627a4ee78be918a1b94dd986",
      "9f13127f635b41e2adb178a2bf8c938b",
      "6f550118ba204669acdff67f2e3688a6",
      "18cecd1325c84d0490c338979d7a5fc4",
      "5629d14ab151475e8751b8cb9e6c1675",
      "e1cd30bfeb8445008b838a2cb8643bed",
      "87ce2562282b43d2a280b6fa1eebcb23",
      "c1afb674843b4835b24bd54216c90e62",
      "f7ad01c89c2d4bab844c2cb44a0419a4",
      "02a80784ee274fbe95d30c0369f2a546",
      "69ec9c33317547e08a5642c4c6c239f6",
      "51bdbe459d0644f79f6f8b133104655e",
      "1deadd2eeac34ef7a8e9d9d453256ab5",
      "094d8756b2f14880aee9dbf581d226fd",
      "5d15a38aa11c4eff97dac3322e78fd98",
      "d2af9957bd024eed80ad5c38f7163a1a",
      "d25e7956aa1a42bab9179575874da7e3",
      "bf402ad542214f77b9ff8f870f47854b",
      "9b3b3c1d343e4d1ba1e9966627ae776e",
      "3ec94dab71474e10a757090b6a06cf8a",
      "f71f8d18b52c49a58defdb61a6dda4bd",
      "d21729a3a1a34bf2a7f2b57409f1d8e0",
      "764a3e6c6ec24f17a34aff6fee034b72",
      "38530ad0a7f34ca887c2ddbcfa8e3b94",
      "398275b8e6a8485abf1e279df7ddb707",
      "28dc1a35835b404bbc40d7d3031d525e",
      "03f3b74f30d7462e85257b255926c9ed",
      "d075b329ca6140108ee461440d200f1f",
      "e7f32f812dd449ab882c0539eafe9768",
      "a877dd826cdf4850a83e3ff78bc132fb",
      "7fdabc9838da4220aefa3b901df6f195",
      "ea051034db6f4eafbcc24113af301518",
      "8060c41e438643f290f7b658162305e8",
      "47fc26fe8e434ac19f44d0a4eaa2d4de",
      "16be427b974541fdb969f4b293896a11",
      "15bae902099d4a5db53de69927e4021a",
      "fb58c9c1685e4949b4d172742670610b",
      "f7f1e5cc6ca74afe968b3f9a184485f9",
      "b6e103bdb2294a54ac5e1a35377622d2",
      "2d6399c0b5114ecb8e83a2f6bc139b5f",
      "c6c2bb95a826455097e0f1e22a15cd87",
      "6989706eac4f44ac9df8e53d02ce5503",
      "fe90a6834d4140bda2ab96f9d5049e30",
      "fce1e18a73274d98b325b2a4368523db",
      "dc612973703547259d68379afedf0ee1",
      "cbf4e99f003847e1ab4739a614d1a05a",
      "125a2ed595a44e14930eb014ecbbc717",
      "4464aae4d2b1471782bff37a483c08d8",
      "979992da769d41e7a9a41059bc21ea9c",
      "b8b4243b7020425ba931a18a407c9861",
      "3e242a503c494b75b63bd60aeb643255",
      "d6cf1776a99a445b97b6b4d7183c6332",
      "3d7b1d527512425db0c505ce1716407e",
      "97373fdfd4de406ab72e1e4c1e3ce958",
      "177cbf1fd1444d1e9512e8a63c536614",
      "9d2a94eda0e34d54b73b50cdec8bd4e6",
      "20aa2d9034634908a6f084a145b9d1e8",
      "19a83826129d4458b7c63e0203ca946f",
      "0070f887f54440f2bae3ae9b61ae03c2",
      "e984b372b8ca40a6b519088c2b4a886e",
      "5de2d95b59674ee98091d407fda4c84a",
      "b0f971cebbf44af8a6d39783bb36c484",
      "9789d65b965148088c23c7cd105c8922",
      "bd1190d93aae46e89bf8d18fbe4929a3",
      "1332704080c6460ebb6760818fbad99b",
      "c8faccc8ca0d403ba37ff3d97c21a35f",
      "d0de56209d1f495390192e5d3a919ec7",
      "25986103b5ce4fd8ac8778cd4f208a71",
      "9f6f827fc42943268645dc7a850fb879",
      "91c47e06c0824d008b3c06bdf992930e",
      "e6add34a2b084c4b96a1ce504fcb4ad5",
      "985d58a9b9e24201a050d0054960c076",
      "c4a85b261b5b40fcaa541437153f5495",
      "cb30b79b9c58496eb8f77c7089ca4ebe",
      "6313ac2592344d499c73269c1912fc16",
      "176997b7a345413fb20fbf940b3e92fb",
      "1388065b3b2d43298dc421b0ae41d872",
      "267ca715c3c243cf92c5b4ff6297ffc5",
      "4ff9bb47ad63491d98aa67fdf584414d",
      "30e7e18d655b4d48bdd82ad8f21bd31e",
      "71d156caa2b548c98e516f5cf64ee659",
      "bbda2e5659a6497a891678fa9e666f19",
      "e1539f33b84a42f79ce4fe007c9a8a8c",
      "ac3ef609f5054f27bb9b6e99afa8ebe5",
      "f274748d310e4661b2e5117aef118257",
      "450b273f51e84179af5bf2783ed9d9e3",
      "018615a436e444a3a52fa8daf5364b99",
      "c9078a5108664f8daafde6a6bacf88f1",
      "7024ff94c28348e4b1eae0acc9909e47",
      "01c2ab2148e4422caa4bdef201692948",
      "a4b2184713664db98fef28c119baa800",
      "bf773c32e36040bcaad5764621d3c107",
      "a14619f41bef4177bd5a7ebfd630f686",
      "6c6f6a439e3641bcb2d5cdbd8129607b",
      "e392df4b251c4677b2ddfb7fcde55c49",
      "0be391d67e3b4357b40230a2b24fefcd",
      "8143d9eda5e94cdcb141147a0493326b",
      "97ec309efdd1405c8b1bdb221d464f95",
      "be9fbfb73ef448ef931d2dcdba801077",
      "711a5f82b49c444eaa3ea54c819a49b5",
      "086d67dadb1e4b72bbb20198fe4b0e91",
      "e6ccfdb8fcd7447caed141c31fb1298c",
      "eaf618b73a5a4da2b9dbced8c1e08429",
      "5e04c5eb3a7c4feab422e8fb02849be3",
      "0169f820415a4ae881da3e23b64eb8da",
      "b631f35d118c469fa9fba6d32cf6fa1b",
      "22614075cb4d47e689d08aeb14dea78d",
      "9ef5a74cbc214498a5f02a1eb0945fdd",
      "c41b01d32b4a497cbd3e37bf1e3f9a93",
      "8bb4b6176dbd429aafb1d6089f13150d",
      "1642f5e4863643d1b5551bcd0e40a8ca",
      "0a4c62cce1154e689c8b1c6263f819a2",
      "9005ab3f845d4f87b477f638143b0873",
      "a30af2e03b2f4f288cd148f8a62e0a2e",
      "67d800a392b643cfba63b6942cfea866",
      "233e4dfa45a64c29a2e3d914bf06cf07",
      "b9b468eb45fa488eb587476e169a87d9",
      "ca8f0a02d1d8482cb17f029243e451e2",
      "83cf968c4d50461d88d7f501d4e55099",
      "f60ad3d826044204a54103ef265e33ca",
      "f6451388a0d44863903dd97e40c53daa",
      "0f05a91a735449ae99419943ce75f153",
      "cfd416ca184b41eba5595c57afacf99f",
      "336d0da38de34bb28f130b9516dc417e",
      "7629a6d7d1c247c783c72ee1a4b9bf9c",
      "d5d3420ea46e40d6b63291ddf95b2820",
      "2f056123777543a0943a121a4b35979d",
      "1a10b959cf4f46eda42522a42c63cfcf",
      "f13eeff39ecc46779b5034d86ad07f55",
      "04ef73b0910b4e6a94f1c33c92404747",
      "d7c6d3cabbed4c32a5a0f3a57e62f1c0",
      "5e7d0ebabe004a92a858fc24fad97928",
      "edaebebeeeb243bfb8f44f7305de65e2",
      "2e16782a13f84eb18b5b7279054cdab7",
      "7550ecf5487a4693a20adc50c0e71a99",
      "3de86992ba6f4498be91d9b7eddcec29",
      "1f7c52a93a9b47fda79622365a9d5faa",
      "2bfa365b66414704a3795e6f56aae6cd",
      "24c8c637c38e48f6879ae71b5abec53a",
      "3dbb0baa71454e7bba9b8ba78d16e33a",
      "ae1d740fc937438fb62694743016440c",
      "d9e2b6be50d04850abbb1bcf0db146b2",
      "656bcd1256084cd084d22efe7400c6b9",
      "39ab85dae82f407dbbfedd597152848c",
      "8a4f2bf76f1441e286a943b5a7dbdf51",
      "9b061c37a8e44a0aa74e7138d9360424",
      "0acc0cb9d7a944b389cf46ffca21ade1",
      "44e59cd5beec444a9bc072b323005a64",
      "f57849a22403443999e73aae37924d93",
      "071c6bdbf3dd43c98c8d8491b08e0a65",
      "8c6ac9d3bf354e33b191bff1ed7e09da",
      "f547ed1cb95c4ca99ce8d46905f20264",
      "285f657da59349c887cb8f2202ab2073",
      "5208cd4ff8d44bd69217183c556c7735",
      "79210174a1f24a4093c0aab9f076ce4a",
      "d7ca984b27a74930b7d245f6bef72abf",
      "d5f91ae13eae4cdd9ca677b965dd08c6",
      "6097c0486a884e80ad637f236075ad4f",
      "7abfab94df74414aa3005de79b3a3d72",
      "2afe9db3f9144f3b834b47ed59f43c7e",
      "0f471429e9ff436dab1448b88510ad35",
      "8a99e42127164702b75201b227ec7b1f",
      "aed89a8bd60640b7944157fb3dfe59aa",
      "74922322b83b432eaffaca90334780b6",
      "861a25dc123c4424876ffebe33e5c2bc",
      "466851f861254a2d9c68eddd8713eeb6",
      "58a2809f9845464184a1b5d56744350f",
      "09804b10ebf44ddb86a97ca745f12165",
      "b3adee5318ea452cac56f383c8b9f77b",
      "40747aa52db24b2eb3e2d46b1c7a01a9",
      "201c87a7ecad488a8c4c443c67395048",
      "ddccf295975a482594f9a21393e954ad",
      "c3cde750d27f495ab2d778c34a9b43c1",
      "9dcd38d3f0054bfdab643e3c7434eafa",
      "549d27c0e0754d65b88ffec45b5de6e3",
      "e2db1e5c75714ffd984db4e0b37cd91b",
      "68b5488c9014450ba56a80da4940c5df",
      "77c8efb720f44a8f8db81c31d200878f",
      "47b187c1734a4fc6830faafbe9c18a87",
      "7c8f6b0419d74f6dacdb82c9cbe2d1ad",
      "b2005c0c0b874d7fa9abf9450449959c",
      "5e0952ee310b43fc98b3c8ba649b6403",
      "d4f370f2b906449eb18cdf01acf6ed5c",
      "5988148950ae4468b84ce11a5166acdc",
      "2f3d39d88f8e4646b2f3e2177531d975",
      "626facd09c1d487a8ca37710d1c62d4e",
      "7ca2a3c3854749508441b315ab1b7705",
      "7027e6e2da1b4db095d90f144802abbf",
      "2b42daa8d14c49c4ab1326ae2de3db75",
      "d2dcef4f30554590a0ffe6858cd80752",
      "e3352403ff18440aa54110d08e6594c0",
      "105e952e7ce441fc93ab6a3b86b29b7b",
      "04a0d95cbbcc4bc39e4af30b84a31b12",
      "8ca43bb5f734432b9eabcf0249c39653",
      "f90ee30c78654fcab8e4bfaef14c4e87",
      "318e671c11024d2f8d46d54ffd54dbea",
      "af3c39fc730a42b1918c4a193992819e",
      "751062236c9c42598d7dc1282a07657f",
      "4d43723f33da4399909416f4479bfb5f",
      "55e9d0d14e494f49a504f87126e46795",
      "c40df27c0b3241138bff36806ac24258",
      "79fdd0d27508490380ea3bee7129164a",
      "8bc392eea58344ec9b65a502c55a34dd",
      "e48ff9a686f449e8bb374ebb878760c2",
      "0ce9b9b8f99a4dc980eb8f152bf94f65",
      "8d9067bf10d74f0c9ac5c08c333133f3",
      "ea54b49182a44eb3b5a04b5a1102d0b7",
      "dbf7bc3fa5134e61a42186ac56b4bee7",
      "537c44c6c65b47b5beddb1ec12bba9cb",
      "23aa1272fc994a0db4694407c0e04850",
      "cf03970816d043e3ad551252d1853ffa",
      "17e2696d62d64fe19c961f47384c9f06",
      "9b168da289ce4c939579ac14c7695d21",
      "907f6c959ab74c98bb4f9dd6c204c26e",
      "3845bc6463eb46d4a4dc663ad04b83d6",
      "60a593261b6649468d4466d34dfb0a08",
      "922b7dab7d914a1cbd08eead6e1dc025",
      "dea64bf25e9a46dabfd3aec2807a5d03",
      "1e09b59b0f5f4e5fac23a005281ea31f",
      "bcb6807dfc444b19a5ce9074291c4e86",
      "95ad6c7156cd474cb4f123809c3cdfe8",
      "5e56ac7e8f294217b38c01f48c09518d",
      "29b22e65b279491fae4c5e927fecbc5e",
      "87fe4cce10eb431b85a71a13f04201bf",
      "048f3ee1b1964e5195cc11cd3ebf62f9",
      "a72ec28f88cf42f882839e7326c5824f",
      "82bbbab8cedd44bfb942c441e6766151",
      "69d0f03d03e544049ac8d30274717249",
      "72e63d92d9f84a45a648bf08c947a535",
      "c74f47520906491f840b5f12fd86a93f",
      "a39f3a4c1ae04390a62d81644d695ad9",
      "c743ac63166d4b12989e38e1fb114afe",
      "1bb647369704435185cea45e3b3aac49",
      "5646ed0f3e524357bf13b4c30161a266",
      "279e8b0d0b7f432baed58426e892b4e1",
      "72f262b3d5a64786939bd11283578979",
      "2a25cdb9f52c45c0b7eff5e0a7ad02a1",
      "dfc48fba452540cb8b7c8a459a0949f7",
      "3f040815e0004a1a9b53b1d9d29fbb6c",
      "6e879b6b6d34420fb3c32b1c3786f3e1",
      "a1f587306ece4d6ebe3657edb933e040",
      "6a38ebb0f33d4983b961b534152f4a23",
      "63419f83b64442a2bb7d366b3a546cb9",
      "ff0d217dfcf9495da1dd236e6ca3366e",
      "c14f8e0bb8c24ec5ab333e8f746b8372",
      "22995948ce94419990f61226b3a8bbe2",
      "fb42469c52b643b39df1d86c7fe8338b",
      "c3a33a94fe4649f4b30fca94c87aaa65",
      "153f0ea9912a4094bf0b047e3835ddc2",
      "fd6ca35ff37446d5ada6ad1c9e2f3fab",
      "c8188106cc454d6e8c62f9c78c6582b9",
      "8deb844587dc4ea7b20acd44565829dc",
      "4cc2c516ee4d4c6c9c9d4b72a8f84362",
      "9e95da1afc99483e81fc938f484eedde",
      "29317eec500944b49db9f07afb28ae27",
      "cd799473be724da48fa78083b58734cc",
      "35ef526a4a274423989cf4ee40eb5f46",
      "8e4baa1626dc49c6a42fbfd560962e93",
      "ae32671e1f7b41e3b9b77445064cfbd5",
      "f8866bfbecf4432c9772334615e32045",
      "1213bd1a50fb4035957979a2beaebed4",
      "f628c50bbcad4049b47e869038d4c1ae",
      "6b43e886a65e4ab48abe2674763da942",
      "9cb90360b4e24f6b9567242118c9496b",
      "eb4eabfe063749a49f2e104eaf28a201",
      "41feb1cf5d9244f18b20fccabda21c89",
      "6316021d228f40a6a27d82ff0d1518be",
      "9b7ddd484dbb478abc7cd1b44b40f558",
      "5c41cc41a4fb41ce9688718662044fbb",
      "1e788dc38a904970bc499246e4c55581",
      "7140b65f50b84e6fa14253693f42eaa2",
      "e802777f8cde487ab3ff463785804337",
      "c59578259fb749f48b46c1baeeecb250",
      "d39c9a30124c448f869b1cdde0b01616",
      "45676193d88143cfb2e2b2eab50b1041",
      "676e28cf0d96449cbd329f1ba0de132b",
      "7374db431e5e4056b7f14526a2642f1e",
      "5f4a11ea050d42c59a08ae63cb6e968e",
      "c946918829b24927ae2b7b5aa6e86d3e",
      "d37fe95773574913b6d495129e0621d7",
      "bb9592f07af74f809125d8f83d00064e",
      "c70a888b047c4fcdae5e39a07efc93a7",
      "169a0fb30949463bbd07f1de8f38fc8a",
      "09208ff08e8544a0aa8c71cf7f017ca7",
      "a2a076dbec5e44b1b33705dd5d9b32dd",
      "e51a48b1140d40babe277a19a4661dae",
      "4c6361dd7b604a11830ca86e2f66e7e7",
      "ef5e64133f2041d3afdd14d72ee3e7e4",
      "02e2854cafe54ed0934c2f614fd6086c",
      "c2d0c038b5ab4658a769aa50dc14ed93",
      "14ee0e619b1f4719952fdbff399198e3",
      "035475fabd14427d9f6c63a90381da94",
      "fe333b8c243349cbb17be89fdde8024e",
      "ea34c4b8175941b6b98c7a1dc818a1e1",
      "581996dde6fe43d9a07094eab5a7889c",
      "1870156277e146ac99787157b491ee18",
      "314858661bc84532ad42d778156b8e6c",
      "df719dbc246948dc87d23671e891a5e5",
      "550c462f61f34e95a4023e0785fa78d1",
      "5445bc24b8054978841bcdca42ed4aec",
      "e808957a128e49908b39bfbcc0371c43",
      "3ff96d227ef94bac806d736fee0e8ede",
      "1bad4cf99f89481fb4e1671dacbc7a44",
      "e5b061f5ac054c7ab4de98a09ffc54a7",
      "0327bc04fc884a0d9ad75540cbf0f614",
      "9e7f5a95b92247518c60d8e3bc856e2a",
      "9e57a382887a4fd682f719b914fc0d7e",
      "d5763aae3c9e4605b2a599dd14cf01f2",
      "fcb9ca02fb344395a4149d34aa26e040",
      "f8129d3d7e3d473ab8542b4c2ef8e3bd",
      "fcdaa8cbf7b94f70bdbabde3239c1c81",
      "30beeb8375724a2a88cd60f19a02183b",
      "1a1c4b5d5dc44280b810c5fcfb7024dd",
      "0ca7ae224ed34da88efd7922d477e38c",
      "f14849a40dd24e3cb00fa62ed055868d",
      "6bc2cea38a2b46efbe3b06303bd03001",
      "524b7fc886a8420aa70ff0ad31a518ab",
      "ad18a4e075764b3e9b785a4eb20d44bc",
      "ebd1eede56204147b8991853de881060",
      "83aead2a45ac495fa2c140d692b8ae6c",
      "91cfda1f720c4005b30973bc893ec553",
      "bb24f9d9d17c4b9dbfe75b782b70b71c",
      "33058ce1b1f14ea2979217d070511df0",
      "1c684d8c078645a8a3885b5383eb4e53",
      "be81cd88769d449f8081a154339789d9",
      "49a5692eb5d44faeab05f61c08be5e02",
      "ccef0f959041468e9ed598b1924d6566",
      "bb2aa6d2f89d4a16870f07b3c184dcae",
      "4262f3b0b7d3495a86073b6efff09622",
      "eee6cfabfac64721a898ff8c30ebea5f",
      "a8b69e9236d34049a28da2a172e5530a",
      "0292365c950b4e6db9fa9a0f2a624b00",
      "04f7fd02647a4b06aa62b067973a8188",
      "9628b2c1739b4a7c988e6617533b8471",
      "58cf09cd02c940e59ac96ea8ae2da911",
      "0f49429ff255457a827159b374de8bc3",
      "cf8e95d6e26048909fc8800dbcf532b6",
      "a4fa3b7aaca14a5d84a10cce40ae14f1",
      "23dc09c2d4904ff6952a8686ce483487",
      "5dd47491e7ad48ac99019995f5371065",
      "a204b6951d144dfab6be1c1fdd40c94e",
      "c8be8aee02014c0a9d1d425170b47463",
      "ff38cf12140141c8934cb484fe790720",
      "d88b394662ce4faa85a9babc15bf0302",
      "c9fbe14042034521aa75841fee23730b",
      "f4cf3892a6b142b6a711176180fde8a1",
      "adaee877f7f1465f9fd5bbd2ce0d5d05",
      "27e687ea908f450bbec784b552f8c7bd",
      "1d8c5f83139544cd913f815cf29578d1",
      "082768ef19fb447b8b159a8179a7f952",
      "9eedbf3f7659411f82ecf9c305962fe3",
      "b4274abdf52e4b68a3be01e124e1ed54",
      "873f7ed9bb1740db9abcafaf8a0ed784",
      "cf2bb3fdccda4e708d509b4e001349a7",
      "4b0737c794674af898f575baad0d89c4",
      "0560c526164642f3b3d9b72269bd446f",
      "169b6514589d4ef78372425092fb7bc0",
      "5d73428b5e344ed08fb0580e9fbb4cec",
      "e8ff131b041f49a9960ca7ebfbeab734",
      "4715fdf1b9634286a27d03d709239e4a",
      "7c7b2b9dcc54416d92d618bb992c907e",
      "4123a4b32ae24a94859aacd082478819",
      "3c69dbbff6d844a1b10f3578d33a7507",
      "0e304a05b156404296abc5eccece6fd8",
      "3bae71966fc94dfc9a0c89b7b86fc23d",
      "2c8fed0ba55d45af887fad0a95ec2c06",
      "d472e9a972fb4a74a06470e6e4dddc4e",
      "766c93dc681a4faabcb66139d2553295",
      "ade5629619ac4757be275929cb45367f",
      "b99965624dc846c680d29e0ebbaad683",
      "01f4d1758930498c9cb54842ac6093ee",
      "b10ea5afddfc43d4b5afbdad2b3e2b8a",
      "600b7a7a538d47cf9135e55c1425dd14",
      "a6d3049136364abb9cbc4844f265b31e",
      "0d941bf2d48a48efa1a7f1b3a7fa7f4f",
      "3a46c91ae5ba43ff94e9b648560ca148",
      "fd34344de96c450f95c4a4232b87d418",
      "174c7fe119c141f39724aac1c468a27e",
      "0c2c8d33e0a842e698a46826fe065a1c",
      "738e06433c2e4b74b0928cf0a0b77742",
      "a1a6646292714f24a5659c8e3edda130",
      "9c971ac5ac0b4a1a8c2ecc0792cb8faf",
      "e16f989b7c274ad8a804b667536366b4",
      "93f4fdceccfc4f6ab37da901cd5ad538",
      "e160a2038f594758ace6acd72bf5a5fa",
      "503e89c890374b44b0ce1cc3fb099094",
      "1883fa6b27c243eaa761efa78fd1e00f",
      "8179ecfb85c04703b3285a09cff1da56",
      "a56b0528a90f449eb924a70a1a45a096",
      "67a3b3ed32ef4394aa95e1b994938e10",
      "22b2aedf192c4da39c06bdfc0904accd",
      "bb7090db388644a892a500d73dc44753",
      "593226e844b9481d8912131120a5a9d3",
      "54f625c1f21a4b7aa63a0e39bf0430d6",
      "aa729abbe4fc4ec681ebb2562133f418",
      "0d2b5adc3865404d9aee3d2db24bd1c6",
      "adfa0da75018427d823730481fe477bb",
      "d4f2f00819ba4655b67bdd3e606a1be0",
      "35cc566d130d4614b6dabb8022279c22",
      "ed8aa54669a74d0c91700de37f76029a",
      "f58a1a1cecd144feba8e67d65ca6f551",
      "f8f2dbbb68d24e4dbe04f5a6f7b879d3",
      "33c74d80178e4b0b9d9e44df8d1fe349",
      "b47f9354ac9e4a17ad3378ef27d5a524",
      "20044aaf35804dab879746eece9db2d7",
      "fd820439823e492f9a94d3cd31012d4a",
      "6cb4c2042a4c4fa38a7b6001f9fe477b",
      "fee44ff307a7431ab4bc1b54309262e6",
      "7bb6807b06fb4c7caa64f9ff7a1c9d46",
      "f1db8f4901ab407a858e400dd1082e07",
      "155f2e5ee9974edca0c3ee25f0200106",
      "36981948c9db418c81771da4613399db",
      "ff47d6e9f381471bb4589ddc9048cf0e",
      "fef52913a5a5469cab69578eb3bf1763",
      "57ab71a4fa174bc8a43a5ae8c213bf92",
      "324433866a9f42909a5e720737332f89",
      "93874be9d98640ca98d85db398ba0048",
      "00e1bc20b54d48afa9fb99aa7fe43ee1",
      "d6555f7396f04134bd608d506fe54944",
      "4fa8ffd5727841fbb597230a4bb03634",
      "30af02d04a624c6283ef1bdb6a6f94ee",
      "0ca7ac6ce2224b8593bf2cc228d17561",
      "b028f63c72824a2e91ea855c7a7f87c6",
      "e8f3ef022e34453c87be56351b72647a",
      "1e833dce99ac4b68ab57a2d8b5c9bf89",
      "ec3a2b75ba714018883c62da116d9136",
      "43103dd18933420b8ea3e5fdfc2fea94",
      "a22f5648fa1844d19f9da4a196235e94",
      "d164d8b804784e8d89b4548b4fd54e7c",
      "01516d06077f40fe93b1071a639ee596",
      "43ce53bc0a684893abf710482d501da6",
      "a64f4bb00cf5415f98eb32ea20dd4708",
      "4bf592683d744a399a0fda1f7797ea19",
      "76636e4d81ab4767b67899bbec36ee46",
      "b4230a71d45d4b6b837591a664d5a81e",
      "45d09720a90047e8aff51f74efc650f2",
      "314d69d0f7d0498894cbbe48d32e1d2e",
      "e4c36dc053714b619d1cf391d0089918",
      "e3b77d82f2964813bb8b2f5f02ab726e",
      "0725b57032ec4de99cf1359ab77634a1",
      "c7dd7d38e98046c88793af2505f95254",
      "47c478380e3c4d8c8ae0a6bac7dd6bc0",
      "090ff436f46a40f991a8bee270f37f1e",
      "b997e183f01e4650b138f474ba73c36d",
      "848b750b73fe44aa8a20c89e4b717f93"
     ]
    },
    "executionInfo": {
     "elapsed": 550069,
     "status": "ok",
     "timestamp": 1760495772835,
     "user": {
      "displayName": "KHEMMANAT KIATTIKULPIMOL",
      "userId": "06448714020354424233"
     },
     "user_tz": -420
    },
    "id": "-OfY91M_sTaU",
    "outputId": "90cdd2c8-7b97-4247-98cf-9bec5e4c79d0"
   },
   "outputs": [
    {
     "name": "stdout",
     "output_type": "stream",
     "text": [
      "Google Drive is already mounted.\n",
      "Input : /content/drive/MyDrive/Final EGBI222 Group Project/chunks/transcripts_p3_8796-13192.csv\n",
      "Output: /content/drive/MyDrive/Final EGBI222 Group Project/chunk2/transcript_en_p3_8796-13192.csv\n",
      "Loaded rows: 4397\n"
     ]
    },
    {
     "data": {
      "application/vnd.jupyter.widget-view+json": {
       "model_id": "ee4e51d6ed8941a9b39b0fe1799fe4ae",
       "version_major": 2,
       "version_minor": 0
      },
      "text/plain": [
       "Cleaning:   0%|          | 0/4397 [00:00<?, ?it/s]"
      ]
     },
     "metadata": {},
     "output_type": "display_data"
    },
    {
     "name": "stdout",
     "output_type": "stream",
     "text": [
      "Rows after cleaning: 4397\n"
     ]
    },
    {
     "data": {
      "application/vnd.jupyter.widget-view+json": {
       "model_id": "f29eb49476a946bb93d7bfc334868810",
       "version_major": 2,
       "version_minor": 0
      },
      "text/plain": [
       "Detecting language:   0%|          | 0/4397 [00:00<?, ?it/s]"
      ]
     },
     "metadata": {},
     "output_type": "display_data"
    },
    {
     "name": "stdout",
     "output_type": "stream",
     "text": [
      "Language counts:\n",
      " lang\n",
      "en       3255\n",
      "pt        155\n",
      "es        138\n",
      "ja        105\n",
      "ru         84\n",
      "de         74\n",
      "ar         69\n",
      "ko         66\n",
      "fr         56\n",
      "pl         43\n",
      "und        35\n",
      "tr         28\n",
      "th         26\n",
      "it         23\n",
      "bg         20\n",
      "vi         19\n",
      "cs         17\n",
      "sv         17\n",
      "el         13\n",
      "hu         12\n",
      "uk         11\n",
      "mk         11\n",
      "ca         10\n",
      "da          9\n",
      "so          9\n",
      "et          9\n",
      "sl          8\n",
      "sk          7\n",
      "he          7\n",
      "nl          7\n",
      "hr          7\n",
      "zh-cn       6\n",
      "ro          5\n",
      "id          5\n",
      "no          5\n",
      "zh-tw       5\n",
      "tl          4\n",
      "sq          4\n",
      "sw          3\n",
      "af          3\n",
      "ta          2\n",
      "fa          2\n",
      "fi          1\n",
      "lt          1\n",
      "cy          1\n",
      "Name: count, dtype: int64\n"
     ]
    },
    {
     "data": {
      "application/vnd.jupyter.widget-view+json": {
       "model_id": "f70716845cf34fa5bfe62fb1fd83958c",
       "version_major": 2,
       "version_minor": 0
      },
      "text/plain": [
       "pt->en (batch):   0%|          | 0/2 [00:00<?, ?it/s]"
      ]
     },
     "metadata": {},
     "output_type": "display_data"
    },
    {
     "data": {
      "application/vnd.jupyter.widget-view+json": {
       "model_id": "434029b39c81472b841462925d8666e5",
       "version_major": 2,
       "version_minor": 0
      },
      "text/plain": [
       "es->en (batch):   0%|          | 0/2 [00:00<?, ?it/s]"
      ]
     },
     "metadata": {},
     "output_type": "display_data"
    },
    {
     "data": {
      "application/vnd.jupyter.widget-view+json": {
       "model_id": "ccffe7baa28d4fb8a0ed7557a8057d4d",
       "version_major": 2,
       "version_minor": 0
      },
      "text/plain": [
       "ja->en (batch):   0%|          | 0/2 [00:00<?, ?it/s]"
      ]
     },
     "metadata": {},
     "output_type": "display_data"
    },
    {
     "data": {
      "application/vnd.jupyter.widget-view+json": {
       "model_id": "9babe77efddc4b6c9e50f4d9768b0893",
       "version_major": 2,
       "version_minor": 0
      },
      "text/plain": [
       "ru->en (batch):   0%|          | 0/2 [00:00<?, ?it/s]"
      ]
     },
     "metadata": {},
     "output_type": "display_data"
    },
    {
     "data": {
      "application/vnd.jupyter.widget-view+json": {
       "model_id": "e1cd30bfeb8445008b838a2cb8643bed",
       "version_major": 2,
       "version_minor": 0
      },
      "text/plain": [
       "de->en (batch):   0%|          | 0/1 [00:00<?, ?it/s]"
      ]
     },
     "metadata": {},
     "output_type": "display_data"
    },
    {
     "data": {
      "application/vnd.jupyter.widget-view+json": {
       "model_id": "d25e7956aa1a42bab9179575874da7e3",
       "version_major": 2,
       "version_minor": 0
      },
      "text/plain": [
       "ar->en (batch):   0%|          | 0/1 [00:00<?, ?it/s]"
      ]
     },
     "metadata": {},
     "output_type": "display_data"
    },
    {
     "data": {
      "application/vnd.jupyter.widget-view+json": {
       "model_id": "d075b329ca6140108ee461440d200f1f",
       "version_major": 2,
       "version_minor": 0
      },
      "text/plain": [
       "ko->en (batch):   0%|          | 0/1 [00:00<?, ?it/s]"
      ]
     },
     "metadata": {},
     "output_type": "display_data"
    },
    {
     "data": {
      "application/vnd.jupyter.widget-view+json": {
       "model_id": "b6e103bdb2294a54ac5e1a35377622d2",
       "version_major": 2,
       "version_minor": 0
      },
      "text/plain": [
       "fr->en (batch):   0%|          | 0/1 [00:00<?, ?it/s]"
      ]
     },
     "metadata": {},
     "output_type": "display_data"
    },
    {
     "data": {
      "application/vnd.jupyter.widget-view+json": {
       "model_id": "b8b4243b7020425ba931a18a407c9861",
       "version_major": 2,
       "version_minor": 0
      },
      "text/plain": [
       "pl->en (batch):   0%|          | 0/1 [00:00<?, ?it/s]"
      ]
     },
     "metadata": {},
     "output_type": "display_data"
    },
    {
     "data": {
      "application/vnd.jupyter.widget-view+json": {
       "model_id": "5de2d95b59674ee98091d407fda4c84a",
       "version_major": 2,
       "version_minor": 0
      },
      "text/plain": [
       "tr->en (batch):   0%|          | 0/1 [00:00<?, ?it/s]"
      ]
     },
     "metadata": {},
     "output_type": "display_data"
    },
    {
     "data": {
      "application/vnd.jupyter.widget-view+json": {
       "model_id": "985d58a9b9e24201a050d0054960c076",
       "version_major": 2,
       "version_minor": 0
      },
      "text/plain": [
       "th->en (batch):   0%|          | 0/1 [00:00<?, ?it/s]"
      ]
     },
     "metadata": {},
     "output_type": "display_data"
    },
    {
     "data": {
      "application/vnd.jupyter.widget-view+json": {
       "model_id": "e1539f33b84a42f79ce4fe007c9a8a8c",
       "version_major": 2,
       "version_minor": 0
      },
      "text/plain": [
       "it->en (batch):   0%|          | 0/1 [00:00<?, ?it/s]"
      ]
     },
     "metadata": {},
     "output_type": "display_data"
    },
    {
     "data": {
      "application/vnd.jupyter.widget-view+json": {
       "model_id": "6c6f6a439e3641bcb2d5cdbd8129607b",
       "version_major": 2,
       "version_minor": 0
      },
      "text/plain": [
       "bg->en (batch):   0%|          | 0/1 [00:00<?, ?it/s]"
      ]
     },
     "metadata": {},
     "output_type": "display_data"
    },
    {
     "data": {
      "application/vnd.jupyter.widget-view+json": {
       "model_id": "0169f820415a4ae881da3e23b64eb8da",
       "version_major": 2,
       "version_minor": 0
      },
      "text/plain": [
       "vi->en (batch):   0%|          | 0/1 [00:00<?, ?it/s]"
      ]
     },
     "metadata": {},
     "output_type": "display_data"
    },
    {
     "data": {
      "application/vnd.jupyter.widget-view+json": {
       "model_id": "233e4dfa45a64c29a2e3d914bf06cf07",
       "version_major": 2,
       "version_minor": 0
      },
      "text/plain": [
       "cs->en (batch):   0%|          | 0/1 [00:00<?, ?it/s]"
      ]
     },
     "metadata": {},
     "output_type": "display_data"
    },
    {
     "data": {
      "application/vnd.jupyter.widget-view+json": {
       "model_id": "2f056123777543a0943a121a4b35979d",
       "version_major": 2,
       "version_minor": 0
      },
      "text/plain": [
       "sv->en (batch):   0%|          | 0/1 [00:00<?, ?it/s]"
      ]
     },
     "metadata": {},
     "output_type": "display_data"
    },
    {
     "data": {
      "application/vnd.jupyter.widget-view+json": {
       "model_id": "2bfa365b66414704a3795e6f56aae6cd",
       "version_major": 2,
       "version_minor": 0
      },
      "text/plain": [
       "el->en (batch):   0%|          | 0/1 [00:00<?, ?it/s]"
      ]
     },
     "metadata": {},
     "output_type": "display_data"
    },
    {
     "data": {
      "application/vnd.jupyter.widget-view+json": {
       "model_id": "f57849a22403443999e73aae37924d93",
       "version_major": 2,
       "version_minor": 0
      },
      "text/plain": [
       "hu->en (batch):   0%|          | 0/1 [00:00<?, ?it/s]"
      ]
     },
     "metadata": {},
     "output_type": "display_data"
    },
    {
     "data": {
      "application/vnd.jupyter.widget-view+json": {
       "model_id": "2afe9db3f9144f3b834b47ed59f43c7e",
       "version_major": 2,
       "version_minor": 0
      },
      "text/plain": [
       "uk->en (batch):   0%|          | 0/1 [00:00<?, ?it/s]"
      ]
     },
     "metadata": {},
     "output_type": "display_data"
    },
    {
     "data": {
      "application/vnd.jupyter.widget-view+json": {
       "model_id": "201c87a7ecad488a8c4c443c67395048",
       "version_major": 2,
       "version_minor": 0
      },
      "text/plain": [
       "mk->en (batch):   0%|          | 0/1 [00:00<?, ?it/s]"
      ]
     },
     "metadata": {},
     "output_type": "display_data"
    },
    {
     "data": {
      "application/vnd.jupyter.widget-view+json": {
       "model_id": "5e0952ee310b43fc98b3c8ba649b6403",
       "version_major": 2,
       "version_minor": 0
      },
      "text/plain": [
       "ca->en (batch):   0%|          | 0/1 [00:00<?, ?it/s]"
      ]
     },
     "metadata": {},
     "output_type": "display_data"
    },
    {
     "data": {
      "application/vnd.jupyter.widget-view+json": {
       "model_id": "04a0d95cbbcc4bc39e4af30b84a31b12",
       "version_major": 2,
       "version_minor": 0
      },
      "text/plain": [
       "da->en (batch):   0%|          | 0/1 [00:00<?, ?it/s]"
      ]
     },
     "metadata": {},
     "output_type": "display_data"
    },
    {
     "data": {
      "application/vnd.jupyter.widget-view+json": {
       "model_id": "e48ff9a686f449e8bb374ebb878760c2",
       "version_major": 2,
       "version_minor": 0
      },
      "text/plain": [
       "so->en (batch):   0%|          | 0/1 [00:00<?, ?it/s]"
      ]
     },
     "metadata": {},
     "output_type": "display_data"
    },
    {
     "data": {
      "application/vnd.jupyter.widget-view+json": {
       "model_id": "3845bc6463eb46d4a4dc663ad04b83d6",
       "version_major": 2,
       "version_minor": 0
      },
      "text/plain": [
       "et->en (batch):   0%|          | 0/1 [00:00<?, ?it/s]"
      ]
     },
     "metadata": {},
     "output_type": "display_data"
    },
    {
     "data": {
      "application/vnd.jupyter.widget-view+json": {
       "model_id": "a72ec28f88cf42f882839e7326c5824f",
       "version_major": 2,
       "version_minor": 0
      },
      "text/plain": [
       "sl->en (batch):   0%|          | 0/1 [00:00<?, ?it/s]"
      ]
     },
     "metadata": {},
     "output_type": "display_data"
    },
    {
     "data": {
      "application/vnd.jupyter.widget-view+json": {
       "model_id": "2a25cdb9f52c45c0b7eff5e0a7ad02a1",
       "version_major": 2,
       "version_minor": 0
      },
      "text/plain": [
       "sk->en (batch):   0%|          | 0/1 [00:00<?, ?it/s]"
      ]
     },
     "metadata": {},
     "output_type": "display_data"
    },
    {
     "data": {
      "application/vnd.jupyter.widget-view+json": {
       "model_id": "c3a33a94fe4649f4b30fca94c87aaa65",
       "version_major": 2,
       "version_minor": 0
      },
      "text/plain": [
       "he->en (batch):   0%|          | 0/1 [00:00<?, ?it/s]"
      ]
     },
     "metadata": {},
     "output_type": "display_data"
    },
    {
     "data": {
      "application/vnd.jupyter.widget-view+json": {
       "model_id": "ae32671e1f7b41e3b9b77445064cfbd5",
       "version_major": 2,
       "version_minor": 0
      },
      "text/plain": [
       "nl->en (batch):   0%|          | 0/1 [00:00<?, ?it/s]"
      ]
     },
     "metadata": {},
     "output_type": "display_data"
    },
    {
     "data": {
      "application/vnd.jupyter.widget-view+json": {
       "model_id": "1e788dc38a904970bc499246e4c55581",
       "version_major": 2,
       "version_minor": 0
      },
      "text/plain": [
       "hr->en (batch):   0%|          | 0/1 [00:00<?, ?it/s]"
      ]
     },
     "metadata": {},
     "output_type": "display_data"
    },
    {
     "data": {
      "application/vnd.jupyter.widget-view+json": {
       "model_id": "bb9592f07af74f809125d8f83d00064e",
       "version_major": 2,
       "version_minor": 0
      },
      "text/plain": [
       "zh-cn->en (batch):   0%|          | 0/1 [00:00<?, ?it/s]"
      ]
     },
     "metadata": {},
     "output_type": "display_data"
    },
    {
     "data": {
      "application/vnd.jupyter.widget-view+json": {
       "model_id": "035475fabd14427d9f6c63a90381da94",
       "version_major": 2,
       "version_minor": 0
      },
      "text/plain": [
       "ro->en (batch):   0%|          | 0/1 [00:00<?, ?it/s]"
      ]
     },
     "metadata": {},
     "output_type": "display_data"
    },
    {
     "data": {
      "application/vnd.jupyter.widget-view+json": {
       "model_id": "1bad4cf99f89481fb4e1671dacbc7a44",
       "version_major": 2,
       "version_minor": 0
      },
      "text/plain": [
       "id->en (batch):   0%|          | 0/1 [00:00<?, ?it/s]"
      ]
     },
     "metadata": {},
     "output_type": "display_data"
    },
    {
     "data": {
      "application/vnd.jupyter.widget-view+json": {
       "model_id": "0ca7ae224ed34da88efd7922d477e38c",
       "version_major": 2,
       "version_minor": 0
      },
      "text/plain": [
       "no->en (batch):   0%|          | 0/1 [00:00<?, ?it/s]"
      ]
     },
     "metadata": {},
     "output_type": "display_data"
    },
    {
     "data": {
      "application/vnd.jupyter.widget-view+json": {
       "model_id": "be81cd88769d449f8081a154339789d9",
       "version_major": 2,
       "version_minor": 0
      },
      "text/plain": [
       "zh-tw->en (batch):   0%|          | 0/1 [00:00<?, ?it/s]"
      ]
     },
     "metadata": {},
     "output_type": "display_data"
    },
    {
     "data": {
      "application/vnd.jupyter.widget-view+json": {
       "model_id": "0f49429ff255457a827159b374de8bc3",
       "version_major": 2,
       "version_minor": 0
      },
      "text/plain": [
       "tl->en (batch):   0%|          | 0/1 [00:00<?, ?it/s]"
      ]
     },
     "metadata": {},
     "output_type": "display_data"
    },
    {
     "data": {
      "application/vnd.jupyter.widget-view+json": {
       "model_id": "adaee877f7f1465f9fd5bbd2ce0d5d05",
       "version_major": 2,
       "version_minor": 0
      },
      "text/plain": [
       "sq->en (batch):   0%|          | 0/1 [00:00<?, ?it/s]"
      ]
     },
     "metadata": {},
     "output_type": "display_data"
    },
    {
     "data": {
      "application/vnd.jupyter.widget-view+json": {
       "model_id": "5d73428b5e344ed08fb0580e9fbb4cec",
       "version_major": 2,
       "version_minor": 0
      },
      "text/plain": [
       "sw->en (batch):   0%|          | 0/1 [00:00<?, ?it/s]"
      ]
     },
     "metadata": {},
     "output_type": "display_data"
    },
    {
     "data": {
      "application/vnd.jupyter.widget-view+json": {
       "model_id": "ade5629619ac4757be275929cb45367f",
       "version_major": 2,
       "version_minor": 0
      },
      "text/plain": [
       "af->en (batch):   0%|          | 0/1 [00:00<?, ?it/s]"
      ]
     },
     "metadata": {},
     "output_type": "display_data"
    },
    {
     "data": {
      "application/vnd.jupyter.widget-view+json": {
       "model_id": "738e06433c2e4b74b0928cf0a0b77742",
       "version_major": 2,
       "version_minor": 0
      },
      "text/plain": [
       "ta->en (batch):   0%|          | 0/1 [00:00<?, ?it/s]"
      ]
     },
     "metadata": {},
     "output_type": "display_data"
    },
    {
     "data": {
      "application/vnd.jupyter.widget-view+json": {
       "model_id": "22b2aedf192c4da39c06bdfc0904accd",
       "version_major": 2,
       "version_minor": 0
      },
      "text/plain": [
       "fa->en (batch):   0%|          | 0/1 [00:00<?, ?it/s]"
      ]
     },
     "metadata": {},
     "output_type": "display_data"
    },
    {
     "data": {
      "application/vnd.jupyter.widget-view+json": {
       "model_id": "f8f2dbbb68d24e4dbe04f5a6f7b879d3",
       "version_major": 2,
       "version_minor": 0
      },
      "text/plain": [
       "fi->en (batch):   0%|          | 0/1 [00:00<?, ?it/s]"
      ]
     },
     "metadata": {},
     "output_type": "display_data"
    },
    {
     "data": {
      "application/vnd.jupyter.widget-view+json": {
       "model_id": "ff47d6e9f381471bb4589ddc9048cf0e",
       "version_major": 2,
       "version_minor": 0
      },
      "text/plain": [
       "lt->en (batch):   0%|          | 0/1 [00:00<?, ?it/s]"
      ]
     },
     "metadata": {},
     "output_type": "display_data"
    },
    {
     "data": {
      "application/vnd.jupyter.widget-view+json": {
       "model_id": "e8f3ef022e34453c87be56351b72647a",
       "version_major": 2,
       "version_minor": 0
      },
      "text/plain": [
       "cy->en (batch):   0%|          | 0/1 [00:00<?, ?it/s]"
      ]
     },
     "metadata": {},
     "output_type": "display_data"
    },
    {
     "data": {
      "application/vnd.jupyter.widget-view+json": {
       "model_id": "b4230a71d45d4b6b837591a664d5a81e",
       "version_major": 2,
       "version_minor": 0
      },
      "text/plain": [
       "und->en (batch):   0%|          | 0/1 [00:00<?, ?it/s]"
      ]
     },
     "metadata": {},
     "output_type": "display_data"
    },
    {
     "name": "stdout",
     "output_type": "stream",
     "text": [
      "✅ Saved: /content/drive/MyDrive/Final EGBI222 Group Project/chunk2/transcript_en_p3_8796-13192.csv\n",
      "\n",
      "Head:\n",
      "  video_id_clean                                         transcript lang  \\\n",
      "0    V1KZ-BqeJGE  Jonas Brothers \"Inseparable\" 7/25/13 Jonas bro...   en   \n",
      "1    V1PL-pRby8k  HeliRideNYC Helicopter overflight Manhattan at...   en   \n",
      "2    V1QS-6UxrDs                                 Roman-miniramp.MP4   en   \n",
      "\n",
      "                                       transcript_en  \n",
      "0  Jonas Brothers \"Inseparable\" 7/25/13 Jonas bro...  \n",
      "1  HeliRideNYC Helicopter overflight Manhattan at...  \n",
      "2                                 Roman-miniramp.MP4  \n",
      "\n",
      "Lang counts (original):\n",
      "lang\n",
      "en       3255\n",
      "pt        155\n",
      "es        138\n",
      "ja        105\n",
      "ru         84\n",
      "de         74\n",
      "ar         69\n",
      "ko         66\n",
      "fr         56\n",
      "pl         43\n",
      "und        35\n",
      "tr         28\n",
      "th         26\n",
      "it         23\n",
      "bg         20\n",
      "vi         19\n",
      "cs         17\n",
      "sv         17\n",
      "el         13\n",
      "hu         12\n",
      "uk         11\n",
      "mk         11\n",
      "ca         10\n",
      "da          9\n",
      "so          9\n",
      "et          9\n",
      "sl          8\n",
      "sk          7\n",
      "he          7\n",
      "nl          7\n",
      "hr          7\n",
      "zh-cn       6\n",
      "ro          5\n",
      "id          5\n",
      "no          5\n",
      "zh-tw       5\n",
      "tl          4\n",
      "sq          4\n",
      "sw          3\n",
      "af          3\n",
      "ta          2\n",
      "fa          2\n",
      "fi          1\n",
      "lt          1\n",
      "cy          1\n",
      "Name: count, dtype: int64\n",
      "\n",
      "Done.\n"
     ]
    }
   ],
   "source": [
    "!pip -q install langdetect==1.0.9 deep-translator==1.11.4 tqdm==4.66.5\n",
    "\n",
    "from google.colab import drive\n",
    "from langdetect import detect, DetectorFactory, LangDetectException\n",
    "from deep_translator import GoogleTranslator, MyMemoryTranslator\n",
    "from tqdm.auto import tqdm\n",
    "import pandas as pd, numpy as np\n",
    "import os, re, time, random, sys\n",
    "\n",
    "if not os.path.exists('/content/drive'):\n",
    "    drive.mount('/content/drive')\n",
    "else:\n",
    "    print(\"Google Drive is already mounted.\")\n",
    "\n",
    "BASE   = \"/content/drive/MyDrive/Final EGBI222 Group Project\"\n",
    "IN_CSV = os.path.join(BASE, \"chunks\", \"transcripts_p3_8796-13192.csv\")\n",
    "OUTDIR = os.path.join(BASE, \"chunk2\")\n",
    "OUT_CSV = os.path.join(OUTDIR, \"transcript_en_p3_8796-13192.csv\")\n",
    "os.makedirs(OUTDIR, exist_ok=True)\n",
    "print(\"Input :\", IN_CSV)\n",
    "print(\"Output:\", OUT_CSV)\n",
    "\n",
    "try:\n",
    "    df = pd.read_csv(IN_CSV)\n",
    "    # Ensure transcript column exists\n",
    "    if 'transcript' not in df.columns:\n",
    "        for c in ['text', 'caption', 'content']:\n",
    "            if c in df.columns:\n",
    "                df = df.rename(columns={c: 'transcript'})\n",
    "                break\n",
    "    if 'transcript' not in df.columns:\n",
    "        raise KeyError(\"Input must contain a 'transcript' column (or one of ['text','caption','content']).\")\n",
    "    print(f\"Loaded rows: {len(df)}\")\n",
    "except Exception as e:\n",
    "    print(f\"[FATAL] Could not load input CSV: {e}\")\n",
    "    raise\n",
    "\n",
    "def clean_text(s: str) -> str:\n",
    "    if pd.isna(s): return \"\"\n",
    "    s = str(s)\n",
    "    s = s.replace(\"\\u200b\",\"\").replace(\"\\u200c\",\"\").replace(\"\\u200d\",\"\").replace(\"\\ufeff\",\"\")\n",
    "    s = re.sub(r\"[\\u0000-\\u0008\\u000B\\u000C\\u000E-\\u001F\\u007F]\", \"\", s)  # control chars\n",
    "    s = re.sub(r\"[^\\S\\r\\n\\t]+\", \" \", s).strip()  # whitespace\n",
    "    s = re.sub(r\"(.)\\1{5,}\", r\"\\1\\1\\1\\1\\1\", s)  # crazy repeats\n",
    "    return s\n",
    "\n",
    "tqdm.pandas(desc=\"Cleaning\")\n",
    "df['transcript'] = df['transcript'].progress_apply(clean_text)\n",
    "df = df[df['transcript'].str.strip() != \"\"].copy()\n",
    "print(\"Rows after cleaning:\", len(df))\n",
    "\n",
    "DetectorFactory.seed = 0\n",
    "\n",
    "def quick_ascii_english(s: str) -> bool:\n",
    "    \"\"\"Fast check: mostly ASCII & contains vowels/spaces -> likely English.\"\"\"\n",
    "    if not s: return False\n",
    "    if not all(ord(ch) < 128 for ch in s):\n",
    "        return False\n",
    "    return bool(re.search(r\"[aeiouAEIOU]\", s))\n",
    "\n",
    "def detect_lang_safe(s: str) -> str:\n",
    "    s = (s or \"\").strip()\n",
    "    if not s: return \"und\"\n",
    "    if quick_ascii_english(s):\n",
    "        return \"en\"\n",
    "    try:\n",
    "        return detect(s) or \"und\"\n",
    "    except LangDetectException:\n",
    "        return \"und\"\n",
    "    except Exception:\n",
    "        return \"und\"\n",
    "\n",
    "if 'lang' not in df.columns:\n",
    "    tqdm.pandas(desc=\"Detecting language\")\n",
    "    df['lang'] = df['transcript'].progress_apply(detect_lang_safe)\n",
    "else:\n",
    "    mask_unknown = df['lang'].astype(str).str.lower().isin(['unknown','und','','nan']) | df['lang'].isna()\n",
    "    if mask_unknown.any():\n",
    "        tqdm.pandas(desc=\"Re-detecting language\")\n",
    "        df.loc[mask_unknown, 'lang'] = df.loc[mask_unknown, 'transcript'].progress_apply(detect_lang_safe)\n",
    "    df.loc[df['lang'].astype(str).str.lower().isin(['unknown','','nan']) | df['lang'].isna(), 'lang'] = 'und'\n",
    "\n",
    "print(\"Language counts:\\n\", df['lang'].value_counts(dropna=False))\n",
    "\n",
    "BATCH_SIZE = 80\n",
    "MAX_TRIES  = 3\n",
    "BASE_SLEEP = 0.6\n",
    "\n",
    "if 'transcript_en' not in df.columns:\n",
    "    df['transcript_en'] = \"\"\n",
    "\n",
    "mask_en = df['lang'].astype(str).str.lower().eq('en')\n",
    "df.loc[mask_en, 'transcript_en'] = df.loc[mask_en, 'transcript']\n",
    "\n",
    "def translate_batch_google(texts, src_lang):\n",
    "    \"\"\"Batch translate via GoogleTranslator with retries. Returns list[str].\"\"\"\n",
    "    texts = [(\"\" if pd.isna(t) else str(t)) for t in texts]\n",
    "    src = src_lang if src_lang and src_lang not in (\"und\",\"auto\") else \"auto\"\n",
    "    out = list(texts)\n",
    "    for attempt in range(1, MAX_TRIES+1):\n",
    "        try:\n",
    "            gt = GoogleTranslator(source=src, target='en')\n",
    "            res = gt.translate_batch(texts)\n",
    "            if isinstance(res, list) and len(res) == len(texts):\n",
    "                out = [r if (isinstance(r, str) and r.strip() != \"\") else orig for r,orig in zip(res, texts)]\n",
    "                return out\n",
    "        except Exception as e:\n",
    "            time.sleep(BASE_SLEEP*(2**(attempt-1)) + random.uniform(0,0.3))\n",
    "    return out\n",
    "\n",
    "def translate_item_fallback(text, src_lang):\n",
    "    \"\"\"Per-item fallback using Google first, then MyMemory.\"\"\"\n",
    "    if not text: return \"\"\n",
    "    if quick_ascii_english(text): return text\n",
    "    src = src_lang if src_lang and src_lang not in (\"und\",\"auto\") else \"auto\"\n",
    "\n",
    "    for attempt in range(1, MAX_TRIES+1):\n",
    "        try:\n",
    "            r = GoogleTranslator(source=src, target='en').translate(text)\n",
    "            if r and r.strip(): return r\n",
    "        except Exception:\n",
    "            time.sleep(BASE_SLEEP*(2**(attempt-1)) + random.uniform(0,0.3))\n",
    "\n",
    "    for attempt in range(1, MAX_TRIES+1):\n",
    "        try:\n",
    "            r = MyMemoryTranslator(source=src, target='en').translate(text)\n",
    "            if r and r.strip(): return r\n",
    "        except Exception:\n",
    "            time.sleep(BASE_SLEEP*(2**(attempt-1)) + random.uniform(0,0.3))\n",
    "\n",
    "    return text\n",
    "\n",
    "lang_order = df['lang'].value_counts().index.tolist()\n",
    "lang_order = [l for l in lang_order if str(l).lower() not in ('en','und')] + (['und'] if 'und' in lang_order else [])\n",
    "\n",
    "for lc in lang_order:\n",
    "    mask = (df['lang'] == lc) & (df['transcript'].str.strip() != \"\") & (df['transcript_en'].str.strip() == \"\")\n",
    "    idxs = df.index[mask].tolist()\n",
    "    if not idxs:\n",
    "        continue\n",
    "\n",
    "    texts = df.loc[idxs, 'transcript'].tolist()\n",
    "    translated = []\n",
    "    for i in tqdm(range(0, len(texts), BATCH_SIZE), desc=f\"{lc}->en (batch)\"):\n",
    "        chunk = texts[i:i+BATCH_SIZE]\n",
    "        out = translate_batch_google(chunk, lc)\n",
    "\n",
    "        fixed = []\n",
    "        for orig, got in zip(chunk, out):\n",
    "            if (not got.strip()) or (got.strip() == orig.strip() and not quick_ascii_english(orig)):\n",
    "                fixed.append(translate_item_fallback(orig, lc))\n",
    "            else:\n",
    "                fixed.append(got)\n",
    "        translated.extend(fixed)\n",
    "\n",
    "    df.loc[idxs, 'transcript_en'] = translated\n",
    "\n",
    "need_fix = (df['transcript_en'].str.strip() == \"\")\n",
    "if need_fix.any():\n",
    "    print(f\"Rescue pass on {need_fix.sum()} rows…\")\n",
    "    for idx in tqdm(df.index[need_fix], desc=\"rescue\"):\n",
    "        src = df.at[idx, 'lang']\n",
    "        txt = df.at[idx, 'transcript']\n",
    "        df.at[idx, 'transcript_en'] = translate_item_fallback(txt, src)\n",
    "\n",
    "df['transcript_en'] = df['transcript_en'].fillna(\"\")\n",
    "\n",
    "try:\n",
    "    df.to_csv(OUT_CSV, index=False, encoding='utf-8')\n",
    "    print(\"✅ Saved:\", OUT_CSV)\n",
    "except Exception as e:\n",
    "    print(f\"❌ Save error: {e}\")\n",
    "    raise\n",
    "\n",
    "cols = ['video_id_clean' if 'video_id_clean' in df.columns else ('video_id' if 'video_id' in df.columns else df.columns[0]),\n",
    "        'transcript','lang','transcript_en']\n",
    "print(\"\\nHead:\")\n",
    "print(df[cols].head(3))\n",
    "print(\"\\nLang counts (original):\")\n",
    "print(df['lang'].value_counts(dropna=False))\n",
    "print(\"\\nDone.\")\n"
   ]
  },
  {
   "cell_type": "markdown",
   "id": "13506920",
   "metadata": {},
   "source": [
    "# ▶️ Part 4: **4th Person.ipynb**"
   ]
  },
  {
   "cell_type": "markdown",
   "id": "21428d8c1d73d3ee",
   "metadata": {
    "id": "dobZMAnatYiS"
   },
   "source": [
    "#Shard 4 (75-100%)"
   ]
  },
  {
   "cell_type": "code",
   "execution_count": null,
   "id": "db5294396bf11309",
   "metadata": {
    "colab": {
     "base_uri": "https://localhost:8080/"
    },
    "executionInfo": {
     "elapsed": 8737,
     "status": "ok",
     "timestamp": 1760504035181,
     "user": {
      "displayName": "KHEMMANAT KIATTIKULPIMOL",
      "userId": "06448714020354424233"
     },
     "user_tz": -420
    },
    "id": "3kPoI56NnoeZ",
    "outputId": "6cd477f7-b459-4e0e-cbc4-955b31e3338a"
   },
   "outputs": [
    {
     "name": "stdout",
     "output_type": "stream",
     "text": [
      "Drive already mounted at /content/drive; to attempt to forcibly remount, call drive.mount(\"/content/drive\", force_remount=True).\n",
      "P4 rows 13193-17589/17589 → 4397\n"
     ]
    },
    {
     "name": "stdout",
     "output_type": "stream",
     "text": [
      "P4 captions: 100%|██████████| 4397/4397 [00:00<00:00, 128925.14it/s]"
     ]
    },
    {
     "name": "stdout",
     "output_type": "stream",
     "text": [
      "Saved shard: /content/drive/MyDrive/Final EGBI222 Group Project/chunks/transcripts_p4_13193-17589.csv\n"
     ]
    },
    {
     "name": "stdout",
     "output_type": "stream",
     "text": [
      "\n"
     ]
    }
   ],
   "source": [
    "!pip install -q youtube-transcript-api pandas numpy matplotlib seaborn langdetect tqdm\n",
    "from google.colab import drive; drive.mount('/content/drive')\n",
    "\n",
    "import os, math, pandas as pd, numpy as np\n",
    "BASE = \"/content/drive/MyDrive/Final EGBI222 Group Project\"\n",
    "CHUNK = f\"{BASE}/chunks\"; os.makedirs(CHUNK, exist_ok=True)\n",
    "\n",
    "CSV = f\"{BASE}/youtube_data.csv\"\n",
    "df = pd.read_csv(CSV).copy()\n",
    "if 'video_id_clean' not in df.columns and 'video_id' in df.columns:\n",
    "    df['video_id_clean'] = df['video_id'].astype(str)\n",
    "ID = 'video_id_clean' if 'video_id_clean' in df.columns else 'video_id'\n",
    "df = df.reset_index(drop=True); df['row_no'] = df.index + 1\n",
    "\n",
    "N = len(df); q3 = math.ceil(3*N/4); q4 = N # Assuming q4 is the end of the dataframe\n",
    "lo, hi = q3+1, q4\n",
    "df_small = df[(df['row_no']>=lo)&(df['row_no']<=hi)].copy().reset_index(drop=True)\n",
    "print(f\"P4 rows {lo}-{hi}/{N} → {len(df_small)}\")\n",
    "\n",
    "from youtube_transcript_api import YouTubeTranscriptApi, TranscriptsDisabled, NoTranscriptFound, VideoUnavailable\n",
    "from concurrent.futures import ThreadPoolExecutor, as_completed\n",
    "from langdetect import detect\n",
    "from tqdm import tqdm\n",
    "\n",
    "def fetch_cap(vid):\n",
    "    vid = str(vid)\n",
    "    try:\n",
    "        trs = YouTubeTranscriptApi.list_transcripts(vid)\n",
    "        try:\n",
    "            tr = trs.find_transcript(['en']); lang = 'en'\n",
    "        except:\n",
    "            tr = next(iter(trs)); lang = tr.language_code or 'unknown'\n",
    "        segs = tr.fetch()\n",
    "        text = \" \".join(s.get('text','') for s in segs if s.get('text'))\n",
    "        lg = 'unknown'\n",
    "        if text.strip():\n",
    "            try: lg = detect(text)\n",
    "            except: lg = lang or 'unknown'\n",
    "        return vid, text, lg, 'yt_caption'\n",
    "    except (TranscriptsDisabled, NoTranscriptFound, VideoUnavailable, Exception):\n",
    "        return vid, \"\", \"unknown\", \"no_caption\"\n",
    "\n",
    "vids = df_small[ID].astype(str).tolist()\n",
    "rows = []\n",
    "with ThreadPoolExecutor(max_workers=32) as ex:\n",
    "    futs = {ex.submit(fetch_cap, v): v for v in vids}\n",
    "    for f in tqdm(as_completed(futs), total=len(futs), desc=\"P4 captions\"):\n",
    "        rows.append(f.result())\n",
    "\n",
    "cap = pd.DataFrame(rows, columns=[ID,'transcript','lang_guess','source'])\n",
    "out = df_small[[ID,'title','description'] if 'title' in df_small.columns or 'description' in df_small.columns else [ID]].merge(cap, on=ID, how='left')\n",
    "\n",
    "title_col = 'title' if 'title' in df_small.columns else None\n",
    "desc_col  = 'description' if 'description' in df_small.columns else None\n",
    "if title_col or desc_col:\n",
    "    mask = (out['transcript'].isna()) | (out['transcript']==\"\")\n",
    "    if title_col and desc_col:\n",
    "        out.loc[mask,'transcript'] = (df_small.loc[mask, title_col].fillna('') + \" \" +\n",
    "                                      df_small.loc[mask, desc_col].fillna('')).str.strip()\n",
    "    elif title_col:\n",
    "        out.loc[mask,'transcript'] = df_small.loc[mask, title_col].fillna('')\n",
    "    elif desc_col:\n",
    "        out.loc[mask,'transcript'] = df_small.loc[mask, desc_col].fillna('')\n",
    "    out.loc[mask & (out['lang_guess'].isna() | (out['lang_guess']==\"unknown\")), 'lang_guess'] = 'unknown'\n",
    "    out.loc[mask & (out['source'].isna()), 'source'] = 'meta_fallback'\n",
    "\n",
    "shard = f\"{CHUNK}/transcripts_p4_{lo}-{hi}.csv\"; out.to_csv(shard, index=False); print(\"Saved shard:\", shard)"
   ]
  },
  {
   "cell_type": "code",
   "execution_count": null,
   "id": "8244694c216ad657",
   "metadata": {
    "id": "KLXbmqxEHizO"
   },
   "outputs": [],
   "source": [
    "!pip -q install langdetect==1.0.9 deep-translator==1.11.4 tqdm==4.66.5\n",
    "\n",
    "from google.colab import drive\n",
    "from langdetect import detect, DetectorFactory, LangDetectException\n",
    "from deep_translator import GoogleTranslator, MyMemoryTranslator\n",
    "from tqdm.auto import tqdm\n",
    "import pandas as pd, numpy as np\n",
    "import os, re, time, random, sys\n",
    "\n",
    "if not os.path.exists('/content/drive'):\n",
    "    drive.mount('/content/drive')\n",
    "else:\n",
    "    print(\"Google Drive is already mounted.\")\n",
    "\n",
    "BASE   = \"/content/drive/MyDrive/Final EGBI222 Group Project\"\n",
    "IN_CSV = os.path.join(BASE, \"chunks\", \"transcripts_p4_13193-17589.csv\")\n",
    "OUTDIR = os.path.join(BASE, \"chunk2\")\n",
    "OUT_CSV = os.path.join(OUTDIR, \"transcripts_p4_13193-17589.csv\")\n",
    "AUDIO_DIR = f\"{BASE}/audio\"\n",
    "\n",
    "os.makedirs(OUTDIR, exist_ok=True)\n",
    "os.makedirs(AUDIO_DIR, exist_ok=True)\n",
    "print(\"Input :\", IN_CSV)\n",
    "print(\"Output:\", OUT_CSV)\n",
    "\n",
    "try:\n",
    "    df = pd.read_csv(IN_CSV)\n",
    "    if 'transcript' not in df.columns:\n",
    "        for c in ['text', 'caption', 'content']:\n",
    "            if c in df.columns:\n",
    "                df = df.rename(columns={c: 'transcript'})\n",
    "                break\n",
    "    if 'transcript' not in df.columns:\n",
    "        raise KeyError(\"Input must contain a 'transcript' column (or one of ['text','caption','content']).\")\n",
    "    print(f\"Loaded rows: {len(df)}\")\n",
    "except Exception as e:\n",
    "    print(f\"[FATAL] Could not load input CSV: {e}\")\n",
    "    raise\n",
    "\n",
    "def clean_text(s: str) -> str:\n",
    "    if pd.isna(s): return \"\"\n",
    "    s = str(s)\n",
    "    s = s.replace(\"\\u200b\",\"\").replace(\"\\u200c\",\"\").replace(\"\\u200d\",\"\").replace(\"\\ufeff\",\"\")\n",
    "    s = re.sub(r\"[\\u0000-\\u0008\\u000B\\u000C\\u000E-\\u001F\\u007F]\", \"\", s)\n",
    "    s = re.sub(r\"[^\\S\\r\\n\\t]+\", \" \", s).strip()\n",
    "    s = re.sub(r\"(.)\\1{5,}\", r\"\\1\\1\\1\\1\\1\", s)\n",
    "    return s\n",
    "\n",
    "tqdm.pandas(desc=\"Cleaning\")\n",
    "df['transcript'] = df['transcript'].progress_apply(clean_text)\n",
    "df = df[df['transcript'].str.strip() != \"\"].copy()\n",
    "print(\"Rows after cleaning:\", len(df))\n",
    "\n",
    "DetectorFactory.seed = 0\n",
    "\n",
    "def quick_ascii_english(s: str) -> bool:\n",
    "    \"\"\"Fast check: mostly ASCII & contains vowels/spaces -> likely English.\"\"\"\n",
    "    if not s: return False\n",
    "    if not all(ord(ch) < 128 for ch in s):\n",
    "        return False\n",
    "    return bool(re.search(r\"[aeiouAEIOU]\", s))\n",
    "\n",
    "def detect_lang_safe(s: str) -> str:\n",
    "    s = (s or \"\").strip()\n",
    "    if not s: return \"und\"\n",
    "    if quick_ascii_english(s):\n",
    "        return \"en\"\n",
    "    try:\n",
    "        return detect(s) or \"und\"\n",
    "    except LangDetectException:\n",
    "        return \"und\"\n",
    "    except Exception:\n",
    "        return \"und\"\n",
    "\n",
    "if 'lang' not in df.columns:\n",
    "    tqdm.pandas(desc=\"Detecting language\")\n",
    "    df['lang'] = df['transcript'].progress_apply(detect_lang_safe)\n",
    "else:\n",
    "    mask_unknown = df['lang'].astype(str).str.lower().isin(['unknown','und','','nan']) | df['lang'].isna()\n",
    "    if mask_unknown.any():\n",
    "        tqdm.pandas(desc=\"Re-detecting language\")\n",
    "        df.loc[mask_unknown, 'lang'] = df.loc[mask_unknown, 'transcript'].progress_apply(detect_lang_safe)\n",
    "    df.loc[df['lang'].astype(str).str.lower().isin(['unknown','','nan']) | df['lang'].isna(), 'lang'] = 'und'\n",
    "\n",
    "print(\"Language counts:\\n\", df['lang'].value_counts(dropna=False))\n",
    "\n",
    "BATCH_SIZE = 80\n",
    "MAX_TRIES  = 3\n",
    "BASE_SLEEP = 0.6\n",
    "\n",
    "if 'transcript_en' not in df.columns:\n",
    "    df['transcript_en'] = \"\"\n",
    "\n",
    "mask_en = df['lang'].astype(str).str.lower().eq('en')\n",
    "df.loc[mask_en, 'transcript_en'] = df.loc[mask_en, 'transcript']\n",
    "\n",
    "def translate_batch_google(texts, src_lang):\n",
    "    \"\"\"Batch translate via GoogleTranslator with retries. Returns list[str].\"\"\"\n",
    "    texts = [(\"\" if pd.isna(t) else str(t)) for t in texts]\n",
    "    src = src_lang if src_lang and src_lang not in (\"und\",\"auto\") else \"auto\"\n",
    "    out = list(texts)\n",
    "    for attempt in range(1, MAX_TRIES+1):\n",
    "        try:\n",
    "            gt = GoogleTranslator(source=src, target='en')\n",
    "            res = gt.translate_batch(texts)\n",
    "            if isinstance(res, list) and len(res) == len(texts):\n",
    "                out = [r if (isinstance(r, str) and r.strip() != \"\") else orig for r,orig in zip(res, texts)]\n",
    "                return out\n",
    "        except Exception as e:\n",
    "            time.sleep(BASE_SLEEP*(2**(attempt-1)) + random.uniform(0,0.3))\n",
    "    return out\n",
    "\n",
    "def translate_item_fallback(text, src_lang):\n",
    "    \"\"\"Per-item fallback using Google first, then MyMemory.\"\"\"\n",
    "    if not text: return \"\"\n",
    "    if quick_ascii_english(text): return text\n",
    "    src = src_lang if src_lang and src_lang not in (\"und\",\"auto\") else \"auto\"\n",
    "\n",
    "    for attempt in range(1, MAX_TRIES+1):\n",
    "        try:\n",
    "            r = GoogleTranslator(source=src, target='en').translate(text)\n",
    "            if r and r.strip(): return r\n",
    "        except Exception:\n",
    "            time.sleep(BASE_SLEEP*(2**(attempt-1)) + random.uniform(0,0.3))\n",
    "\n",
    "    for attempt in range(1, MAX_TRIES+1):\n",
    "        try:\n",
    "            r = MyMemoryTranslator(source=src, target='en').translate(text)\n",
    "            if r and r.strip(): return r\n",
    "        except Exception:\n",
    "            time.sleep(BASE_SLEEP*(2**(attempt-1)) + random.uniform(0,0.3))\n",
    "\n",
    "    return text\n",
    "\n",
    "lang_order = df['lang'].value_counts().index.tolist()\n",
    "lang_order = [l for l in lang_order if str(l).lower() not in ('en','und')] + (['und'] if 'und' in lang_order else [])\n",
    "\n",
    "for lc in lang_order:\n",
    "    mask = (df['lang'] == lc) & (df['transcript'].str.strip() != \"\") & (df['transcript_en'].str.strip() == \"\")\n",
    "    idxs = df.index[mask].tolist()\n",
    "    if not idxs:\n",
    "        continue\n",
    "\n",
    "    texts = df.loc[idxs, 'transcript'].tolist()\n",
    "    translated = []\n",
    "    for i in tqdm(range(0, len(texts), BATCH_SIZE), desc=f\"{lc}->en (batch)\"):\n",
    "        chunk = texts[i:i+BATCH_SIZE]\n",
    "        out = translate_batch_google(chunk, lc)\n",
    "\n",
    "        fixed = []\n",
    "        for orig, got in zip(chunk, out):\n",
    "            if (not got.strip()) or (got.strip() == orig.strip() and not quick_ascii_english(orig)):\n",
    "                fixed.append(translate_item_fallback(orig, lc))\n",
    "            else:\n",
    "                fixed.append(got)\n",
    "        translated.extend(fixed)\n",
    "\n",
    "    df.loc[idxs, 'transcript_en'] = translated\n",
    "\n",
    "need_fix = (df['transcript_en'].str.strip() == \"\")\n",
    "if need_fix.any():\n",
    "    print(f\"Rescue pass on {need_fix.sum()} rows…\")\n",
    "    for idx in tqdm(df.index[need_fix], desc=\"rescue\"):\n",
    "        src = df.at[idx, 'lang']\n",
    "        txt = df.at[idx, 'transcript']\n",
    "        df.at[idx, 'transcript_en'] = translate_item_fallback(txt, src)\n",
    "\n",
    "df['transcript_en'] = df['transcript_en'].fillna(\"\")\n",
    "\n",
    "# Drop the 'lang' column\n",
    "if 'lang' in df.columns:\n",
    "    df = df.drop(columns=['lang'])\n",
    "\n",
    "try:\n",
    "    df.to_csv(OUT_CSV, index=False, encoding='utf-8')\n",
    "    print(\"✅ Saved:\", OUT_CSV)\n",
    "except Exception as e:\n",
    "    print(f\"❌ Save error: {e}\")\n",
    "    raise\n",
    "\n",
    "cols = ['video_id_clean' if 'video_id_clean' in df.columns else ('video_id' if 'video_id' in df.columns else df.columns[0]),\n",
    "        'transcript','transcript_en'] # Updated columns for head\n",
    "print(\"\\nHead:\")\n",
    "print(df[cols].head(3))\n",
    "print(\"\\nDone.\")"
   ]
  },
  {
   "cell_type": "markdown",
   "id": "75981945",
   "metadata": {},
   "source": [
    "# ▶️ Part 5: **Merge All Files.ipynb**"
   ]
  },
  {
   "cell_type": "markdown",
   "id": "293dc869b51ffa06",
   "metadata": {
    "id": "sqzadyeeqI9d"
   },
   "source": [
    "#For transcript"
   ]
  },
  {
   "cell_type": "code",
   "execution_count": null,
   "id": "1b0964ce715c5554",
   "metadata": {
    "colab": {
     "base_uri": "https://localhost:8080/",
     "height": 411
    },
    "executionInfo": {
     "elapsed": 1015,
     "status": "ok",
     "timestamp": 1760494781942,
     "user": {
      "displayName": "KHEMMANAT KIATTIKULPIMOL",
      "userId": "06448714020354424233"
     },
     "user_tz": -420
    },
    "id": "dcrTq1zRoxMX",
    "outputId": "a4bae0ec-f182-47fc-874c-1d19f31e80d2"
   },
   "outputs": [
    {
     "name": "stdout",
     "output_type": "stream",
     "text": [
      "Successfully merged 4 files into /content/drive/MyDrive/Final EGBI222 Group Project/transcript.csv\n"
     ]
    },
    {
     "data": {
      "application/vnd.google.colaboratory.intrinsic+json": {
       "summary": "{\n  \"name\": \"    display(merged_df\",\n  \"rows\": 5,\n  \"fields\": [\n    {\n      \"column\": \"video_id_clean\",\n      \"properties\": {\n        \"dtype\": \"string\",\n        \"num_unique_values\": 5,\n        \"samples\": [\n          \"F1bP-wz3zlo\",\n          \"F2AX-bRQbZk\",\n          \"F1qh-INMZF0\"\n        ],\n        \"semantic_type\": \"\",\n        \"description\": \"\"\n      }\n    },\n    {\n      \"column\": \"title\",\n      \"properties\": {\n        \"dtype\": \"string\",\n        \"num_unique_values\": 5,\n        \"samples\": [\n          \"Liquid Soul - Cachoeira Alta Festival (3)\",\n          \"Gabby and TiTi's Piano Session\",\n          \"SUNP0052 dominoes7video\"\n        ],\n        \"semantic_type\": \"\",\n        \"description\": \"\"\n      }\n    },\n    {\n      \"column\": \"description\",\n      \"properties\": {\n        \"dtype\": \"string\",\n        \"num_unique_values\": 4,\n        \"samples\": [\n          \"Liquid Soul live playing \\\"Liquid Soul - The Reason\\\" at Cachoeira Alta Festival, 2008.\",\n          \"Gabby playing the piano with my little sister. Neither one has had formal training. My little sister is playing a song my dad created and Gabby just joined in freestyling. :-)\",\n          \"First Aid Kit performing at the Newport Folk Festival in summer 2012. Don't forget to comment. The video is kind of messed up because I filmed it on an iPhone and it was shaking, but thanks for watching, guys.\"\n        ],\n        \"semantic_type\": \"\",\n        \"description\": \"\"\n      }\n    },\n    {\n      \"column\": \"transcript\",\n      \"properties\": {\n        \"dtype\": \"string\",\n        \"num_unique_values\": 5,\n        \"samples\": [\n          \"Liquid Soul - Cachoeira Alta Festival (3) Liquid Soul live playing \\\"Liquid Soul - The Reason\\\" at Cachoeira Alta Festival, 2008.\",\n          \"Gabby and TiTi's Piano Session Gabby playing the piano with my little sister. Neither one has had formal training. My little sister is playing a song my dad created and Gabby just joined in freestyling. :-)\",\n          \"SUNP0052 dominoes7video\"\n        ],\n        \"semantic_type\": \"\",\n        \"description\": \"\"\n      }\n    },\n    {\n      \"column\": \"lang_guess\",\n      \"properties\": {\n        \"dtype\": \"category\",\n        \"num_unique_values\": 1,\n        \"samples\": [\n          \"unknown\"\n        ],\n        \"semantic_type\": \"\",\n        \"description\": \"\"\n      }\n    },\n    {\n      \"column\": \"source\",\n      \"properties\": {\n        \"dtype\": \"category\",\n        \"num_unique_values\": 1,\n        \"samples\": [\n          \"no_caption\"\n        ],\n        \"semantic_type\": \"\",\n        \"description\": \"\"\n      }\n    }\n  ]\n}",
       "type": "dataframe"
      },
      "text/html": [
       "\n",
       "  <div id=\"df-91d3f560-ca7f-4707-8b82-02a1ab324f36\" class=\"colab-df-container\">\n",
       "    <div>\n",
       "<style scoped>\n",
       "    .dataframe tbody tr th:only-of-type {\n",
       "        vertical-align: middle;\n",
       "    }\n",
       "\n",
       "    .dataframe tbody tr th {\n",
       "        vertical-align: top;\n",
       "    }\n",
       "\n",
       "    .dataframe thead th {\n",
       "        text-align: right;\n",
       "    }\n",
       "</style>\n",
       "<table border=\"1\" class=\"dataframe\">\n",
       "  <thead>\n",
       "    <tr style=\"text-align: right;\">\n",
       "      <th></th>\n",
       "      <th>video_id_clean</th>\n",
       "      <th>title</th>\n",
       "      <th>description</th>\n",
       "      <th>transcript</th>\n",
       "      <th>lang_guess</th>\n",
       "      <th>source</th>\n",
       "    </tr>\n",
       "  </thead>\n",
       "  <tbody>\n",
       "    <tr>\n",
       "      <th>0</th>\n",
       "      <td>F0t2-GlCMBk</td>\n",
       "      <td>First Aid Kit performing</td>\n",
       "      <td>First Aid Kit performing at the Newport Folk F...</td>\n",
       "      <td>First Aid Kit performing First Aid Kit perform...</td>\n",
       "      <td>unknown</td>\n",
       "      <td>no_caption</td>\n",
       "    </tr>\n",
       "    <tr>\n",
       "      <th>1</th>\n",
       "      <td>F1bP-wz3zlo</td>\n",
       "      <td>Liquid Soul - Cachoeira Alta Festival (3)</td>\n",
       "      <td>Liquid Soul live playing \"Liquid Soul - The Re...</td>\n",
       "      <td>Liquid Soul - Cachoeira Alta Festival (3) Liqu...</td>\n",
       "      <td>unknown</td>\n",
       "      <td>no_caption</td>\n",
       "    </tr>\n",
       "    <tr>\n",
       "      <th>2</th>\n",
       "      <td>F1qh-INMZF0</td>\n",
       "      <td>SUNP0052 dominoes7video</td>\n",
       "      <td>NaN</td>\n",
       "      <td>SUNP0052 dominoes7video</td>\n",
       "      <td>unknown</td>\n",
       "      <td>no_caption</td>\n",
       "    </tr>\n",
       "    <tr>\n",
       "      <th>3</th>\n",
       "      <td>F29Y-dhk7DI</td>\n",
       "      <td>Rock Island Grand Prix King of the Streets 201...</td>\n",
       "      <td>Ride along with Connor Wagner on his SRS power...</td>\n",
       "      <td>Rock Island Grand Prix King of the Streets 201...</td>\n",
       "      <td>unknown</td>\n",
       "      <td>no_caption</td>\n",
       "    </tr>\n",
       "    <tr>\n",
       "      <th>4</th>\n",
       "      <td>F2AX-bRQbZk</td>\n",
       "      <td>Gabby and TiTi's Piano Session</td>\n",
       "      <td>Gabby playing the piano with my little sister....</td>\n",
       "      <td>Gabby and TiTi's Piano Session Gabby playing t...</td>\n",
       "      <td>unknown</td>\n",
       "      <td>no_caption</td>\n",
       "    </tr>\n",
       "  </tbody>\n",
       "</table>\n",
       "</div>\n",
       "    <div class=\"colab-df-buttons\">\n",
       "\n",
       "  <div class=\"colab-df-container\">\n",
       "    <button class=\"colab-df-convert\" onclick=\"convertToInteractive('df-91d3f560-ca7f-4707-8b82-02a1ab324f36')\"\n",
       "            title=\"Convert this dataframe to an interactive table.\"\n",
       "            style=\"display:none;\">\n",
       "\n",
       "  <svg xmlns=\"http://www.w3.org/2000/svg\" height=\"24px\" viewBox=\"0 -960 960 960\">\n",
       "    <path d=\"M120-120v-720h720v720H120Zm60-500h600v-160H180v160Zm220 220h160v-160H400v160Zm0 220h160v-160H400v160ZM180-400h160v-160H180v160Zm440 0h160v-160H620v160ZM180-180h160v-160H180v160Zm440 0h160v-160H620v160Z\"/>\n",
       "  </svg>\n",
       "    </button>\n",
       "\n",
       "  <style>\n",
       "    .colab-df-container {\n",
       "      display:flex;\n",
       "      gap: 12px;\n",
       "    }\n",
       "\n",
       "    .colab-df-convert {\n",
       "      background-color: #E8F0FE;\n",
       "      border: none;\n",
       "      border-radius: 50%;\n",
       "      cursor: pointer;\n",
       "      display: none;\n",
       "      fill: #1967D2;\n",
       "      height: 32px;\n",
       "      padding: 0 0 0 0;\n",
       "      width: 32px;\n",
       "    }\n",
       "\n",
       "    .colab-df-convert:hover {\n",
       "      background-color: #E2EBFA;\n",
       "      box-shadow: 0px 1px 2px rgba(60, 64, 67, 0.3), 0px 1px 3px 1px rgba(60, 64, 67, 0.15);\n",
       "      fill: #174EA6;\n",
       "    }\n",
       "\n",
       "    .colab-df-buttons div {\n",
       "      margin-bottom: 4px;\n",
       "    }\n",
       "\n",
       "    [theme=dark] .colab-df-convert {\n",
       "      background-color: #3B4455;\n",
       "      fill: #D2E3FC;\n",
       "    }\n",
       "\n",
       "    [theme=dark] .colab-df-convert:hover {\n",
       "      background-color: #434B5C;\n",
       "      box-shadow: 0px 1px 3px 1px rgba(0, 0, 0, 0.15);\n",
       "      filter: drop-shadow(0px 1px 2px rgba(0, 0, 0, 0.3));\n",
       "      fill: #FFFFFF;\n",
       "    }\n",
       "  </style>\n",
       "\n",
       "    <script>\n",
       "      const buttonEl =\n",
       "        document.querySelector('#df-91d3f560-ca7f-4707-8b82-02a1ab324f36 button.colab-df-convert');\n",
       "      buttonEl.style.display =\n",
       "        google.colab.kernel.accessAllowed ? 'block' : 'none';\n",
       "\n",
       "      async function convertToInteractive(key) {\n",
       "        const element = document.querySelector('#df-91d3f560-ca7f-4707-8b82-02a1ab324f36');\n",
       "        const dataTable =\n",
       "          await google.colab.kernel.invokeFunction('convertToInteractive',\n",
       "                                                    [key], {});\n",
       "        if (!dataTable) return;\n",
       "\n",
       "        const docLinkHtml = 'Like what you see? Visit the ' +\n",
       "          '<a target=\"_blank\" href=https://colab.research.google.com/notebooks/data_table.ipynb>data table notebook</a>'\n",
       "          + ' to learn more about interactive tables.';\n",
       "        element.innerHTML = '';\n",
       "        dataTable['output_type'] = 'display_data';\n",
       "        await google.colab.output.renderOutput(dataTable, element);\n",
       "        const docLink = document.createElement('div');\n",
       "        docLink.innerHTML = docLinkHtml;\n",
       "        element.appendChild(docLink);\n",
       "      }\n",
       "    </script>\n",
       "  </div>\n",
       "\n",
       "\n",
       "    <div id=\"df-421ff1eb-e5d1-440a-b860-8eacc82a293a\">\n",
       "      <button class=\"colab-df-quickchart\" onclick=\"quickchart('df-421ff1eb-e5d1-440a-b860-8eacc82a293a')\"\n",
       "                title=\"Suggest charts\"\n",
       "                style=\"display:none;\">\n",
       "\n",
       "<svg xmlns=\"http://www.w3.org/2000/svg\" height=\"24px\"viewBox=\"0 0 24 24\"\n",
       "     width=\"24px\">\n",
       "    <g>\n",
       "        <path d=\"M19 3H5c-1.1 0-2 .9-2 2v14c0 1.1.9 2 2 2h14c1.1 0 2-.9 2-2V5c0-1.1-.9-2-2-2zM9 17H7v-7h2v7zm4 0h-2V7h2v10zm4 0h-2v-4h2v4z\"/>\n",
       "    </g>\n",
       "</svg>\n",
       "      </button>\n",
       "\n",
       "<style>\n",
       "  .colab-df-quickchart {\n",
       "      --bg-color: #E8F0FE;\n",
       "      --fill-color: #1967D2;\n",
       "      --hover-bg-color: #E2EBFA;\n",
       "      --hover-fill-color: #174EA6;\n",
       "      --disabled-fill-color: #AAA;\n",
       "      --disabled-bg-color: #DDD;\n",
       "  }\n",
       "\n",
       "  [theme=dark] .colab-df-quickchart {\n",
       "      --bg-color: #3B4455;\n",
       "      --fill-color: #D2E3FC;\n",
       "      --hover-bg-color: #434B5C;\n",
       "      --hover-fill-color: #FFFFFF;\n",
       "      --disabled-bg-color: #3B4455;\n",
       "      --disabled-fill-color: #666;\n",
       "  }\n",
       "\n",
       "  .colab-df-quickchart {\n",
       "    background-color: var(--bg-color);\n",
       "    border: none;\n",
       "    border-radius: 50%;\n",
       "    cursor: pointer;\n",
       "    display: none;\n",
       "    fill: var(--fill-color);\n",
       "    height: 32px;\n",
       "    padding: 0;\n",
       "    width: 32px;\n",
       "  }\n",
       "\n",
       "  .colab-df-quickchart:hover {\n",
       "    background-color: var(--hover-bg-color);\n",
       "    box-shadow: 0 1px 2px rgba(60, 64, 67, 0.3), 0 1px 3px 1px rgba(60, 64, 67, 0.15);\n",
       "    fill: var(--button-hover-fill-color);\n",
       "  }\n",
       "\n",
       "  .colab-df-quickchart-complete:disabled,\n",
       "  .colab-df-quickchart-complete:disabled:hover {\n",
       "    background-color: var(--disabled-bg-color);\n",
       "    fill: var(--disabled-fill-color);\n",
       "    box-shadow: none;\n",
       "  }\n",
       "\n",
       "  .colab-df-spinner {\n",
       "    border: 2px solid var(--fill-color);\n",
       "    border-color: transparent;\n",
       "    border-bottom-color: var(--fill-color);\n",
       "    animation:\n",
       "      spin 1s steps(1) infinite;\n",
       "  }\n",
       "\n",
       "  @keyframes spin {\n",
       "    0% {\n",
       "      border-color: transparent;\n",
       "      border-bottom-color: var(--fill-color);\n",
       "      border-left-color: var(--fill-color);\n",
       "    }\n",
       "    20% {\n",
       "      border-color: transparent;\n",
       "      border-left-color: var(--fill-color);\n",
       "      border-top-color: var(--fill-color);\n",
       "    }\n",
       "    30% {\n",
       "      border-color: transparent;\n",
       "      border-left-color: var(--fill-color);\n",
       "      border-top-color: var(--fill-color);\n",
       "      border-right-color: var(--fill-color);\n",
       "    }\n",
       "    40% {\n",
       "      border-color: transparent;\n",
       "      border-right-color: var(--fill-color);\n",
       "      border-top-color: var(--fill-color);\n",
       "    }\n",
       "    60% {\n",
       "      border-color: transparent;\n",
       "      border-right-color: var(--fill-color);\n",
       "    }\n",
       "    80% {\n",
       "      border-color: transparent;\n",
       "      border-right-color: var(--fill-color);\n",
       "      border-bottom-color: var(--fill-color);\n",
       "    }\n",
       "    90% {\n",
       "      border-color: transparent;\n",
       "      border-bottom-color: var(--fill-color);\n",
       "    }\n",
       "  }\n",
       "</style>\n",
       "\n",
       "      <script>\n",
       "        async function quickchart(key) {\n",
       "          const quickchartButtonEl =\n",
       "            document.querySelector('#' + key + ' button');\n",
       "          quickchartButtonEl.disabled = true;  // To prevent multiple clicks.\n",
       "          quickchartButtonEl.classList.add('colab-df-spinner');\n",
       "          try {\n",
       "            const charts = await google.colab.kernel.invokeFunction(\n",
       "                'suggestCharts', [key], {});\n",
       "          } catch (error) {\n",
       "            console.error('Error during call to suggestCharts:', error);\n",
       "          }\n",
       "          quickchartButtonEl.classList.remove('colab-df-spinner');\n",
       "          quickchartButtonEl.classList.add('colab-df-quickchart-complete');\n",
       "        }\n",
       "        (() => {\n",
       "          let quickchartButtonEl =\n",
       "            document.querySelector('#df-421ff1eb-e5d1-440a-b860-8eacc82a293a button');\n",
       "          quickchartButtonEl.style.display =\n",
       "            google.colab.kernel.accessAllowed ? 'block' : 'none';\n",
       "        })();\n",
       "      </script>\n",
       "    </div>\n",
       "\n",
       "    </div>\n",
       "  </div>\n"
      ],
      "text/plain": [
       "  video_id_clean                                              title  \\\n",
       "0    F0t2-GlCMBk                           First Aid Kit performing   \n",
       "1    F1bP-wz3zlo          Liquid Soul - Cachoeira Alta Festival (3)   \n",
       "2    F1qh-INMZF0                            SUNP0052 dominoes7video   \n",
       "3    F29Y-dhk7DI  Rock Island Grand Prix King of the Streets 201...   \n",
       "4    F2AX-bRQbZk                     Gabby and TiTi's Piano Session   \n",
       "\n",
       "                                         description  \\\n",
       "0  First Aid Kit performing at the Newport Folk F...   \n",
       "1  Liquid Soul live playing \"Liquid Soul - The Re...   \n",
       "2                                                NaN   \n",
       "3  Ride along with Connor Wagner on his SRS power...   \n",
       "4  Gabby playing the piano with my little sister....   \n",
       "\n",
       "                                          transcript lang_guess      source  \n",
       "0  First Aid Kit performing First Aid Kit perform...    unknown  no_caption  \n",
       "1  Liquid Soul - Cachoeira Alta Festival (3) Liqu...    unknown  no_caption  \n",
       "2                            SUNP0052 dominoes7video    unknown  no_caption  \n",
       "3  Rock Island Grand Prix King of the Streets 201...    unknown  no_caption  \n",
       "4  Gabby and TiTi's Piano Session Gabby playing t...    unknown  no_caption  "
      ]
     },
     "metadata": {},
     "output_type": "display_data"
    }
   ],
   "source": [
    "import glob\n",
    "import pandas as pd\n",
    "import os\n",
    "\n",
    "BASE = \"/content/drive/MyDrive/Final EGBI222 Group Project\"\n",
    "CHUNK = f\"{BASE}/chunks\"\n",
    "\n",
    "files_to_merge = glob.glob(f\"{CHUNK}/*.csv\")\n",
    "\n",
    "if not files_to_merge:\n",
    "    print(f\"No CSV files found in {CHUNK} to merge.\")\n",
    "else:\n",
    "    merged_df = pd.concat([pd.read_csv(f) for f in files_to_merge])\n",
    "\n",
    "    merged_file_path = f\"{BASE}/transcript.csv\"\n",
    "\n",
    "    merged_df.to_csv(merged_file_path, index=False)\n",
    "\n",
    "    print(f\"Successfully merged {len(files_to_merge)} files into {merged_file_path}\")\n",
    "    display(merged_df.head())"
   ]
  },
  {
   "cell_type": "markdown",
   "id": "3e1498872df9fb7d",
   "metadata": {
    "id": "QTSHn2tZqLRS"
   },
   "source": [
    "# For transcript_en"
   ]
  },
  {
   "cell_type": "code",
   "execution_count": null,
   "id": "b41a08efd377ec35",
   "metadata": {
    "colab": {
     "base_uri": "https://localhost:8080/",
     "height": 513
    },
    "executionInfo": {
     "elapsed": 2487,
     "status": "ok",
     "timestamp": 1760504072192,
     "user": {
      "displayName": "KHEMMANAT KIATTIKULPIMOL",
      "userId": "06448714020354424233"
     },
     "user_tz": -420
    },
    "id": "d4CClP-Ivmxt",
    "outputId": "aa7bfb10-ae45-45cf-8541-836f6c55c80c"
   },
   "outputs": [
    {
     "name": "stdout",
     "output_type": "stream",
     "text": [
      "Successfully merged 4 files into /content/drive/MyDrive/Final EGBI222 Group Project/transcript_en.csv\n"
     ]
    },
    {
     "data": {
      "application/vnd.google.colaboratory.intrinsic+json": {
       "summary": "{\n  \"name\": \"    display(merged_df\",\n  \"rows\": 5,\n  \"fields\": [\n    {\n      \"column\": \"video_id_clean\",\n      \"properties\": {\n        \"dtype\": \"string\",\n        \"num_unique_values\": 5,\n        \"samples\": [\n          \"V1PL-pRby8k\",\n          \"V1of-yMOzg4\",\n          \"V1QS-6UxrDs\"\n        ],\n        \"semantic_type\": \"\",\n        \"description\": \"\"\n      }\n    },\n    {\n      \"column\": \"title\",\n      \"properties\": {\n        \"dtype\": \"string\",\n        \"num_unique_values\": 5,\n        \"samples\": [\n          \"HeliRideNYC\",\n          \"Mat\\u00e9ria sobre o racismo\",\n          \"Roman-miniramp.MP4\"\n        ],\n        \"semantic_type\": \"\",\n        \"description\": \"\"\n      }\n    },\n    {\n      \"column\": \"description\",\n      \"properties\": {\n        \"dtype\": \"string\",\n        \"num_unique_values\": 5,\n        \"samples\": [\n          \"Helicopter overflight Manhattan at sunset. Helic\\u00f3ptero sobrevoa Manhattan no p\\u00f4r-do-sol.\",\n          \"Faz parte do quadro das primeiras mat\\u00e9rias feitas por mim na TV Cultura de Montenegro. Nesta meu av\\u00f4 Artelino foi um dos entrevistados.\",\n          \" \"\n        ],\n        \"semantic_type\": \"\",\n        \"description\": \"\"\n      }\n    },\n    {\n      \"column\": \"transcript\",\n      \"properties\": {\n        \"dtype\": \"string\",\n        \"num_unique_values\": 5,\n        \"samples\": [\n          \"HeliRideNYC Helicopter overflight Manhattan at sunset. Helic\\u00f3ptero sobrevoa Manhattan no p\\u00f4r-do-sol.\",\n          \"Mat\\u00e9ria sobre o racismo Faz parte do quadro das primeiras mat\\u00e9rias feitas por mim na TV Cultura de Montenegro. Nesta meu av\\u00f4 Artelino foi um dos entrevistados.\",\n          \"Roman-miniramp.MP4\"\n        ],\n        \"semantic_type\": \"\",\n        \"description\": \"\"\n      }\n    },\n    {\n      \"column\": \"lang_guess\",\n      \"properties\": {\n        \"dtype\": \"category\",\n        \"num_unique_values\": 1,\n        \"samples\": [\n          \"unknown\"\n        ],\n        \"semantic_type\": \"\",\n        \"description\": \"\"\n      }\n    },\n    {\n      \"column\": \"source\",\n      \"properties\": {\n        \"dtype\": \"category\",\n        \"num_unique_values\": 1,\n        \"samples\": [\n          \"no_caption\"\n        ],\n        \"semantic_type\": \"\",\n        \"description\": \"\"\n      }\n    },\n    {\n      \"column\": \"transcript_en\",\n      \"properties\": {\n        \"dtype\": \"string\",\n        \"num_unique_values\": 5,\n        \"samples\": [\n          \"HeliRideNYC Helicopter overflight Manhattan at sunset. Helic\\u00f3ptero sobrevoa Manhattan no p\\u00f4r-do-sol.\"\n        ],\n        \"semantic_type\": \"\",\n        \"description\": \"\"\n      }\n    }\n  ]\n}",
       "type": "dataframe"
      },
      "text/html": [
       "\n",
       "  <div id=\"df-af857efa-1be6-495a-a38f-dbc7c3653fa0\" class=\"colab-df-container\">\n",
       "    <div>\n",
       "<style scoped>\n",
       "    .dataframe tbody tr th:only-of-type {\n",
       "        vertical-align: middle;\n",
       "    }\n",
       "\n",
       "    .dataframe tbody tr th {\n",
       "        vertical-align: top;\n",
       "    }\n",
       "\n",
       "    .dataframe thead th {\n",
       "        text-align: right;\n",
       "    }\n",
       "</style>\n",
       "<table border=\"1\" class=\"dataframe\">\n",
       "  <thead>\n",
       "    <tr style=\"text-align: right;\">\n",
       "      <th></th>\n",
       "      <th>video_id_clean</th>\n",
       "      <th>title</th>\n",
       "      <th>description</th>\n",
       "      <th>transcript</th>\n",
       "      <th>lang_guess</th>\n",
       "      <th>source</th>\n",
       "      <th>transcript_en</th>\n",
       "    </tr>\n",
       "  </thead>\n",
       "  <tbody>\n",
       "    <tr>\n",
       "      <th>0</th>\n",
       "      <td>V1KZ-BqeJGE</td>\n",
       "      <td>Jonas Brothers \"Inseparable\" 7/25/13</td>\n",
       "      <td>Jonas brothers live tour July 25, 2013 Holmdel...</td>\n",
       "      <td>Jonas Brothers \"Inseparable\" 7/25/13 Jonas bro...</td>\n",
       "      <td>unknown</td>\n",
       "      <td>no_caption</td>\n",
       "      <td>Jonas Brothers \"Inseparable\" 7/25/13 Jonas bro...</td>\n",
       "    </tr>\n",
       "    <tr>\n",
       "      <th>1</th>\n",
       "      <td>V1PL-pRby8k</td>\n",
       "      <td>HeliRideNYC</td>\n",
       "      <td>Helicopter overflight Manhattan at sunset. Hel...</td>\n",
       "      <td>HeliRideNYC Helicopter overflight Manhattan at...</td>\n",
       "      <td>unknown</td>\n",
       "      <td>no_caption</td>\n",
       "      <td>HeliRideNYC Helicopter overflight Manhattan at...</td>\n",
       "    </tr>\n",
       "    <tr>\n",
       "      <th>2</th>\n",
       "      <td>V1QS-6UxrDs</td>\n",
       "      <td>Roman-miniramp.MP4</td>\n",
       "      <td></td>\n",
       "      <td>Roman-miniramp.MP4</td>\n",
       "      <td>unknown</td>\n",
       "      <td>no_caption</td>\n",
       "      <td>Roman-miniramp.MP4</td>\n",
       "    </tr>\n",
       "    <tr>\n",
       "      <th>3</th>\n",
       "      <td>V1TG-9bI2-U</td>\n",
       "      <td>Chant &amp;&amp; Danni</td>\n",
       "      <td>Dani On Cam Just Being Kinda Random Lol</td>\n",
       "      <td>Chant &amp;&amp; Danni Dani On Cam Just Being Kinda Ra...</td>\n",
       "      <td>unknown</td>\n",
       "      <td>no_caption</td>\n",
       "      <td>Chant &amp;&amp; Danni Dani On Cam Just Being Kinda Ra...</td>\n",
       "    </tr>\n",
       "    <tr>\n",
       "      <th>4</th>\n",
       "      <td>V1of-yMOzg4</td>\n",
       "      <td>Matéria sobre o racismo</td>\n",
       "      <td>Faz parte do quadro das primeiras matérias fei...</td>\n",
       "      <td>Matéria sobre o racismo Faz parte do quadro da...</td>\n",
       "      <td>unknown</td>\n",
       "      <td>no_caption</td>\n",
       "      <td>Article about racism It is part of the first a...</td>\n",
       "    </tr>\n",
       "  </tbody>\n",
       "</table>\n",
       "</div>\n",
       "    <div class=\"colab-df-buttons\">\n",
       "\n",
       "  <div class=\"colab-df-container\">\n",
       "    <button class=\"colab-df-convert\" onclick=\"convertToInteractive('df-af857efa-1be6-495a-a38f-dbc7c3653fa0')\"\n",
       "            title=\"Convert this dataframe to an interactive table.\"\n",
       "            style=\"display:none;\">\n",
       "\n",
       "  <svg xmlns=\"http://www.w3.org/2000/svg\" height=\"24px\" viewBox=\"0 -960 960 960\">\n",
       "    <path d=\"M120-120v-720h720v720H120Zm60-500h600v-160H180v160Zm220 220h160v-160H400v160Zm0 220h160v-160H400v160ZM180-400h160v-160H180v160Zm440 0h160v-160H620v160ZM180-180h160v-160H180v160Zm440 0h160v-160H620v160Z\"/>\n",
       "  </svg>\n",
       "    </button>\n",
       "\n",
       "  <style>\n",
       "    .colab-df-container {\n",
       "      display:flex;\n",
       "      gap: 12px;\n",
       "    }\n",
       "\n",
       "    .colab-df-convert {\n",
       "      background-color: #E8F0FE;\n",
       "      border: none;\n",
       "      border-radius: 50%;\n",
       "      cursor: pointer;\n",
       "      display: none;\n",
       "      fill: #1967D2;\n",
       "      height: 32px;\n",
       "      padding: 0 0 0 0;\n",
       "      width: 32px;\n",
       "    }\n",
       "\n",
       "    .colab-df-convert:hover {\n",
       "      background-color: #E2EBFA;\n",
       "      box-shadow: 0px 1px 2px rgba(60, 64, 67, 0.3), 0px 1px 3px 1px rgba(60, 64, 67, 0.15);\n",
       "      fill: #174EA6;\n",
       "    }\n",
       "\n",
       "    .colab-df-buttons div {\n",
       "      margin-bottom: 4px;\n",
       "    }\n",
       "\n",
       "    [theme=dark] .colab-df-convert {\n",
       "      background-color: #3B4455;\n",
       "      fill: #D2E3FC;\n",
       "    }\n",
       "\n",
       "    [theme=dark] .colab-df-convert:hover {\n",
       "      background-color: #434B5C;\n",
       "      box-shadow: 0px 1px 3px 1px rgba(0, 0, 0, 0.15);\n",
       "      filter: drop-shadow(0px 1px 2px rgba(0, 0, 0, 0.3));\n",
       "      fill: #FFFFFF;\n",
       "    }\n",
       "  </style>\n",
       "\n",
       "    <script>\n",
       "      const buttonEl =\n",
       "        document.querySelector('#df-af857efa-1be6-495a-a38f-dbc7c3653fa0 button.colab-df-convert');\n",
       "      buttonEl.style.display =\n",
       "        google.colab.kernel.accessAllowed ? 'block' : 'none';\n",
       "\n",
       "      async function convertToInteractive(key) {\n",
       "        const element = document.querySelector('#df-af857efa-1be6-495a-a38f-dbc7c3653fa0');\n",
       "        const dataTable =\n",
       "          await google.colab.kernel.invokeFunction('convertToInteractive',\n",
       "                                                    [key], {});\n",
       "        if (!dataTable) return;\n",
       "\n",
       "        const docLinkHtml = 'Like what you see? Visit the ' +\n",
       "          '<a target=\"_blank\" href=https://colab.research.google.com/notebooks/data_table.ipynb>data table notebook</a>'\n",
       "          + ' to learn more about interactive tables.';\n",
       "        element.innerHTML = '';\n",
       "        dataTable['output_type'] = 'display_data';\n",
       "        await google.colab.output.renderOutput(dataTable, element);\n",
       "        const docLink = document.createElement('div');\n",
       "        docLink.innerHTML = docLinkHtml;\n",
       "        element.appendChild(docLink);\n",
       "      }\n",
       "    </script>\n",
       "  </div>\n",
       "\n",
       "\n",
       "    <div id=\"df-519c5e25-a8e8-4194-939a-cca6ee919078\">\n",
       "      <button class=\"colab-df-quickchart\" onclick=\"quickchart('df-519c5e25-a8e8-4194-939a-cca6ee919078')\"\n",
       "                title=\"Suggest charts\"\n",
       "                style=\"display:none;\">\n",
       "\n",
       "<svg xmlns=\"http://www.w3.org/2000/svg\" height=\"24px\"viewBox=\"0 0 24 24\"\n",
       "     width=\"24px\">\n",
       "    <g>\n",
       "        <path d=\"M19 3H5c-1.1 0-2 .9-2 2v14c0 1.1.9 2 2 2h14c1.1 0 2-.9 2-2V5c0-1.1-.9-2-2-2zM9 17H7v-7h2v7zm4 0h-2V7h2v10zm4 0h-2v-4h2v4z\"/>\n",
       "    </g>\n",
       "</svg>\n",
       "      </button>\n",
       "\n",
       "<style>\n",
       "  .colab-df-quickchart {\n",
       "      --bg-color: #E8F0FE;\n",
       "      --fill-color: #1967D2;\n",
       "      --hover-bg-color: #E2EBFA;\n",
       "      --hover-fill-color: #174EA6;\n",
       "      --disabled-fill-color: #AAA;\n",
       "      --disabled-bg-color: #DDD;\n",
       "  }\n",
       "\n",
       "  [theme=dark] .colab-df-quickchart {\n",
       "      --bg-color: #3B4455;\n",
       "      --fill-color: #D2E3FC;\n",
       "      --hover-bg-color: #434B5C;\n",
       "      --hover-fill-color: #FFFFFF;\n",
       "      --disabled-bg-color: #3B4455;\n",
       "      --disabled-fill-color: #666;\n",
       "  }\n",
       "\n",
       "  .colab-df-quickchart {\n",
       "    background-color: var(--bg-color);\n",
       "    border: none;\n",
       "    border-radius: 50%;\n",
       "    cursor: pointer;\n",
       "    display: none;\n",
       "    fill: var(--fill-color);\n",
       "    height: 32px;\n",
       "    padding: 0;\n",
       "    width: 32px;\n",
       "  }\n",
       "\n",
       "  .colab-df-quickchart:hover {\n",
       "    background-color: var(--hover-bg-color);\n",
       "    box-shadow: 0 1px 2px rgba(60, 64, 67, 0.3), 0 1px 3px 1px rgba(60, 64, 67, 0.15);\n",
       "    fill: var(--button-hover-fill-color);\n",
       "  }\n",
       "\n",
       "  .colab-df-quickchart-complete:disabled,\n",
       "  .colab-df-quickchart-complete:disabled:hover {\n",
       "    background-color: var(--disabled-bg-color);\n",
       "    fill: var(--disabled-fill-color);\n",
       "    box-shadow: none;\n",
       "  }\n",
       "\n",
       "  .colab-df-spinner {\n",
       "    border: 2px solid var(--fill-color);\n",
       "    border-color: transparent;\n",
       "    border-bottom-color: var(--fill-color);\n",
       "    animation:\n",
       "      spin 1s steps(1) infinite;\n",
       "  }\n",
       "\n",
       "  @keyframes spin {\n",
       "    0% {\n",
       "      border-color: transparent;\n",
       "      border-bottom-color: var(--fill-color);\n",
       "      border-left-color: var(--fill-color);\n",
       "    }\n",
       "    20% {\n",
       "      border-color: transparent;\n",
       "      border-left-color: var(--fill-color);\n",
       "      border-top-color: var(--fill-color);\n",
       "    }\n",
       "    30% {\n",
       "      border-color: transparent;\n",
       "      border-left-color: var(--fill-color);\n",
       "      border-top-color: var(--fill-color);\n",
       "      border-right-color: var(--fill-color);\n",
       "    }\n",
       "    40% {\n",
       "      border-color: transparent;\n",
       "      border-right-color: var(--fill-color);\n",
       "      border-top-color: var(--fill-color);\n",
       "    }\n",
       "    60% {\n",
       "      border-color: transparent;\n",
       "      border-right-color: var(--fill-color);\n",
       "    }\n",
       "    80% {\n",
       "      border-color: transparent;\n",
       "      border-right-color: var(--fill-color);\n",
       "      border-bottom-color: var(--fill-color);\n",
       "    }\n",
       "    90% {\n",
       "      border-color: transparent;\n",
       "      border-bottom-color: var(--fill-color);\n",
       "    }\n",
       "  }\n",
       "</style>\n",
       "\n",
       "      <script>\n",
       "        async function quickchart(key) {\n",
       "          const quickchartButtonEl =\n",
       "            document.querySelector('#' + key + ' button');\n",
       "          quickchartButtonEl.disabled = true;  // To prevent multiple clicks.\n",
       "          quickchartButtonEl.classList.add('colab-df-spinner');\n",
       "          try {\n",
       "            const charts = await google.colab.kernel.invokeFunction(\n",
       "                'suggestCharts', [key], {});\n",
       "          } catch (error) {\n",
       "            console.error('Error during call to suggestCharts:', error);\n",
       "          }\n",
       "          quickchartButtonEl.classList.remove('colab-df-spinner');\n",
       "          quickchartButtonEl.classList.add('colab-df-quickchart-complete');\n",
       "        }\n",
       "        (() => {\n",
       "          let quickchartButtonEl =\n",
       "            document.querySelector('#df-519c5e25-a8e8-4194-939a-cca6ee919078 button');\n",
       "          quickchartButtonEl.style.display =\n",
       "            google.colab.kernel.accessAllowed ? 'block' : 'none';\n",
       "        })();\n",
       "      </script>\n",
       "    </div>\n",
       "\n",
       "    </div>\n",
       "  </div>\n"
      ],
      "text/plain": [
       "  video_id_clean                                 title  \\\n",
       "0    V1KZ-BqeJGE  Jonas Brothers \"Inseparable\" 7/25/13   \n",
       "1    V1PL-pRby8k                           HeliRideNYC   \n",
       "2    V1QS-6UxrDs                    Roman-miniramp.MP4   \n",
       "3    V1TG-9bI2-U                        Chant && Danni   \n",
       "4    V1of-yMOzg4               Matéria sobre o racismo   \n",
       "\n",
       "                                         description  \\\n",
       "0  Jonas brothers live tour July 25, 2013 Holmdel...   \n",
       "1  Helicopter overflight Manhattan at sunset. Hel...   \n",
       "2                                                      \n",
       "3            Dani On Cam Just Being Kinda Random Lol   \n",
       "4  Faz parte do quadro das primeiras matérias fei...   \n",
       "\n",
       "                                          transcript lang_guess      source  \\\n",
       "0  Jonas Brothers \"Inseparable\" 7/25/13 Jonas bro...    unknown  no_caption   \n",
       "1  HeliRideNYC Helicopter overflight Manhattan at...    unknown  no_caption   \n",
       "2                                 Roman-miniramp.MP4    unknown  no_caption   \n",
       "3  Chant && Danni Dani On Cam Just Being Kinda Ra...    unknown  no_caption   \n",
       "4  Matéria sobre o racismo Faz parte do quadro da...    unknown  no_caption   \n",
       "\n",
       "                                       transcript_en  \n",
       "0  Jonas Brothers \"Inseparable\" 7/25/13 Jonas bro...  \n",
       "1  HeliRideNYC Helicopter overflight Manhattan at...  \n",
       "2                                 Roman-miniramp.MP4  \n",
       "3  Chant && Danni Dani On Cam Just Being Kinda Ra...  \n",
       "4  Article about racism It is part of the first a...  "
      ]
     },
     "metadata": {},
     "output_type": "display_data"
    }
   ],
   "source": [
    "import glob\n",
    "import pandas as pd\n",
    "import os\n",
    "\n",
    "BASE = \"/content/drive/MyDrive/Final EGBI222 Group Project\"\n",
    "CHUNK = f\"{BASE}/chunk2\" # Changed from \"chunks\"\n",
    "\n",
    "files_to_merge = glob.glob(f\"{CHUNK}/*.csv\")\n",
    "\n",
    "if not files_to_merge:\n",
    "    print(f\"No CSV files found in {CHUNK} to merge.\")\n",
    "else:\n",
    "    merged_df = pd.concat([pd.read_csv(f) for f in files_to_merge])\n",
    "\n",
    "\n",
    "    merged_file_path = f\"{BASE}/transcript_en.csv\" # Changed from \"transcript.csv\"\n",
    "\n",
    "    merged_df.to_csv(merged_file_path, index=False)\n",
    "\n",
    "    print(f\"Successfully merged {len(files_to_merge)} files into {merged_file_path}\")\n",
    "    display(merged_df.head())"
   ]
  },
  {
   "cell_type": "markdown",
   "id": "693830cf",
   "metadata": {},
   "source": [
    "# ▶️ Part 6: **Bag-of-Word and Catagory.ipynb**"
   ]
  },
  {
   "cell_type": "markdown",
   "id": "7f19318acfa156ed",
   "metadata": {
    "id": "frvwGdZH361X"
   },
   "source": [
    "# Bag-of-Word Model"
   ]
  },
  {
   "cell_type": "code",
   "execution_count": null,
   "id": "22bc784ee1596c02",
   "metadata": {
    "colab": {
     "base_uri": "https://localhost:8080/",
     "height": 581
    },
    "executionInfo": {
     "elapsed": 61435,
     "status": "ok",
     "timestamp": 1760525604585,
     "user": {
      "displayName": "KHEMMANAT KIATTIKULPIMOL",
      "userId": "06448714020354424233"
     },
     "user_tz": -420
    },
    "id": "O0M7OXdQtnHq",
    "outputId": "376c6f8c-22e4-41ce-9a9f-be76bc4f6637"
   },
   "outputs": [
    {
     "name": "stdout",
     "output_type": "stream",
     "text": [
      "Mounted at /content/drive\n"
     ]
    },
    {
     "data": {
      "application/vnd.google.colaboratory.intrinsic+json": {
       "summary": "{\n  \"name\": \"display(df_with_transcripts\",\n  \"rows\": 5,\n  \"fields\": [\n    {\n      \"column\": \"video_id\",\n      \"properties\": {\n        \"dtype\": \"string\",\n        \"num_unique_values\": 5,\n        \"samples\": [\n          \"--cCAD-8Y_U\",\n          \"-0Fkp-2EzX0\",\n          \"--g2gG8pQ0w\"\n        ],\n        \"semantic_type\": \"\",\n        \"description\": \"\"\n      }\n    },\n    {\n      \"column\": \"duration\",\n      \"properties\": {\n        \"dtype\": \"number\",\n        \"std\": 310,\n        \"min\": 180,\n        \"max\": 930,\n        \"num_unique_values\": 5,\n        \"samples\": [\n          930,\n          300,\n          233\n        ],\n        \"semantic_type\": \"\",\n        \"description\": \"\"\n      }\n    },\n    {\n      \"column\": \"bitrate\",\n      \"properties\": {\n        \"dtype\": \"number\",\n        \"std\": 2069,\n        \"min\": 431,\n        \"max\": 5777,\n        \"num_unique_values\": 5,\n        \"samples\": [\n          1195,\n          3087,\n          3028\n        ],\n        \"semantic_type\": \"\",\n        \"description\": \"\"\n      }\n    },\n    {\n      \"column\": \"bitrate(video)\",\n      \"properties\": {\n        \"dtype\": \"number\",\n        \"std\": 2075,\n        \"min\": 300,\n        \"max\": 5640,\n        \"num_unique_values\": 5,\n        \"samples\": [\n          1001,\n          2929,\n          2833\n        ],\n        \"semantic_type\": \"\",\n        \"description\": \"\"\n      }\n    },\n    {\n      \"column\": \"height\",\n      \"properties\": {\n        \"dtype\": \"number\",\n        \"std\": 572,\n        \"min\": 320,\n        \"max\": 1920,\n        \"num_unique_values\": 3,\n        \"samples\": [\n          1920,\n          1280,\n          320\n        ],\n        \"semantic_type\": \"\",\n        \"description\": \"\"\n      }\n    },\n    {\n      \"column\": \"width\",\n      \"properties\": {\n        \"dtype\": \"number\",\n        \"std\": 298,\n        \"min\": 240,\n        \"max\": 1080,\n        \"num_unique_values\": 3,\n        \"samples\": [\n          1080,\n          720,\n          240\n        ],\n        \"semantic_type\": \"\",\n        \"description\": \"\"\n      }\n    },\n    {\n      \"column\": \"frame rate\",\n      \"properties\": {\n        \"dtype\": \"number\",\n        \"std\": 3.130683631413433,\n        \"min\": 23.98,\n        \"max\": 30.0,\n        \"num_unique_values\": 4,\n        \"samples\": [\n          30.0,\n          29.97,\n          25.0\n        ],\n        \"semantic_type\": \"\",\n        \"description\": \"\"\n      }\n    },\n    {\n      \"column\": \"frame rate(est.)\",\n      \"properties\": {\n        \"dtype\": \"number\",\n        \"std\": 11.77846000120559,\n        \"min\": 0.0,\n        \"max\": 30.0,\n        \"num_unique_values\": 4,\n        \"samples\": [\n          30.0,\n          0.0,\n          25.0\n        ],\n        \"semantic_type\": \"\",\n        \"description\": \"\"\n      }\n    },\n    {\n      \"column\": \"codec\",\n      \"properties\": {\n        \"dtype\": \"category\",\n        \"num_unique_values\": 1,\n        \"samples\": [\n          \"h264\"\n        ],\n        \"semantic_type\": \"\",\n        \"description\": \"\"\n      }\n    },\n    {\n      \"column\": \"category\",\n      \"properties\": {\n        \"dtype\": \"string\",\n        \"num_unique_values\": 4,\n        \"samples\": [\n          \"Gaming\"\n        ],\n        \"semantic_type\": \"\",\n        \"description\": \"\"\n      }\n    },\n    {\n      \"column\": \"url\",\n      \"properties\": {\n        \"dtype\": \"string\",\n        \"num_unique_values\": 5,\n        \"samples\": [\n          \"https://www.youtube.com/watch?v=--cCAD-8Y_U\"\n        ],\n        \"semantic_type\": \"\",\n        \"description\": \"\"\n      }\n    },\n    {\n      \"column\": \"title\",\n      \"properties\": {\n        \"dtype\": \"string\",\n        \"num_unique_values\": 5,\n        \"samples\": [\n          \"Pokemon Tower Defense   Episodio 2\"\n        ],\n        \"semantic_type\": \"\",\n        \"description\": \"\"\n      }\n    },\n    {\n      \"column\": \"description\",\n      \"properties\": {\n        \"dtype\": \"string\",\n        \"num_unique_values\": 5,\n        \"samples\": [\n          \"Espero que tenham gostado do video!\"\n        ],\n        \"semantic_type\": \"\",\n        \"description\": \"\"\n      }\n    },\n    {\n      \"column\": \"hashtags\",\n      \"properties\": {\n        \"dtype\": \"string\",\n        \"num_unique_values\": 5,\n        \"samples\": [\n          \"Pok\\u00e9mon (Anime/Manga Franchise), Pok\\u00e9mon (Video Game Series), Pok\\u00e9mon (TV Program), Tower Defense (Media Genre), Television Program (Award Discipline)\"\n        ],\n        \"semantic_type\": \"\",\n        \"description\": \"\"\n      }\n    },\n    {\n      \"column\": \"views\",\n      \"properties\": {\n        \"dtype\": \"number\",\n        \"std\": 5693,\n        \"min\": 33,\n        \"max\": 13227,\n        \"num_unique_values\": 5,\n        \"samples\": [\n          33\n        ],\n        \"semantic_type\": \"\",\n        \"description\": \"\"\n      }\n    },\n    {\n      \"column\": \"likes\",\n      \"properties\": {\n        \"dtype\": \"number\",\n        \"std\": 57,\n        \"min\": 1,\n        \"max\": 135,\n        \"num_unique_values\": 4,\n        \"samples\": [\n          2\n        ],\n        \"semantic_type\": \"\",\n        \"description\": \"\"\n      }\n    },\n    {\n      \"column\": \"comments\",\n      \"properties\": {\n        \"dtype\": \"number\",\n        \"std\": 7,\n        \"min\": 0,\n        \"max\": 17,\n        \"num_unique_values\": 4,\n        \"samples\": [\n          1\n        ],\n        \"semantic_type\": \"\",\n        \"description\": \"\"\n      }\n    }\n  ]\n}",
       "type": "dataframe"
      },
      "text/html": [
       "\n",
       "  <div id=\"df-be952701-c3bb-45bb-89c6-0b0129c64f48\" class=\"colab-df-container\">\n",
       "    <div>\n",
       "<style scoped>\n",
       "    .dataframe tbody tr th:only-of-type {\n",
       "        vertical-align: middle;\n",
       "    }\n",
       "\n",
       "    .dataframe tbody tr th {\n",
       "        vertical-align: top;\n",
       "    }\n",
       "\n",
       "    .dataframe thead th {\n",
       "        text-align: right;\n",
       "    }\n",
       "</style>\n",
       "<table border=\"1\" class=\"dataframe\">\n",
       "  <thead>\n",
       "    <tr style=\"text-align: right;\">\n",
       "      <th></th>\n",
       "      <th>video_id</th>\n",
       "      <th>duration</th>\n",
       "      <th>bitrate</th>\n",
       "      <th>bitrate(video)</th>\n",
       "      <th>height</th>\n",
       "      <th>width</th>\n",
       "      <th>frame rate</th>\n",
       "      <th>frame rate(est.)</th>\n",
       "      <th>codec</th>\n",
       "      <th>category</th>\n",
       "      <th>url</th>\n",
       "      <th>title</th>\n",
       "      <th>description</th>\n",
       "      <th>hashtags</th>\n",
       "      <th>views</th>\n",
       "      <th>likes</th>\n",
       "      <th>comments</th>\n",
       "    </tr>\n",
       "  </thead>\n",
       "  <tbody>\n",
       "    <tr>\n",
       "      <th>0</th>\n",
       "      <td>--F7dc-_FSI</td>\n",
       "      <td>180</td>\n",
       "      <td>5777</td>\n",
       "      <td>5640</td>\n",
       "      <td>1920</td>\n",
       "      <td>1080</td>\n",
       "      <td>25.00</td>\n",
       "      <td>25.00</td>\n",
       "      <td>h264</td>\n",
       "      <td>News &amp; Politics</td>\n",
       "      <td>https://www.youtube.com/watch?v=--F7dc-_FSI</td>\n",
       "      <td>«السودان ينتفض» أمام السفارة بالقاهرة</td>\n",
       "      <td>حرية سلام وعدالة، الثورة خيار الشعب.. بهذا اله...</td>\n",
       "      <td>في, عسكري, حكم, حرية, بخصوص, المصري اليوم, الس...</td>\n",
       "      <td>4078</td>\n",
       "      <td>41</td>\n",
       "      <td>3</td>\n",
       "    </tr>\n",
       "    <tr>\n",
       "      <th>1</th>\n",
       "      <td>--cCAD-8Y_U</td>\n",
       "      <td>930</td>\n",
       "      <td>1195</td>\n",
       "      <td>1001</td>\n",
       "      <td>1280</td>\n",
       "      <td>720</td>\n",
       "      <td>30.00</td>\n",
       "      <td>30.00</td>\n",
       "      <td>h264</td>\n",
       "      <td>Gaming</td>\n",
       "      <td>https://www.youtube.com/watch?v=--cCAD-8Y_U</td>\n",
       "      <td>Pokemon Tower Defense   Episodio 2</td>\n",
       "      <td>Espero que tenham gostado do video!</td>\n",
       "      <td>Pokémon (Anime/Manga Franchise), Pokémon (Vide...</td>\n",
       "      <td>33</td>\n",
       "      <td>2</td>\n",
       "      <td>1</td>\n",
       "    </tr>\n",
       "    <tr>\n",
       "      <th>2</th>\n",
       "      <td>--g2gG8pQ0w</td>\n",
       "      <td>233</td>\n",
       "      <td>3028</td>\n",
       "      <td>2833</td>\n",
       "      <td>1280</td>\n",
       "      <td>720</td>\n",
       "      <td>23.98</td>\n",
       "      <td>23.98</td>\n",
       "      <td>h264</td>\n",
       "      <td>Comedy</td>\n",
       "      <td>https://www.youtube.com/watch?v=--g2gG8pQ0w</td>\n",
       "      <td>New Hip Hop - Kemo Treats - Pancakes</td>\n",
       "      <td>Download all our music for FREE just enter $0....</td>\n",
       "      <td>breaking bad spoof, Recipes, Pancakes, canada,...</td>\n",
       "      <td>13227</td>\n",
       "      <td>135</td>\n",
       "      <td>17</td>\n",
       "    </tr>\n",
       "    <tr>\n",
       "      <th>3</th>\n",
       "      <td>-0DR7-voRCU</td>\n",
       "      <td>562</td>\n",
       "      <td>431</td>\n",
       "      <td>300</td>\n",
       "      <td>320</td>\n",
       "      <td>240</td>\n",
       "      <td>29.97</td>\n",
       "      <td>0.00</td>\n",
       "      <td>h264</td>\n",
       "      <td>People &amp; Blogs</td>\n",
       "      <td>https://www.youtube.com/watch?v=-0DR7-voRCU</td>\n",
       "      <td>Sister's Keeper Impression</td>\n",
       "      <td>A Review of the Shampoo Bar(Sunburst) and Dip ...</td>\n",
       "      <td>natural hair, first impression, sister's keepe...</td>\n",
       "      <td>43</td>\n",
       "      <td>1</td>\n",
       "      <td>0</td>\n",
       "    </tr>\n",
       "    <tr>\n",
       "      <th>4</th>\n",
       "      <td>-0Fkp-2EzX0</td>\n",
       "      <td>300</td>\n",
       "      <td>3087</td>\n",
       "      <td>2929</td>\n",
       "      <td>1280</td>\n",
       "      <td>720</td>\n",
       "      <td>23.98</td>\n",
       "      <td>23.98</td>\n",
       "      <td>h264</td>\n",
       "      <td>Gaming</td>\n",
       "      <td>https://www.youtube.com/watch?v=-0Fkp-2EzX0</td>\n",
       "      <td>JBHAMMER777 (AKUMA) VS KtossPol  Rank 1 (Vega)...</td>\n",
       "      <td>JBHAMMER777 is he strong enough to fight again...</td>\n",
       "      <td>Tokido, momochi, (Ryu), AE, 11, at, Piyoppia, ...</td>\n",
       "      <td>222</td>\n",
       "      <td>2</td>\n",
       "      <td>0</td>\n",
       "    </tr>\n",
       "  </tbody>\n",
       "</table>\n",
       "</div>\n",
       "    <div class=\"colab-df-buttons\">\n",
       "\n",
       "  <div class=\"colab-df-container\">\n",
       "    <button class=\"colab-df-convert\" onclick=\"convertToInteractive('df-be952701-c3bb-45bb-89c6-0b0129c64f48')\"\n",
       "            title=\"Convert this dataframe to an interactive table.\"\n",
       "            style=\"display:none;\">\n",
       "\n",
       "  <svg xmlns=\"http://www.w3.org/2000/svg\" height=\"24px\" viewBox=\"0 -960 960 960\">\n",
       "    <path d=\"M120-120v-720h720v720H120Zm60-500h600v-160H180v160Zm220 220h160v-160H400v160Zm0 220h160v-160H400v160ZM180-400h160v-160H180v160Zm440 0h160v-160H620v160ZM180-180h160v-160H180v160Zm440 0h160v-160H620v160Z\"/>\n",
       "  </svg>\n",
       "    </button>\n",
       "\n",
       "  <style>\n",
       "    .colab-df-container {\n",
       "      display:flex;\n",
       "      gap: 12px;\n",
       "    }\n",
       "\n",
       "    .colab-df-convert {\n",
       "      background-color: #E8F0FE;\n",
       "      border: none;\n",
       "      border-radius: 50%;\n",
       "      cursor: pointer;\n",
       "      display: none;\n",
       "      fill: #1967D2;\n",
       "      height: 32px;\n",
       "      padding: 0 0 0 0;\n",
       "      width: 32px;\n",
       "    }\n",
       "\n",
       "    .colab-df-convert:hover {\n",
       "      background-color: #E2EBFA;\n",
       "      box-shadow: 0px 1px 2px rgba(60, 64, 67, 0.3), 0px 1px 3px 1px rgba(60, 64, 67, 0.15);\n",
       "      fill: #174EA6;\n",
       "    }\n",
       "\n",
       "    .colab-df-buttons div {\n",
       "      margin-bottom: 4px;\n",
       "    }\n",
       "\n",
       "    [theme=dark] .colab-df-convert {\n",
       "      background-color: #3B4455;\n",
       "      fill: #D2E3FC;\n",
       "    }\n",
       "\n",
       "    [theme=dark] .colab-df-convert:hover {\n",
       "      background-color: #434B5C;\n",
       "      box-shadow: 0px 1px 3px 1px rgba(0, 0, 0, 0.15);\n",
       "      filter: drop-shadow(0px 1px 2px rgba(0, 0, 0, 0.3));\n",
       "      fill: #FFFFFF;\n",
       "    }\n",
       "  </style>\n",
       "\n",
       "    <script>\n",
       "      const buttonEl =\n",
       "        document.querySelector('#df-be952701-c3bb-45bb-89c6-0b0129c64f48 button.colab-df-convert');\n",
       "      buttonEl.style.display =\n",
       "        google.colab.kernel.accessAllowed ? 'block' : 'none';\n",
       "\n",
       "      async function convertToInteractive(key) {\n",
       "        const element = document.querySelector('#df-be952701-c3bb-45bb-89c6-0b0129c64f48');\n",
       "        const dataTable =\n",
       "          await google.colab.kernel.invokeFunction('convertToInteractive',\n",
       "                                                    [key], {});\n",
       "        if (!dataTable) return;\n",
       "\n",
       "        const docLinkHtml = 'Like what you see? Visit the ' +\n",
       "          '<a target=\"_blank\" href=https://colab.research.google.com/notebooks/data_table.ipynb>data table notebook</a>'\n",
       "          + ' to learn more about interactive tables.';\n",
       "        element.innerHTML = '';\n",
       "        dataTable['output_type'] = 'display_data';\n",
       "        await google.colab.output.renderOutput(dataTable, element);\n",
       "        const docLink = document.createElement('div');\n",
       "        docLink.innerHTML = docLinkHtml;\n",
       "        element.appendChild(docLink);\n",
       "      }\n",
       "    </script>\n",
       "  </div>\n",
       "\n",
       "\n",
       "    <div id=\"df-ce065eb5-f8f3-4965-96d3-b8c06c15787c\">\n",
       "      <button class=\"colab-df-quickchart\" onclick=\"quickchart('df-ce065eb5-f8f3-4965-96d3-b8c06c15787c')\"\n",
       "                title=\"Suggest charts\"\n",
       "                style=\"display:none;\">\n",
       "\n",
       "<svg xmlns=\"http://www.w3.org/2000/svg\" height=\"24px\"viewBox=\"0 0 24 24\"\n",
       "     width=\"24px\">\n",
       "    <g>\n",
       "        <path d=\"M19 3H5c-1.1 0-2 .9-2 2v14c0 1.1.9 2 2 2h14c1.1 0 2-.9 2-2V5c0-1.1-.9-2-2-2zM9 17H7v-7h2v7zm4 0h-2V7h2v10zm4 0h-2v-4h2v4z\"/>\n",
       "    </g>\n",
       "</svg>\n",
       "      </button>\n",
       "\n",
       "<style>\n",
       "  .colab-df-quickchart {\n",
       "      --bg-color: #E8F0FE;\n",
       "      --fill-color: #1967D2;\n",
       "      --hover-bg-color: #E2EBFA;\n",
       "      --hover-fill-color: #174EA6;\n",
       "      --disabled-fill-color: #AAA;\n",
       "      --disabled-bg-color: #DDD;\n",
       "  }\n",
       "\n",
       "  [theme=dark] .colab-df-quickchart {\n",
       "      --bg-color: #3B4455;\n",
       "      --fill-color: #D2E3FC;\n",
       "      --hover-bg-color: #434B5C;\n",
       "      --hover-fill-color: #FFFFFF;\n",
       "      --disabled-bg-color: #3B4455;\n",
       "      --disabled-fill-color: #666;\n",
       "  }\n",
       "\n",
       "  .colab-df-quickchart {\n",
       "    background-color: var(--bg-color);\n",
       "    border: none;\n",
       "    border-radius: 50%;\n",
       "    cursor: pointer;\n",
       "    display: none;\n",
       "    fill: var(--fill-color);\n",
       "    height: 32px;\n",
       "    padding: 0;\n",
       "    width: 32px;\n",
       "  }\n",
       "\n",
       "  .colab-df-quickchart:hover {\n",
       "    background-color: var(--hover-bg-color);\n",
       "    box-shadow: 0 1px 2px rgba(60, 64, 67, 0.3), 0 1px 3px 1px rgba(60, 64, 67, 0.15);\n",
       "    fill: var(--button-hover-fill-color);\n",
       "  }\n",
       "\n",
       "  .colab-df-quickchart-complete:disabled,\n",
       "  .colab-df-quickchart-complete:disabled:hover {\n",
       "    background-color: var(--disabled-bg-color);\n",
       "    fill: var(--disabled-fill-color);\n",
       "    box-shadow: none;\n",
       "  }\n",
       "\n",
       "  .colab-df-spinner {\n",
       "    border: 2px solid var(--fill-color);\n",
       "    border-color: transparent;\n",
       "    border-bottom-color: var(--fill-color);\n",
       "    animation:\n",
       "      spin 1s steps(1) infinite;\n",
       "  }\n",
       "\n",
       "  @keyframes spin {\n",
       "    0% {\n",
       "      border-color: transparent;\n",
       "      border-bottom-color: var(--fill-color);\n",
       "      border-left-color: var(--fill-color);\n",
       "    }\n",
       "    20% {\n",
       "      border-color: transparent;\n",
       "      border-left-color: var(--fill-color);\n",
       "      border-top-color: var(--fill-color);\n",
       "    }\n",
       "    30% {\n",
       "      border-color: transparent;\n",
       "      border-left-color: var(--fill-color);\n",
       "      border-top-color: var(--fill-color);\n",
       "      border-right-color: var(--fill-color);\n",
       "    }\n",
       "    40% {\n",
       "      border-color: transparent;\n",
       "      border-right-color: var(--fill-color);\n",
       "      border-top-color: var(--fill-color);\n",
       "    }\n",
       "    60% {\n",
       "      border-color: transparent;\n",
       "      border-right-color: var(--fill-color);\n",
       "    }\n",
       "    80% {\n",
       "      border-color: transparent;\n",
       "      border-right-color: var(--fill-color);\n",
       "      border-bottom-color: var(--fill-color);\n",
       "    }\n",
       "    90% {\n",
       "      border-color: transparent;\n",
       "      border-bottom-color: var(--fill-color);\n",
       "    }\n",
       "  }\n",
       "</style>\n",
       "\n",
       "      <script>\n",
       "        async function quickchart(key) {\n",
       "          const quickchartButtonEl =\n",
       "            document.querySelector('#' + key + ' button');\n",
       "          quickchartButtonEl.disabled = true;  // To prevent multiple clicks.\n",
       "          quickchartButtonEl.classList.add('colab-df-spinner');\n",
       "          try {\n",
       "            const charts = await google.colab.kernel.invokeFunction(\n",
       "                'suggestCharts', [key], {});\n",
       "          } catch (error) {\n",
       "            console.error('Error during call to suggestCharts:', error);\n",
       "          }\n",
       "          quickchartButtonEl.classList.remove('colab-df-spinner');\n",
       "          quickchartButtonEl.classList.add('colab-df-quickchart-complete');\n",
       "        }\n",
       "        (() => {\n",
       "          let quickchartButtonEl =\n",
       "            document.querySelector('#df-ce065eb5-f8f3-4965-96d3-b8c06c15787c button');\n",
       "          quickchartButtonEl.style.display =\n",
       "            google.colab.kernel.accessAllowed ? 'block' : 'none';\n",
       "        })();\n",
       "      </script>\n",
       "    </div>\n",
       "\n",
       "    </div>\n",
       "  </div>\n"
      ],
      "text/plain": [
       "      video_id  duration  bitrate  bitrate(video)  height  width  frame rate  \\\n",
       "0  --F7dc-_FSI       180     5777            5640    1920   1080       25.00   \n",
       "1  --cCAD-8Y_U       930     1195            1001    1280    720       30.00   \n",
       "2  --g2gG8pQ0w       233     3028            2833    1280    720       23.98   \n",
       "3  -0DR7-voRCU       562      431             300     320    240       29.97   \n",
       "4  -0Fkp-2EzX0       300     3087            2929    1280    720       23.98   \n",
       "\n",
       "   frame rate(est.) codec         category  \\\n",
       "0             25.00  h264  News & Politics   \n",
       "1             30.00  h264           Gaming   \n",
       "2             23.98  h264           Comedy   \n",
       "3              0.00  h264   People & Blogs   \n",
       "4             23.98  h264           Gaming   \n",
       "\n",
       "                                           url  \\\n",
       "0  https://www.youtube.com/watch?v=--F7dc-_FSI   \n",
       "1  https://www.youtube.com/watch?v=--cCAD-8Y_U   \n",
       "2  https://www.youtube.com/watch?v=--g2gG8pQ0w   \n",
       "3  https://www.youtube.com/watch?v=-0DR7-voRCU   \n",
       "4  https://www.youtube.com/watch?v=-0Fkp-2EzX0   \n",
       "\n",
       "                                               title  \\\n",
       "0              «السودان ينتفض» أمام السفارة بالقاهرة   \n",
       "1                 Pokemon Tower Defense   Episodio 2   \n",
       "2               New Hip Hop - Kemo Treats - Pancakes   \n",
       "3                         Sister's Keeper Impression   \n",
       "4  JBHAMMER777 (AKUMA) VS KtossPol  Rank 1 (Vega)...   \n",
       "\n",
       "                                         description  \\\n",
       "0  حرية سلام وعدالة، الثورة خيار الشعب.. بهذا اله...   \n",
       "1                Espero que tenham gostado do video!   \n",
       "2  Download all our music for FREE just enter $0....   \n",
       "3  A Review of the Shampoo Bar(Sunburst) and Dip ...   \n",
       "4  JBHAMMER777 is he strong enough to fight again...   \n",
       "\n",
       "                                            hashtags  views  likes  comments  \n",
       "0  في, عسكري, حكم, حرية, بخصوص, المصري اليوم, الس...   4078     41         3  \n",
       "1  Pokémon (Anime/Manga Franchise), Pokémon (Vide...     33      2         1  \n",
       "2  breaking bad spoof, Recipes, Pancakes, canada,...  13227    135        17  \n",
       "3  natural hair, first impression, sister's keepe...     43      1         0  \n",
       "4  Tokido, momochi, (Ryu), AE, 11, at, Piyoppia, ...    222      2         0  "
      ]
     },
     "metadata": {},
     "output_type": "display_data"
    }
   ],
   "source": [
    "import pandas as pd\n",
    "from google.colab import drive\n",
    "drive.mount('/content/drive')\n",
    "\n",
    "df_with_transcripts = pd.read_csv('/content/drive/MyDrive/Final EGBI222 Group Project/youtube_data.csv')\n",
    "display(df_with_transcripts.head())"
   ]
  },
  {
   "cell_type": "code",
   "execution_count": null,
   "id": "da5d69d3aee9a2ee",
   "metadata": {
    "colab": {
     "base_uri": "https://localhost:8080/"
    },
    "executionInfo": {
     "elapsed": 2572,
     "status": "ok",
     "timestamp": 1760525614069,
     "user": {
      "displayName": "KHEMMANAT KIATTIKULPIMOL",
      "userId": "06448714020354424233"
     },
     "user_tz": -420
    },
    "id": "4mkreDAq3aLh",
    "outputId": "3dc1274f-5869-4449-fa19-bf3498927906"
   },
   "outputs": [
    {
     "name": "stdout",
     "output_type": "stream",
     "text": [
      "Performing stratified split with test size 3517\n",
      "Accuracy: 1.0\n",
      "                      precision    recall  f1-score   support\n",
      "\n",
      "    Autos & Vehicles       1.00      1.00      1.00       160\n",
      "              Comedy       1.00      1.00      1.00       235\n",
      "           Education       1.00      1.00      1.00       129\n",
      "       Entertainment       1.00      1.00      1.00       450\n",
      "    Film & Animation       1.00      1.00      1.00       117\n",
      "              Gaming       1.00      1.00      1.00       284\n",
      "       Howto & Style       1.00      1.00      1.00        68\n",
      "               Music       1.00      1.00      1.00       593\n",
      "     News & Politics       1.00      1.00      1.00       127\n",
      "Nonprofits & Activis       1.00      1.00      1.00        45\n",
      "      People & Blogs       1.00      1.00      1.00       789\n",
      "      Pets & Animals       1.00      1.00      1.00        95\n",
      "Science & Technology       1.00      1.00      1.00        57\n",
      "               Shows       1.00      1.00      1.00         4\n",
      "              Sports       1.00      1.00      1.00       246\n",
      "     Travel & Events       1.00      1.00      1.00       118\n",
      "\n",
      "            accuracy                           1.00      3517\n",
      "           macro avg       1.00      1.00      1.00      3517\n",
      "        weighted avg       1.00      1.00      1.00      3517\n",
      "\n"
     ]
    }
   ],
   "source": [
    "from sklearn.feature_extraction.text import CountVectorizer\n",
    "from sklearn.model_selection import train_test_split\n",
    "from sklearn.naive_bayes import MultinomialNB\n",
    "from sklearn.metrics import accuracy_score, classification_report\n",
    "import numpy as np\n",
    "\n",
    "label_col = 'category' if 'category' in df_with_transcripts.columns else (\n",
    "    'category_id' if 'category_id' in df_with_transcripts.columns else None)\n",
    "if label_col is None:\n",
    "    raise ValueError(\"No label column found. Need 'category' or 'category_id'.\")\n",
    "\n",
    "data = df_with_transcripts.dropna(subset=[label_col]).copy()\n",
    "X_text = data[label_col].astype(str) # Changed to use label_col for X_text\n",
    "y = data[label_col].astype(str)\n",
    "\n",
    "if len(data) < 2 or len(y.unique()) < 1:\n",
    "    print(\"Not enough data or categories to train the model after dropping NaNs.\")\n",
    "else:\n",
    "    vectorizer = CountVectorizer(stop_words='english', max_features=20000, ngram_range=(1,2))\n",
    "    X = vectorizer.fit_transform(X_text) # X will be based on label_col content now\n",
    "\n",
    "    n_samples = len(data)\n",
    "    n_classes = len(y.unique())\n",
    "    test_size = 0.2\n",
    "\n",
    "    required_test_size_for_stratification = n_classes\n",
    "\n",
    "    actual_test_size = int(np.floor(n_samples * test_size))\n",
    "\n",
    "    if actual_test_size == 0 and n_samples > 1:\n",
    "        actual_test_size = 1\n",
    "\n",
    "    can_stratify = actual_test_size >= required_test_size_for_stratification and (n_samples - actual_test_size) >= required_test_size_for_stratification\n",
    "\n",
    "    if n_samples > 1 and n_classes > 1 and actual_test_size > 0 and (n_samples - actual_test_size) > 0:\n",
    "        if can_stratify:\n",
    "            print(f\"Performing stratified split with test size {actual_test_size}\")\n",
    "            X_tr, X_te, y_tr, y_te = train_test_split(X, y, test_size=actual_test_size, random_state=42, stratify=y)\n",
    "        else:\n",
    "            print(f\"Performing non-stratified split with test size {actual_test_size} (not enough data/classes for stratification)\")\n",
    "            X_tr, X_te, y_tr, y_te = train_test_split(X, y, test_size=actual_test_size, random_state=42)\n",
    "\n",
    "        clf = MultinomialNB()\n",
    "        clf.fit(X_tr, y_tr)\n",
    "        y_pred = clf.predict(X_te)\n",
    "\n",
    "        print(\"Accuracy:\", round(accuracy_score(y_te, y_pred), 4))\n",
    "\n",
    "        print(classification_report(y_te, y_pred, zero_division=0))\n",
    "    else:\n",
    "         print(\"Not enough data for a valid train/test split after considering minimum requirements.\")"
   ]
  },
  {
   "cell_type": "markdown",
   "id": "247b3d8a8e0f0d00",
   "metadata": {
    "id": "_T8zoLts4JI9"
   },
   "source": [
    "# Catagory"
   ]
  },
  {
   "cell_type": "code",
   "execution_count": null,
   "id": "06b77a0464edc403",
   "metadata": {
    "colab": {
     "base_uri": "https://localhost:8080/",
     "height": 562
    },
    "executionInfo": {
     "elapsed": 627,
     "status": "ok",
     "timestamp": 1760525618589,
     "user": {
      "displayName": "KHEMMANAT KIATTIKULPIMOL",
      "userId": "06448714020354424233"
     },
     "user_tz": -420
    },
    "id": "NjcqS0gs4PgO",
    "outputId": "84724397-7111-4e14-f213-31bcd96abf3c"
   },
   "outputs": [
    {
     "name": "stdout",
     "output_type": "stream",
     "text": [
      "Number of unique categories: 16\n"
     ]
    },
    {
     "data": {
      "application/vnd.google.colaboratory.intrinsic+json": {
       "summary": "{\n  \"name\": \"category_counts\",\n  \"rows\": 16,\n  \"fields\": [\n    {\n      \"column\": \"category\",\n      \"properties\": {\n        \"dtype\": \"string\",\n        \"num_unique_values\": 16,\n        \"samples\": [\n          \"People & Blogs\",\n          \"Music\",\n          \"Comedy\"\n        ],\n        \"semantic_type\": \"\",\n        \"description\": \"\"\n      }\n    },\n    {\n      \"column\": \"Count\",\n      \"properties\": {\n        \"dtype\": \"number\",\n        \"std\": 1084,\n        \"min\": 18,\n        \"max\": 3946,\n        \"num_unique_values\": 16,\n        \"samples\": [\n          3946,\n          2966,\n          1176\n        ],\n        \"semantic_type\": \"\",\n        \"description\": \"\"\n      }\n    }\n  ]\n}",
       "type": "dataframe",
       "variable_name": "category_counts"
      },
      "text/html": [
       "\n",
       "  <div id=\"df-d89faade-a7c3-4a94-8dcd-af8907c13f36\" class=\"colab-df-container\">\n",
       "    <div>\n",
       "<style scoped>\n",
       "    .dataframe tbody tr th:only-of-type {\n",
       "        vertical-align: middle;\n",
       "    }\n",
       "\n",
       "    .dataframe tbody tr th {\n",
       "        vertical-align: top;\n",
       "    }\n",
       "\n",
       "    .dataframe thead th {\n",
       "        text-align: right;\n",
       "    }\n",
       "</style>\n",
       "<table border=\"1\" class=\"dataframe\">\n",
       "  <thead>\n",
       "    <tr style=\"text-align: right;\">\n",
       "      <th></th>\n",
       "      <th>category</th>\n",
       "      <th>Count</th>\n",
       "    </tr>\n",
       "  </thead>\n",
       "  <tbody>\n",
       "    <tr>\n",
       "      <th>0</th>\n",
       "      <td>People &amp; Blogs</td>\n",
       "      <td>3946</td>\n",
       "    </tr>\n",
       "    <tr>\n",
       "      <th>1</th>\n",
       "      <td>Music</td>\n",
       "      <td>2966</td>\n",
       "    </tr>\n",
       "    <tr>\n",
       "      <th>2</th>\n",
       "      <td>Entertainment</td>\n",
       "      <td>2252</td>\n",
       "    </tr>\n",
       "    <tr>\n",
       "      <th>3</th>\n",
       "      <td>Gaming</td>\n",
       "      <td>1420</td>\n",
       "    </tr>\n",
       "    <tr>\n",
       "      <th>4</th>\n",
       "      <td>Sports</td>\n",
       "      <td>1230</td>\n",
       "    </tr>\n",
       "    <tr>\n",
       "      <th>5</th>\n",
       "      <td>Comedy</td>\n",
       "      <td>1176</td>\n",
       "    </tr>\n",
       "    <tr>\n",
       "      <th>6</th>\n",
       "      <td>Autos &amp; Vehicles</td>\n",
       "      <td>798</td>\n",
       "    </tr>\n",
       "    <tr>\n",
       "      <th>7</th>\n",
       "      <td>Education</td>\n",
       "      <td>644</td>\n",
       "    </tr>\n",
       "    <tr>\n",
       "      <th>8</th>\n",
       "      <td>News &amp; Politics</td>\n",
       "      <td>636</td>\n",
       "    </tr>\n",
       "    <tr>\n",
       "      <th>9</th>\n",
       "      <td>Travel &amp; Events</td>\n",
       "      <td>590</td>\n",
       "    </tr>\n",
       "    <tr>\n",
       "      <th>10</th>\n",
       "      <td>Film &amp; Animation</td>\n",
       "      <td>587</td>\n",
       "    </tr>\n",
       "    <tr>\n",
       "      <th>11</th>\n",
       "      <td>Pets &amp; Animals</td>\n",
       "      <td>476</td>\n",
       "    </tr>\n",
       "    <tr>\n",
       "      <th>12</th>\n",
       "      <td>Howto &amp; Style</td>\n",
       "      <td>340</td>\n",
       "    </tr>\n",
       "    <tr>\n",
       "      <th>13</th>\n",
       "      <td>Science &amp; Technology</td>\n",
       "      <td>283</td>\n",
       "    </tr>\n",
       "    <tr>\n",
       "      <th>14</th>\n",
       "      <td>Nonprofits &amp; Activis</td>\n",
       "      <td>227</td>\n",
       "    </tr>\n",
       "    <tr>\n",
       "      <th>15</th>\n",
       "      <td>Shows</td>\n",
       "      <td>18</td>\n",
       "    </tr>\n",
       "  </tbody>\n",
       "</table>\n",
       "</div>\n",
       "    <div class=\"colab-df-buttons\">\n",
       "\n",
       "  <div class=\"colab-df-container\">\n",
       "    <button class=\"colab-df-convert\" onclick=\"convertToInteractive('df-d89faade-a7c3-4a94-8dcd-af8907c13f36')\"\n",
       "            title=\"Convert this dataframe to an interactive table.\"\n",
       "            style=\"display:none;\">\n",
       "\n",
       "  <svg xmlns=\"http://www.w3.org/2000/svg\" height=\"24px\" viewBox=\"0 -960 960 960\">\n",
       "    <path d=\"M120-120v-720h720v720H120Zm60-500h600v-160H180v160Zm220 220h160v-160H400v160Zm0 220h160v-160H400v160ZM180-400h160v-160H180v160Zm440 0h160v-160H620v160ZM180-180h160v-160H180v160Zm440 0h160v-160H620v160Z\"/>\n",
       "  </svg>\n",
       "    </button>\n",
       "\n",
       "  <style>\n",
       "    .colab-df-container {\n",
       "      display:flex;\n",
       "      gap: 12px;\n",
       "    }\n",
       "\n",
       "    .colab-df-convert {\n",
       "      background-color: #E8F0FE;\n",
       "      border: none;\n",
       "      border-radius: 50%;\n",
       "      cursor: pointer;\n",
       "      display: none;\n",
       "      fill: #1967D2;\n",
       "      height: 32px;\n",
       "      padding: 0 0 0 0;\n",
       "      width: 32px;\n",
       "    }\n",
       "\n",
       "    .colab-df-convert:hover {\n",
       "      background-color: #E2EBFA;\n",
       "      box-shadow: 0px 1px 2px rgba(60, 64, 67, 0.3), 0px 1px 3px 1px rgba(60, 64, 67, 0.15);\n",
       "      fill: #174EA6;\n",
       "    }\n",
       "\n",
       "    .colab-df-buttons div {\n",
       "      margin-bottom: 4px;\n",
       "    }\n",
       "\n",
       "    [theme=dark] .colab-df-convert {\n",
       "      background-color: #3B4455;\n",
       "      fill: #D2E3FC;\n",
       "    }\n",
       "\n",
       "    [theme=dark] .colab-df-convert:hover {\n",
       "      background-color: #434B5C;\n",
       "      box-shadow: 0px 1px 3px 1px rgba(0, 0, 0, 0.15);\n",
       "      filter: drop-shadow(0px 1px 2px rgba(0, 0, 0, 0.3));\n",
       "      fill: #FFFFFF;\n",
       "    }\n",
       "  </style>\n",
       "\n",
       "    <script>\n",
       "      const buttonEl =\n",
       "        document.querySelector('#df-d89faade-a7c3-4a94-8dcd-af8907c13f36 button.colab-df-convert');\n",
       "      buttonEl.style.display =\n",
       "        google.colab.kernel.accessAllowed ? 'block' : 'none';\n",
       "\n",
       "      async function convertToInteractive(key) {\n",
       "        const element = document.querySelector('#df-d89faade-a7c3-4a94-8dcd-af8907c13f36');\n",
       "        const dataTable =\n",
       "          await google.colab.kernel.invokeFunction('convertToInteractive',\n",
       "                                                    [key], {});\n",
       "        if (!dataTable) return;\n",
       "\n",
       "        const docLinkHtml = 'Like what you see? Visit the ' +\n",
       "          '<a target=\"_blank\" href=https://colab.research.google.com/notebooks/data_table.ipynb>data table notebook</a>'\n",
       "          + ' to learn more about interactive tables.';\n",
       "        element.innerHTML = '';\n",
       "        dataTable['output_type'] = 'display_data';\n",
       "        await google.colab.output.renderOutput(dataTable, element);\n",
       "        const docLink = document.createElement('div');\n",
       "        docLink.innerHTML = docLinkHtml;\n",
       "        element.appendChild(docLink);\n",
       "      }\n",
       "    </script>\n",
       "  </div>\n",
       "\n",
       "\n",
       "    <div id=\"df-8ee5bf3d-e69e-4186-a3a2-8163f256c429\">\n",
       "      <button class=\"colab-df-quickchart\" onclick=\"quickchart('df-8ee5bf3d-e69e-4186-a3a2-8163f256c429')\"\n",
       "                title=\"Suggest charts\"\n",
       "                style=\"display:none;\">\n",
       "\n",
       "<svg xmlns=\"http://www.w3.org/2000/svg\" height=\"24px\"viewBox=\"0 0 24 24\"\n",
       "     width=\"24px\">\n",
       "    <g>\n",
       "        <path d=\"M19 3H5c-1.1 0-2 .9-2 2v14c0 1.1.9 2 2 2h14c1.1 0 2-.9 2-2V5c0-1.1-.9-2-2-2zM9 17H7v-7h2v7zm4 0h-2V7h2v10zm4 0h-2v-4h2v4z\"/>\n",
       "    </g>\n",
       "</svg>\n",
       "      </button>\n",
       "\n",
       "<style>\n",
       "  .colab-df-quickchart {\n",
       "      --bg-color: #E8F0FE;\n",
       "      --fill-color: #1967D2;\n",
       "      --hover-bg-color: #E2EBFA;\n",
       "      --hover-fill-color: #174EA6;\n",
       "      --disabled-fill-color: #AAA;\n",
       "      --disabled-bg-color: #DDD;\n",
       "  }\n",
       "\n",
       "  [theme=dark] .colab-df-quickchart {\n",
       "      --bg-color: #3B4455;\n",
       "      --fill-color: #D2E3FC;\n",
       "      --hover-bg-color: #434B5C;\n",
       "      --hover-fill-color: #FFFFFF;\n",
       "      --disabled-bg-color: #3B4455;\n",
       "      --disabled-fill-color: #666;\n",
       "  }\n",
       "\n",
       "  .colab-df-quickchart {\n",
       "    background-color: var(--bg-color);\n",
       "    border: none;\n",
       "    border-radius: 50%;\n",
       "    cursor: pointer;\n",
       "    display: none;\n",
       "    fill: var(--fill-color);\n",
       "    height: 32px;\n",
       "    padding: 0;\n",
       "    width: 32px;\n",
       "  }\n",
       "\n",
       "  .colab-df-quickchart:hover {\n",
       "    background-color: var(--hover-bg-color);\n",
       "    box-shadow: 0 1px 2px rgba(60, 64, 67, 0.3), 0 1px 3px 1px rgba(60, 64, 67, 0.15);\n",
       "    fill: var(--button-hover-fill-color);\n",
       "  }\n",
       "\n",
       "  .colab-df-quickchart-complete:disabled,\n",
       "  .colab-df-quickchart-complete:disabled:hover {\n",
       "    background-color: var(--disabled-bg-color);\n",
       "    fill: var(--disabled-fill-color);\n",
       "    box-shadow: none;\n",
       "  }\n",
       "\n",
       "  .colab-df-spinner {\n",
       "    border: 2px solid var(--fill-color);\n",
       "    border-color: transparent;\n",
       "    border-bottom-color: var(--fill-color);\n",
       "    animation:\n",
       "      spin 1s steps(1) infinite;\n",
       "  }\n",
       "\n",
       "  @keyframes spin {\n",
       "    0% {\n",
       "      border-color: transparent;\n",
       "      border-bottom-color: var(--fill-color);\n",
       "      border-left-color: var(--fill-color);\n",
       "    }\n",
       "    20% {\n",
       "      border-color: transparent;\n",
       "      border-left-color: var(--fill-color);\n",
       "      border-top-color: var(--fill-color);\n",
       "    }\n",
       "    30% {\n",
       "      border-color: transparent;\n",
       "      border-left-color: var(--fill-color);\n",
       "      border-top-color: var(--fill-color);\n",
       "      border-right-color: var(--fill-color);\n",
       "    }\n",
       "    40% {\n",
       "      border-color: transparent;\n",
       "      border-right-color: var(--fill-color);\n",
       "      border-top-color: var(--fill-color);\n",
       "    }\n",
       "    60% {\n",
       "      border-color: transparent;\n",
       "      border-right-color: var(--fill-color);\n",
       "    }\n",
       "    80% {\n",
       "      border-color: transparent;\n",
       "      border-right-color: var(--fill-color);\n",
       "      border-bottom-color: var(--fill-color);\n",
       "    }\n",
       "    90% {\n",
       "      border-color: transparent;\n",
       "      border-bottom-color: var(--fill-color);\n",
       "    }\n",
       "  }\n",
       "</style>\n",
       "\n",
       "      <script>\n",
       "        async function quickchart(key) {\n",
       "          const quickchartButtonEl =\n",
       "            document.querySelector('#' + key + ' button');\n",
       "          quickchartButtonEl.disabled = true;  // To prevent multiple clicks.\n",
       "          quickchartButtonEl.classList.add('colab-df-spinner');\n",
       "          try {\n",
       "            const charts = await google.colab.kernel.invokeFunction(\n",
       "                'suggestCharts', [key], {});\n",
       "          } catch (error) {\n",
       "            console.error('Error during call to suggestCharts:', error);\n",
       "          }\n",
       "          quickchartButtonEl.classList.remove('colab-df-spinner');\n",
       "          quickchartButtonEl.classList.add('colab-df-quickchart-complete');\n",
       "        }\n",
       "        (() => {\n",
       "          let quickchartButtonEl =\n",
       "            document.querySelector('#df-8ee5bf3d-e69e-4186-a3a2-8163f256c429 button');\n",
       "          quickchartButtonEl.style.display =\n",
       "            google.colab.kernel.accessAllowed ? 'block' : 'none';\n",
       "        })();\n",
       "      </script>\n",
       "    </div>\n",
       "\n",
       "  <div id=\"id_fac57afa-d8cf-4a34-a5fc-5af9cf91007a\">\n",
       "    <style>\n",
       "      .colab-df-generate {\n",
       "        background-color: #E8F0FE;\n",
       "        border: none;\n",
       "        border-radius: 50%;\n",
       "        cursor: pointer;\n",
       "        display: none;\n",
       "        fill: #1967D2;\n",
       "        height: 32px;\n",
       "        padding: 0 0 0 0;\n",
       "        width: 32px;\n",
       "      }\n",
       "\n",
       "      .colab-df-generate:hover {\n",
       "        background-color: #E2EBFA;\n",
       "        box-shadow: 0px 1px 2px rgba(60, 64, 67, 0.3), 0px 1px 3px 1px rgba(60, 64, 67, 0.15);\n",
       "        fill: #174EA6;\n",
       "      }\n",
       "\n",
       "      [theme=dark] .colab-df-generate {\n",
       "        background-color: #3B4455;\n",
       "        fill: #D2E3FC;\n",
       "      }\n",
       "\n",
       "      [theme=dark] .colab-df-generate:hover {\n",
       "        background-color: #434B5C;\n",
       "        box-shadow: 0px 1px 3px 1px rgba(0, 0, 0, 0.15);\n",
       "        filter: drop-shadow(0px 1px 2px rgba(0, 0, 0, 0.3));\n",
       "        fill: #FFFFFF;\n",
       "      }\n",
       "    </style>\n",
       "    <button class=\"colab-df-generate\" onclick=\"generateWithVariable('category_counts')\"\n",
       "            title=\"Generate code using this dataframe.\"\n",
       "            style=\"display:none;\">\n",
       "\n",
       "  <svg xmlns=\"http://www.w3.org/2000/svg\" height=\"24px\"viewBox=\"0 0 24 24\"\n",
       "       width=\"24px\">\n",
       "    <path d=\"M7,19H8.4L18.45,9,17,7.55,7,17.6ZM5,21V16.75L18.45,3.32a2,2,0,0,1,2.83,0l1.4,1.43a1.91,1.91,0,0,1,.58,1.4,1.91,1.91,0,0,1-.58,1.4L9.25,21ZM18.45,9,17,7.55Zm-12,3A5.31,5.31,0,0,0,4.9,8.1,5.31,5.31,0,0,0,1,6.5,5.31,5.31,0,0,0,4.9,4.9,5.31,5.31,0,0,0,6.5,1,5.31,5.31,0,0,0,8.1,4.9,5.31,5.31,0,0,0,12,6.5,5.46,5.46,0,0,0,6.5,12Z\"/>\n",
       "  </svg>\n",
       "    </button>\n",
       "    <script>\n",
       "      (() => {\n",
       "      const buttonEl =\n",
       "        document.querySelector('#id_fac57afa-d8cf-4a34-a5fc-5af9cf91007a button.colab-df-generate');\n",
       "      buttonEl.style.display =\n",
       "        google.colab.kernel.accessAllowed ? 'block' : 'none';\n",
       "\n",
       "      buttonEl.onclick = () => {\n",
       "        google.colab.notebook.generateWithVariable('category_counts');\n",
       "      }\n",
       "      })();\n",
       "    </script>\n",
       "  </div>\n",
       "\n",
       "    </div>\n",
       "  </div>\n"
      ],
      "text/plain": [
       "                category  Count\n",
       "0         People & Blogs   3946\n",
       "1                  Music   2966\n",
       "2          Entertainment   2252\n",
       "3                 Gaming   1420\n",
       "4                 Sports   1230\n",
       "5                 Comedy   1176\n",
       "6       Autos & Vehicles    798\n",
       "7              Education    644\n",
       "8        News & Politics    636\n",
       "9        Travel & Events    590\n",
       "10      Film & Animation    587\n",
       "11        Pets & Animals    476\n",
       "12         Howto & Style    340\n",
       "13  Science & Technology    283\n",
       "14  Nonprofits & Activis    227\n",
       "15                 Shows     18"
      ]
     },
     "metadata": {},
     "output_type": "display_data"
    }
   ],
   "source": [
    "import matplotlib.pyplot as plt\n",
    "import seaborn as sns\n",
    "import pandas as pd\n",
    "\n",
    "if 'category' in df_with_transcripts.columns:\n",
    "    cat_col = 'category'\n",
    "elif 'category_id' in df_with_transcripts.columns:\n",
    "    cat_col = 'category_id'\n",
    "else:\n",
    "    raise ValueError(\"No category column found. Please check your data.\")\n",
    "\n",
    "print(\"Number of unique categories:\", df_with_transcripts[cat_col].nunique())\n",
    "\n",
    "category_counts = df_with_transcripts[cat_col].value_counts().reset_index()\n",
    "category_counts.columns = [cat_col, 'Count']\n",
    "display(category_counts)"
   ]
  },
  {
   "cell_type": "code",
   "execution_count": null,
   "id": "479ababac8749164",
   "metadata": {
    "colab": {
     "base_uri": "https://localhost:8080/",
     "height": 571
    },
    "executionInfo": {
     "elapsed": 1172,
     "status": "ok",
     "timestamp": 1760525622976,
     "user": {
      "displayName": "KHEMMANAT KIATTIKULPIMOL",
      "userId": "06448714020354424233"
     },
     "user_tz": -420
    },
    "id": "1lL_2-4c9qb2",
    "outputId": "fc8e1477-6c20-4a46-e783-f8ee09c45665"
   },
   "outputs": [
    {
     "data": {
      "image/png": "[encoded data removed]",
      "text/plain": [
       "<Figure size 1800x700 with 2 Axes>"
      ]
     },
     "metadata": {},
     "output_type": "display_data"
    }
   ],
   "source": [
    "import matplotlib.pyplot as plt\n",
    "import seaborn as sns\n",
    "import pandas as pd\n",
    "import numpy as np\n",
    "import textwrap\n",
    "from matplotlib.gridspec import GridSpec\n",
    "\n",
    "if 'category' in df_with_transcripts.columns:\n",
    "    cat_col = 'category'\n",
    "elif 'category_id' in df_with_transcripts.columns:\n",
    "    cat_col = 'category_id'\n",
    "else:\n",
    "    raise ValueError(\"No category column found. Please check your data.\")\n",
    "\n",
    "category_counts = (\n",
    "    df_with_transcripts[cat_col]\n",
    "    .astype(str)\n",
    "    .fillna(\"Unknown\")\n",
    "    .value_counts()\n",
    "    .rename_axis(cat_col)\n",
    "    .reset_index(name='Count')\n",
    ")\n",
    "\n",
    "TOP_N = 12\n",
    "top_df = category_counts.head(TOP_N).copy()\n",
    "other_sum = category_counts['Count'][TOP_N:].sum()\n",
    "if other_sum > 0:\n",
    "    top_df = pd.concat(\n",
    "        [top_df, pd.DataFrame({cat_col: [\"Other\"], \"Count\": [other_sum]})],\n",
    "        ignore_index=True\n",
    "    )\n",
    "\n",
    "top_df = top_df.sort_values(\"Count\", ascending=False).reset_index(drop=True)\n",
    "\n",
    "def wrap_labels(labels, width=16):\n",
    "    return ['\\n'.join(textwrap.wrap(str(l), width=width)) for l in labels]\n",
    "\n",
    "wrapped_labels = wrap_labels(top_df[cat_col], width=16)\n",
    "\n",
    "sns.set_theme(style=\"whitegrid\")\n",
    "plt.rcParams.update({\n",
    "    \"axes.titlesize\": 13,\n",
    "    \"axes.labelsize\": 11,\n",
    "    \"xtick.labelsize\": 10,\n",
    "    \"ytick.labelsize\": 10\n",
    "})\n",
    "\n",
    "fig = plt.figure(figsize=(18, 7), layout=\"constrained\")\n",
    "gs = GridSpec(1, 2, figure=fig, width_ratios=[1.35, 1])\n",
    "\n",
    "fig.suptitle(\"Graph Analysis\", fontsize=18, weight='bold')\n",
    "\n",
    "#  PIE CHART\n",
    "ax_pie = fig.add_subplot(gs[0, 0])\n",
    "counts = top_df[\"Count\"].values\n",
    "labels = top_df[cat_col].astype(str).values\n",
    "\n",
    "explode = np.zeros(len(top_df))\n",
    "if \"Other\" in labels:\n",
    "    explode[list(labels).index(\"Other\")] = 0.03\n",
    "explode = np.where(counts / counts.sum() < 0.05, explode + 0.01, explode)\n",
    "\n",
    "wedges, texts, autotexts = ax_pie.pie(\n",
    "    counts,\n",
    "    labels=None,\n",
    "    autopct=lambda p: f\"{p:.1f}%\\n({int(round(p/100.0*counts.sum())):,})\" if p >= 4 else f\"{p:.1f}%\",\n",
    "    startangle=140,\n",
    "    wedgeprops=dict(linewidth=0.8, edgecolor=\"white\"),\n",
    "    explode=explode,\n",
    "    pctdistance=0.72,\n",
    "    labeldistance=1.03,\n",
    "    textprops={'fontsize': 8}\n",
    ")\n",
    "\n",
    "ax_pie.set_title(\"Pie Chart\", pad=20)\n",
    "ax_pie.set_aspect('equal')\n",
    "\n",
    "legend = ax_pie.legend(\n",
    "    wedges,\n",
    "    wrap_labels(labels, width=22),\n",
    "    title=\"Categories\",\n",
    "    loc=\"center left\",\n",
    "    bbox_to_anchor=(1.02, 0.5),\n",
    "    frameon=False,\n",
    "    borderaxespad=0.0\n",
    ")\n",
    "\n",
    "# HORIZONTAL BAR\n",
    "ax_bar = fig.add_subplot(gs[0, 1])\n",
    "sns.barplot(\n",
    "    ax=ax_bar,\n",
    "    data=top_df,\n",
    "    y=wrapped_labels,\n",
    "    x=\"Count\",\n",
    "    edgecolor=\"black\"\n",
    ")\n",
    "ax_bar.set_title(\"Horizontal Bar Chart\", pad=20)\n",
    "ax_bar.set_xlabel(\"Number of Videos\")\n",
    "ax_bar.set_ylabel(\"Category\")\n",
    "\n",
    "for container in ax_bar.containers:\n",
    "    ax_bar.bar_label(container, fmt=lambda v: f\"{int(v):,}\", padding=3)\n",
    "\n",
    "max_count = top_df[\"Count\"].max()\n",
    "ax_bar.set_xlim(0, max_count * 1.08)\n",
    "\n",
    "plt.show()"
   ]
  }
 ],
 "metadata": {
  "merged_from": [
   "/content/drive/MyDrive/Final EGBI222 Group Project/All Colab/1st Person.ipynb",
   "/content/drive/MyDrive/Final EGBI222 Group Project/All Colab/2nd Person.ipynb",
   "/content/drive/MyDrive/Final EGBI222 Group Project/All Colab/3rd Person.ipynb",
   "/content/drive/MyDrive/Final EGBI222 Group Project/All Colab/4th Person.ipynb",
   "/content/drive/MyDrive/Final EGBI222 Group Project/All Colab/Merge All Files.ipynb",
   "/content/drive/MyDrive/Final EGBI222 Group Project/All Colab/Bag-of-Word and Catagory.ipynb"
  ]
 },
 "nbformat": 4,
 "nbformat_minor": 5
}
